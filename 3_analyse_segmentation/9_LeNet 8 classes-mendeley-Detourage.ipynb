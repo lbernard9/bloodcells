{
 "cells": [
  {
   "cell_type": "markdown",
   "id": "19fbb7d0",
   "metadata": {},
   "source": [
    "###  Modèle type LeNet ajout des blasts et smudge"
   ]
  },
  {
   "cell_type": "code",
   "execution_count": 1,
   "id": "c233544a",
   "metadata": {},
   "outputs": [],
   "source": [
    "%matplotlib inline\n",
    "import numpy as np\n",
    "\n",
    "import matplotlib.pyplot as plt\n",
    "import cv2\n",
    "import seaborn as sns\n",
    "\n",
    "import pandas as pd\n",
    "from sklearn.model_selection import train_test_split\n",
    "\n",
    "from tensorflow.keras.layers import Dense, Dropout, Flatten, Conv2D, Input, MaxPooling2D\n",
    "from tensorflow.keras.optimizers import Adam\n",
    "from tensorflow.keras.models import Sequential\n",
    "\n",
    "from tensorflow.keras.callbacks import EarlyStopping, ReduceLROnPlateau\n",
    "from sklearn import metrics\n",
    "import tensorflow as tf\n"
   ]
  },
  {
   "cell_type": "markdown",
   "id": "eb19c9a4",
   "metadata": {},
   "source": [
    "#### Récupération de la base d'images et création jeu d'évaluation, de test et d'entrainement"
   ]
  },
  {
   "cell_type": "code",
   "execution_count": 2,
   "id": "d9502fdd",
   "metadata": {},
   "outputs": [],
   "source": [
    "data = pd.read_csv('../base_mendeley.csv',index_col=0)"
   ]
  },
  {
   "cell_type": "code",
   "execution_count": 3,
   "id": "e446ca0e",
   "metadata": {},
   "outputs": [],
   "source": [
    "src_img = '../images_detour/'"
   ]
  },
  {
   "cell_type": "code",
   "execution_count": 4,
   "id": "3d8447fa",
   "metadata": {},
   "outputs": [],
   "source": [
    "data['file_path'] = data['filename'].apply(lambda file :  src_img + file)"
   ]
  },
  {
   "cell_type": "code",
   "execution_count": 5,
   "id": "d63221a2",
   "metadata": {},
   "outputs": [
    {
     "data": {
      "text/html": [
       "<div>\n",
       "<style scoped>\n",
       "    .dataframe tbody tr th:only-of-type {\n",
       "        vertical-align: middle;\n",
       "    }\n",
       "\n",
       "    .dataframe tbody tr th {\n",
       "        vertical-align: top;\n",
       "    }\n",
       "\n",
       "    .dataframe thead th {\n",
       "        text-align: right;\n",
       "    }\n",
       "</style>\n",
       "<table border=\"1\" class=\"dataframe\">\n",
       "  <thead>\n",
       "    <tr style=\"text-align: right;\">\n",
       "      <th></th>\n",
       "      <th>file_path</th>\n",
       "      <th>filename</th>\n",
       "      <th>class</th>\n",
       "      <th>size</th>\n",
       "    </tr>\n",
       "  </thead>\n",
       "  <tbody>\n",
       "    <tr>\n",
       "      <th>0</th>\n",
       "      <td>../images_detour/BA_100102.jpg</td>\n",
       "      <td>BA_100102.jpg</td>\n",
       "      <td>basophil</td>\n",
       "      <td>363x360</td>\n",
       "    </tr>\n",
       "    <tr>\n",
       "      <th>1</th>\n",
       "      <td>../images_detour/BA_101381.jpg</td>\n",
       "      <td>BA_101381.jpg</td>\n",
       "      <td>basophil</td>\n",
       "      <td>363x360</td>\n",
       "    </tr>\n",
       "    <tr>\n",
       "      <th>2</th>\n",
       "      <td>../images_detour/BA_101611.jpg</td>\n",
       "      <td>BA_101611.jpg</td>\n",
       "      <td>basophil</td>\n",
       "      <td>363x360</td>\n",
       "    </tr>\n",
       "    <tr>\n",
       "      <th>3</th>\n",
       "      <td>../images_detour/BA_102039.jpg</td>\n",
       "      <td>BA_102039.jpg</td>\n",
       "      <td>basophil</td>\n",
       "      <td>363x360</td>\n",
       "    </tr>\n",
       "    <tr>\n",
       "      <th>4</th>\n",
       "      <td>../images_detour/BA_102750.jpg</td>\n",
       "      <td>BA_102750.jpg</td>\n",
       "      <td>basophil</td>\n",
       "      <td>363x360</td>\n",
       "    </tr>\n",
       "  </tbody>\n",
       "</table>\n",
       "</div>"
      ],
      "text/plain": [
       "                        file_path       filename     class     size\n",
       "0  ../images_detour/BA_100102.jpg  BA_100102.jpg  basophil  363x360\n",
       "1  ../images_detour/BA_101381.jpg  BA_101381.jpg  basophil  363x360\n",
       "2  ../images_detour/BA_101611.jpg  BA_101611.jpg  basophil  363x360\n",
       "3  ../images_detour/BA_102039.jpg  BA_102039.jpg  basophil  363x360\n",
       "4  ../images_detour/BA_102750.jpg  BA_102750.jpg  basophil  363x360"
      ]
     },
     "execution_count": 5,
     "metadata": {},
     "output_type": "execute_result"
    }
   ],
   "source": [
    "data.head()"
   ]
  },
  {
   "cell_type": "code",
   "execution_count": 6,
   "id": "3cb5fd73",
   "metadata": {},
   "outputs": [
    {
     "data": {
      "text/plain": [
       "neutrophil      3329\n",
       "eosinophil      3117\n",
       "ig              2895\n",
       "platelet        2348\n",
       "erythroblast    1551\n",
       "monocyte        1420\n",
       "basophil        1218\n",
       "lymphocyte      1214\n",
       "Name: class, dtype: int64"
      ]
     },
     "execution_count": 6,
     "metadata": {},
     "output_type": "execute_result"
    }
   ],
   "source": [
    "data['class'].value_counts()"
   ]
  },
  {
   "cell_type": "code",
   "execution_count": 7,
   "id": "d357020b",
   "metadata": {},
   "outputs": [],
   "source": [
    "data_train, data_eval = train_test_split(data,test_size=0.2,random_state=123)\n",
    "data_train, data_test = train_test_split(data_train,test_size=0.2,random_state=123)"
   ]
  },
  {
   "cell_type": "markdown",
   "id": "02c639f2",
   "metadata": {},
   "source": [
    "#### Utilisation d'un ImageDataGenerator sans augmentation de données, charge seulement les images"
   ]
  },
  {
   "cell_type": "code",
   "execution_count": 8,
   "id": "ae3df927",
   "metadata": {},
   "outputs": [],
   "source": [
    "def preprocess(x):\n",
    "    img = x/255.\n",
    "    return img"
   ]
  },
  {
   "cell_type": "code",
   "execution_count": 9,
   "id": "af6c4356",
   "metadata": {},
   "outputs": [],
   "source": [
    "from keras.preprocessing.image import ImageDataGenerator\n",
    "data_generator = ImageDataGenerator(preprocessing_function=preprocess)"
   ]
  },
  {
   "cell_type": "code",
   "execution_count": null,
   "id": "eec323c6",
   "metadata": {},
   "outputs": [],
   "source": [
    "data_generator."
   ]
  },
  {
   "cell_type": "code",
   "execution_count": 10,
   "id": "4dbe37bf",
   "metadata": {},
   "outputs": [
    {
     "name": "stderr",
     "output_type": "stream",
     "text": [
      "C:\\Users\\LAURE\\anaconda3\\envs\\Projet\\lib\\site-packages\\keras_preprocessing\\image\\dataframe_iterator.py:279: UserWarning: Found 3 invalid image filename(s) in x_col=\"file_path\". These filename(s) will be ignored.\n",
      "  warnings.warn(\n"
     ]
    },
    {
     "name": "stdout",
     "output_type": "stream",
     "text": [
      "Found 10935 validated image filenames belonging to 8 classes.\n",
      "Found 2734 validated image filenames belonging to 8 classes.\n"
     ]
    },
    {
     "name": "stderr",
     "output_type": "stream",
     "text": [
      "C:\\Users\\LAURE\\anaconda3\\envs\\Projet\\lib\\site-packages\\keras_preprocessing\\image\\dataframe_iterator.py:279: UserWarning: Found 1 invalid image filename(s) in x_col=\"file_path\". These filename(s) will be ignored.\n",
      "  warnings.warn(\n"
     ]
    }
   ],
   "source": [
    "data_train_generator = data_generator.flow_from_dataframe(data_train, directory=None, x_col='file_path',y_col='class',class_mode ='sparse',target_size=(224,224),\n",
    "                                              batch_size=32)\n",
    "\n",
    "data_test_generator = data_generator.flow_from_dataframe(data_test, directory=None, x_col='file_path',y_col='class',class_mode ='sparse',target_size=(224,224),\n",
    "                                              batch_size=32)"
   ]
  },
  {
   "cell_type": "markdown",
   "id": "47ed8693",
   "metadata": {},
   "source": [
    "#### Modèle type LeNet\n",
    "* Couches Dense 1024, 512, 256 \n",
    "* Dropout pour éviter overfitting\n",
    "* Compilation avec Adam"
   ]
  },
  {
   "cell_type": "code",
   "execution_count": 11,
   "id": "a02382ce",
   "metadata": {},
   "outputs": [],
   "source": [
    "# Création Callback pour stopper si stagnation et réduire learning rate\n",
    "cb_early_stopping= EarlyStopping(monitor='val_loss', patience=6,restore_best_weights=True)\n",
    "cb_lr = ReduceLROnPlateau(monitor='val_loss',\n",
    "                                         patience=4,\n",
    "                                         factor=0.5,\n",
    "                                         verbose=2,\n",
    "                                         mode='min')"
   ]
  },
  {
   "cell_type": "code",
   "execution_count": 12,
   "id": "d031f22f",
   "metadata": {},
   "outputs": [],
   "source": [
    "# Création d'un modèle type LeNet\n",
    "def model_LeNet():\n",
    "    model =  Sequential()\n",
    "    model.add(Conv2D(filters = 30  , kernel_size=(5,5), padding='valid', input_shape=(224,224,3), activation='relu'))\n",
    "    model.add(MaxPooling2D(pool_size=(2,2)))\n",
    "    model.add(Conv2D(filters = 16  , kernel_size=(3,3), padding='valid', activation='relu'))\n",
    "    model.add(MaxPooling2D(pool_size=(2,2)))\n",
    "    model.add(Dropout(rate=0.2))\n",
    "    model.add(Flatten())\n",
    "    model.add(Dense(units=1024,activation='relu'))\n",
    "    model.add(Dense(units=512,activation='relu'))\n",
    "    model.add(Dense(units=256,activation='relu'))\n",
    "    model.add(Dense(units=8,activation='softmax')) #8 Classes\n",
    "    #Compilation\n",
    "    model.compile(optimizer='adam', loss='sparse_categorical_crossentropy', metrics=['accuracy'])\n",
    "    return model"
   ]
  },
  {
   "cell_type": "code",
   "execution_count": 13,
   "id": "d780ed33",
   "metadata": {},
   "outputs": [],
   "source": [
    "model = model_LeNet()"
   ]
  },
  {
   "cell_type": "code",
   "execution_count": 14,
   "id": "1a5855fe",
   "metadata": {},
   "outputs": [
    {
     "name": "stdout",
     "output_type": "stream",
     "text": [
      "Epoch 1/16\n",
      "342/342 [==============================] - 615s 2s/step - loss: 0.8236 - accuracy: 0.6824 - val_loss: 0.4641 - val_accuracy: 0.8328\n",
      "Epoch 2/16\n",
      "342/342 [==============================] - 571s 2s/step - loss: 0.4017 - accuracy: 0.8547 - val_loss: 0.3883 - val_accuracy: 0.8639\n",
      "Epoch 3/16\n",
      "342/342 [==============================] - 625s 2s/step - loss: 0.2897 - accuracy: 0.8976 - val_loss: 0.3261 - val_accuracy: 0.8822\n",
      "Epoch 4/16\n",
      "342/342 [==============================] - 588s 2s/step - loss: 0.2059 - accuracy: 0.9257 - val_loss: 0.2844 - val_accuracy: 0.9023\n",
      "Epoch 5/16\n",
      "342/342 [==============================] - 558s 2s/step - loss: 0.1429 - accuracy: 0.9518 - val_loss: 0.5310 - val_accuracy: 0.8325\n",
      "Epoch 6/16\n",
      "342/342 [==============================] - 568s 2s/step - loss: 0.1169 - accuracy: 0.9599 - val_loss: 0.2897 - val_accuracy: 0.9049\n",
      "Epoch 7/16\n",
      "342/342 [==============================] - 750s 2s/step - loss: 0.0837 - accuracy: 0.9703 - val_loss: 0.4432 - val_accuracy: 0.8749\n",
      "Epoch 8/16\n",
      "342/342 [==============================] - ETA: 0s - loss: 0.0544 - accuracy: 0.9811\n",
      "Epoch 00008: ReduceLROnPlateau reducing learning rate to 0.0005000000237487257.\n",
      "342/342 [==============================] - 793s 2s/step - loss: 0.0544 - accuracy: 0.9811 - val_loss: 0.3961 - val_accuracy: 0.8906\n",
      "Epoch 9/16\n",
      "342/342 [==============================] - 697s 2s/step - loss: 0.0145 - accuracy: 0.9953 - val_loss: 0.4156 - val_accuracy: 0.9100\n",
      "Epoch 10/16\n",
      "342/342 [==============================] - 573s 2s/step - loss: 0.0081 - accuracy: 0.9975 - val_loss: 0.4337 - val_accuracy: 0.9140\n"
     ]
    }
   ],
   "source": [
    "#Entrainement\n",
    "history = model.fit(data_train_generator, epochs = 16, batch_size=32, validation_data = data_test_generator,callbacks=[cb_early_stopping,cb_lr])"
   ]
  },
  {
   "cell_type": "markdown",
   "id": "02acbad9",
   "metadata": {},
   "source": [
    "#### Prédiction sur les données d'évaluation"
   ]
  },
  {
   "cell_type": "code",
   "execution_count": 15,
   "id": "2cc6a8a9",
   "metadata": {},
   "outputs": [
    {
     "name": "stdout",
     "output_type": "stream",
     "text": [
      "Found 3416 validated image filenames belonging to 8 classes.\n"
     ]
    }
   ],
   "source": [
    "data_eval_generator = data_generator.flow_from_dataframe(data_eval, directory=None, x_col='file_path',y_col='class',class_mode ='sparse',target_size=(224,224),\n",
    "                                              batch_size=32,shuffle=False)"
   ]
  },
  {
   "cell_type": "code",
   "execution_count": 16,
   "id": "a8435099",
   "metadata": {},
   "outputs": [
    {
     "name": "stdout",
     "output_type": "stream",
     "text": [
      "107/107 [==============================] - 43s 404ms/step - loss: 0.2996 - accuracy: 0.8961\n"
     ]
    },
    {
     "data": {
      "text/plain": [
       "[0.2996336817741394, 0.8960772752761841]"
      ]
     },
     "execution_count": 16,
     "metadata": {},
     "output_type": "execute_result"
    }
   ],
   "source": [
    "model.evaluate(data_eval_generator)"
   ]
  },
  {
   "cell_type": "markdown",
   "id": "c589a5d2",
   "metadata": {},
   "source": [
    " * Score de 90%, +3% avec le détourage"
   ]
  },
  {
   "cell_type": "code",
   "execution_count": 17,
   "id": "ffc35855",
   "metadata": {},
   "outputs": [],
   "source": [
    "#Prédiction\n",
    "predict = model.predict(data_eval_generator)"
   ]
  },
  {
   "cell_type": "code",
   "execution_count": 18,
   "id": "e458feb5",
   "metadata": {},
   "outputs": [
    {
     "name": "stdout",
     "output_type": "stream",
     "text": [
      "              precision    recall  f1-score   support\n",
      "\n",
      "    basophil       0.81      0.90      0.85       222\n",
      "  eosinophil       0.99      0.98      0.98       626\n",
      "erythroblast       0.90      0.84      0.87       309\n",
      "          ig       0.80      0.76      0.78       590\n",
      "  lymphocyte       0.83      0.92      0.87       236\n",
      "    monocyte       0.76      0.76      0.76       302\n",
      "  neutrophil       0.95      0.96      0.95       682\n",
      "    platelet       1.00      0.97      0.98       449\n",
      "\n",
      "    accuracy                           0.90      3416\n",
      "   macro avg       0.88      0.89      0.88      3416\n",
      "weighted avg       0.90      0.90      0.90      3416\n",
      "\n"
     ]
    }
   ],
   "source": [
    "#Classes prédites\n",
    "eval_predict_class = predict.argmax(axis = 1)\n",
    "lst_classes = [key for key, val in data_eval_generator.class_indices.items()]\n",
    "eval_predict_class_name = [lst_classes[i] for i in eval_predict_class]\n",
    "eval_class_name = [lst_classes[i] for i in data_eval_generator.classes]\n",
    "print(metrics.classification_report( eval_class_name,eval_predict_class_name ))"
   ]
  },
  {
   "cell_type": "markdown",
   "id": "0ca2edbc",
   "metadata": {},
   "source": [
    "> Rappel plus faible sur les IG toujours, ainsi que les monocytes"
   ]
  },
  {
   "cell_type": "code",
   "execution_count": 20,
   "id": "05fbd15d",
   "metadata": {},
   "outputs": [
    {
     "data": {
      "text/html": [
       "<div>\n",
       "<style scoped>\n",
       "    .dataframe tbody tr th:only-of-type {\n",
       "        vertical-align: middle;\n",
       "    }\n",
       "\n",
       "    .dataframe tbody tr th {\n",
       "        vertical-align: top;\n",
       "    }\n",
       "\n",
       "    .dataframe thead th {\n",
       "        text-align: right;\n",
       "    }\n",
       "</style>\n",
       "<table border=\"1\" class=\"dataframe\">\n",
       "  <thead>\n",
       "    <tr style=\"text-align: right;\">\n",
       "      <th>Prédiction</th>\n",
       "      <th>basophil</th>\n",
       "      <th>eosinophil</th>\n",
       "      <th>erythroblast</th>\n",
       "      <th>ig</th>\n",
       "      <th>lymphocyte</th>\n",
       "      <th>monocyte</th>\n",
       "      <th>neutrophil</th>\n",
       "      <th>platelet</th>\n",
       "    </tr>\n",
       "    <tr>\n",
       "      <th>Réalité</th>\n",
       "      <th></th>\n",
       "      <th></th>\n",
       "      <th></th>\n",
       "      <th></th>\n",
       "      <th></th>\n",
       "      <th></th>\n",
       "      <th></th>\n",
       "      <th></th>\n",
       "    </tr>\n",
       "  </thead>\n",
       "  <tbody>\n",
       "    <tr>\n",
       "      <th>basophil</th>\n",
       "      <td>200</td>\n",
       "      <td>4</td>\n",
       "      <td>0</td>\n",
       "      <td>8</td>\n",
       "      <td>6</td>\n",
       "      <td>3</td>\n",
       "      <td>1</td>\n",
       "      <td>0</td>\n",
       "    </tr>\n",
       "    <tr>\n",
       "      <th>eosinophil</th>\n",
       "      <td>4</td>\n",
       "      <td>616</td>\n",
       "      <td>1</td>\n",
       "      <td>2</td>\n",
       "      <td>0</td>\n",
       "      <td>1</td>\n",
       "      <td>2</td>\n",
       "      <td>0</td>\n",
       "    </tr>\n",
       "    <tr>\n",
       "      <th>erythroblast</th>\n",
       "      <td>0</td>\n",
       "      <td>0</td>\n",
       "      <td>260</td>\n",
       "      <td>15</td>\n",
       "      <td>24</td>\n",
       "      <td>3</td>\n",
       "      <td>5</td>\n",
       "      <td>2</td>\n",
       "    </tr>\n",
       "    <tr>\n",
       "      <th>ig</th>\n",
       "      <td>36</td>\n",
       "      <td>1</td>\n",
       "      <td>6</td>\n",
       "      <td>450</td>\n",
       "      <td>10</td>\n",
       "      <td>62</td>\n",
       "      <td>25</td>\n",
       "      <td>0</td>\n",
       "    </tr>\n",
       "    <tr>\n",
       "      <th>lymphocyte</th>\n",
       "      <td>2</td>\n",
       "      <td>0</td>\n",
       "      <td>4</td>\n",
       "      <td>9</td>\n",
       "      <td>218</td>\n",
       "      <td>3</td>\n",
       "      <td>0</td>\n",
       "      <td>0</td>\n",
       "    </tr>\n",
       "    <tr>\n",
       "      <th>monocyte</th>\n",
       "      <td>6</td>\n",
       "      <td>1</td>\n",
       "      <td>1</td>\n",
       "      <td>60</td>\n",
       "      <td>4</td>\n",
       "      <td>230</td>\n",
       "      <td>0</td>\n",
       "      <td>0</td>\n",
       "    </tr>\n",
       "    <tr>\n",
       "      <th>neutrophil</th>\n",
       "      <td>0</td>\n",
       "      <td>3</td>\n",
       "      <td>3</td>\n",
       "      <td>22</td>\n",
       "      <td>0</td>\n",
       "      <td>2</td>\n",
       "      <td>652</td>\n",
       "      <td>0</td>\n",
       "    </tr>\n",
       "    <tr>\n",
       "      <th>platelet</th>\n",
       "      <td>0</td>\n",
       "      <td>0</td>\n",
       "      <td>13</td>\n",
       "      <td>0</td>\n",
       "      <td>1</td>\n",
       "      <td>0</td>\n",
       "      <td>0</td>\n",
       "      <td>435</td>\n",
       "    </tr>\n",
       "  </tbody>\n",
       "</table>\n",
       "</div>"
      ],
      "text/plain": [
       "Prédiction    basophil  eosinophil  erythroblast   ig  lymphocyte  monocyte  \\\n",
       "Réalité                                                                       \n",
       "basophil           200           4             0    8           6         3   \n",
       "eosinophil           4         616             1    2           0         1   \n",
       "erythroblast         0           0           260   15          24         3   \n",
       "ig                  36           1             6  450          10        62   \n",
       "lymphocyte           2           0             4    9         218         3   \n",
       "monocyte             6           1             1   60           4       230   \n",
       "neutrophil           0           3             3   22           0         2   \n",
       "platelet             0           0            13    0           1         0   \n",
       "\n",
       "Prédiction    neutrophil  platelet  \n",
       "Réalité                             \n",
       "basophil               1         0  \n",
       "eosinophil             2         0  \n",
       "erythroblast           5         2  \n",
       "ig                    25         0  \n",
       "lymphocyte             0         0  \n",
       "monocyte               0         0  \n",
       "neutrophil           652         0  \n",
       "platelet               0       435  "
      ]
     },
     "execution_count": 20,
     "metadata": {},
     "output_type": "execute_result"
    }
   ],
   "source": [
    "pd.crosstab(pd.Series(eval_class_name, name='Réalité'),pd.Series(eval_predict_class_name, name='Prédiction'))"
   ]
  },
  {
   "cell_type": "markdown",
   "id": "2abf213d",
   "metadata": {},
   "source": [
    "> Confusion importante IG/Monocyte et ig/basophil"
   ]
  },
  {
   "cell_type": "code",
   "execution_count": 21,
   "id": "0dd0346e",
   "metadata": {},
   "outputs": [],
   "source": [
    "model.save_weights(\"lenet_8_mendeley_detourage\")"
   ]
  },
  {
   "cell_type": "markdown",
   "id": "70d181b6",
   "metadata": {},
   "source": [
    "\n",
    "### GRAD CAM"
   ]
  },
  {
   "cell_type": "code",
   "execution_count": 22,
   "id": "5bd9e7de",
   "metadata": {},
   "outputs": [],
   "source": [
    "import gradcam"
   ]
  },
  {
   "cell_type": "code",
   "execution_count": 23,
   "id": "717a1bf2",
   "metadata": {},
   "outputs": [
    {
     "name": "stdout",
     "output_type": "stream",
     "text": [
      "Model: \"sequential\"\n",
      "_________________________________________________________________\n",
      "Layer (type)                 Output Shape              Param #   \n",
      "=================================================================\n",
      "conv2d (Conv2D)              (None, 220, 220, 30)      2280      \n",
      "_________________________________________________________________\n",
      "max_pooling2d (MaxPooling2D) (None, 110, 110, 30)      0         \n",
      "_________________________________________________________________\n",
      "conv2d_1 (Conv2D)            (None, 108, 108, 16)      4336      \n",
      "_________________________________________________________________\n",
      "max_pooling2d_1 (MaxPooling2 (None, 54, 54, 16)        0         \n",
      "_________________________________________________________________\n",
      "dropout (Dropout)            (None, 54, 54, 16)        0         \n",
      "_________________________________________________________________\n",
      "flatten (Flatten)            (None, 46656)             0         \n",
      "_________________________________________________________________\n",
      "dense (Dense)                (None, 1024)              47776768  \n",
      "_________________________________________________________________\n",
      "dense_1 (Dense)              (None, 512)               524800    \n",
      "_________________________________________________________________\n",
      "dense_2 (Dense)              (None, 256)               131328    \n",
      "_________________________________________________________________\n",
      "dense_3 (Dense)              (None, 8)                 2056      \n",
      "=================================================================\n",
      "Total params: 48,441,568\n",
      "Trainable params: 48,441,568\n",
      "Non-trainable params: 0\n",
      "_________________________________________________________________\n"
     ]
    }
   ],
   "source": [
    "model.summary()"
   ]
  },
  {
   "cell_type": "code",
   "execution_count": 24,
   "id": "1a42f731",
   "metadata": {},
   "outputs": [],
   "source": [
    "img_size = (224, 224)\n",
    "last_conv_layer_name = \"conv2d_1\""
   ]
  },
  {
   "cell_type": "markdown",
   "id": "b42b0a94",
   "metadata": {},
   "source": [
    "##### BASOPHIL"
   ]
  },
  {
   "cell_type": "code",
   "execution_count": 25,
   "id": "0f241d3e",
   "metadata": {},
   "outputs": [
    {
     "data": {
      "image/png": "[encoded data removed]",
      "text/plain": [
       "<Figure size 576x360 with 3 Axes>"
      ]
     },
     "metadata": {
      "needs_background": "light"
     },
     "output_type": "display_data"
    }
   ],
   "source": [
    "path = data[data['filename']=='BA_799126.jpg']['file_path'].values[0]\n",
    "gradcam.display_headmap(preprocess, path,(224,224), model, last_conv_layer_name,pred_index=0)"
   ]
  },
  {
   "cell_type": "markdown",
   "id": "c24e1228",
   "metadata": {},
   "source": [
    "##### EOSINOPHIL"
   ]
  },
  {
   "cell_type": "code",
   "execution_count": 26,
   "id": "1059a143",
   "metadata": {},
   "outputs": [
    {
     "data": {
      "image/png": "[encoded data removed]",
      "text/plain": [
       "<Figure size 576x360 with 3 Axes>"
      ]
     },
     "metadata": {
      "needs_background": "light"
     },
     "output_type": "display_data"
    }
   ],
   "source": [
    "path = data[data['filename']=='EO_336686.jpg']['file_path'].values[0]\n",
    "gradcam.display_headmap(preprocess, path, (224,224),model, last_conv_layer_name,pred_index=1)"
   ]
  },
  {
   "cell_type": "markdown",
   "id": "2e01c597",
   "metadata": {},
   "source": [
    "##### ERYTHROBLAST"
   ]
  },
  {
   "cell_type": "code",
   "execution_count": 27,
   "id": "9d123324",
   "metadata": {},
   "outputs": [
    {
     "data": {
      "image/png": "[encoded data removed]",
      "text/plain": [
       "<Figure size 576x360 with 3 Axes>"
      ]
     },
     "metadata": {
      "needs_background": "light"
     },
     "output_type": "display_data"
    }
   ],
   "source": [
    "path = data[data['filename']=='ERB_763618.jpg']['file_path'].values[0]\n",
    "gradcam.display_headmap(preprocess, path, (224,224),model, last_conv_layer_name,pred_index=2)"
   ]
  },
  {
   "cell_type": "markdown",
   "id": "ee8c1f9d",
   "metadata": {},
   "source": [
    "##### IG"
   ]
  },
  {
   "cell_type": "code",
   "execution_count": 28,
   "id": "6dcddc34",
   "metadata": {},
   "outputs": [
    {
     "data": {
      "image/png": "[encoded data removed]",
      "text/plain": [
       "<Figure size 576x360 with 3 Axes>"
      ]
     },
     "metadata": {
      "needs_background": "light"
     },
     "output_type": "display_data"
    }
   ],
   "source": [
    "path = data[data['filename']=='MMY_353176.jpg']['file_path'].values[0]\n",
    "gradcam.display_headmap(preprocess, path, (224,224),model, last_conv_layer_name,pred_index=3)"
   ]
  },
  {
   "cell_type": "markdown",
   "id": "1d7016aa",
   "metadata": {},
   "source": [
    "##### LYMPHOCYTE"
   ]
  },
  {
   "cell_type": "code",
   "execution_count": 29,
   "id": "0b419986",
   "metadata": {},
   "outputs": [
    {
     "data": {
      "image/png": "[encoded data removed]",
      "text/plain": [
       "<Figure size 576x360 with 3 Axes>"
      ]
     },
     "metadata": {
      "needs_background": "light"
     },
     "output_type": "display_data"
    }
   ],
   "source": [
    "path = data[data['filename']=='LY_875873.jpg']['file_path'].values[0]\n",
    "gradcam.display_headmap(preprocess, path, (224,224),model, last_conv_layer_name,pred_index=4)"
   ]
  },
  {
   "cell_type": "markdown",
   "id": "aa39d7f6",
   "metadata": {},
   "source": [
    "##### MONOCYTE"
   ]
  },
  {
   "cell_type": "code",
   "execution_count": 30,
   "id": "d95d2f5e",
   "metadata": {},
   "outputs": [
    {
     "data": {
      "image/png": "[encoded data removed]",
      "text/plain": [
       "<Figure size 576x360 with 3 Axes>"
      ]
     },
     "metadata": {
      "needs_background": "light"
     },
     "output_type": "display_data"
    }
   ],
   "source": [
    "path = data[data['filename']=='MO_214087.jpg']['file_path'].values[0]\n",
    "gradcam.display_headmap(preprocess, path, (224,224),model, last_conv_layer_name,pred_index=5)"
   ]
  },
  {
   "cell_type": "markdown",
   "id": "7cee7eb7",
   "metadata": {},
   "source": [
    "##### NEUTROPHIL"
   ]
  },
  {
   "cell_type": "code",
   "execution_count": 31,
   "id": "a4420cf1",
   "metadata": {},
   "outputs": [
    {
     "data": {
      "image/png": "[encoded data removed]",
      "text/plain": [
       "<Figure size 576x360 with 3 Axes>"
      ]
     },
     "metadata": {
      "needs_background": "light"
     },
     "output_type": "display_data"
    }
   ],
   "source": [
    "path = data[data['filename']=='BNE_495973.jpg']['file_path'].values[0]\n",
    "gradcam.display_headmap(preprocess, path, (224,224),model, last_conv_layer_name,pred_index=6)"
   ]
  },
  {
   "cell_type": "markdown",
   "id": "92123e72",
   "metadata": {},
   "source": [
    "##### PLATELET"
   ]
  },
  {
   "cell_type": "code",
   "execution_count": 32,
   "id": "5ab2a6ae",
   "metadata": {},
   "outputs": [
    {
     "data": {
      "image/png": "[encoded data removed]",
      "text/plain": [
       "<Figure size 576x360 with 3 Axes>"
      ]
     },
     "metadata": {
      "needs_background": "light"
     },
     "output_type": "display_data"
    }
   ],
   "source": [
    "path = data[data['filename']=='PLATELET_57415.jpg']['file_path'].values[0]\n",
    "gradcam.display_headmap(preprocess, path, (224,224),model, last_conv_layer_name,pred_index=7)"
   ]
  },
  {
   "cell_type": "code",
   "execution_count": null,
   "id": "7920f94f",
   "metadata": {},
   "outputs": [],
   "source": []
  }
 ],
 "metadata": {
  "kernelspec": {
   "display_name": "Python 3 (ipykernel)",
   "language": "python",
   "name": "python3"
  },
  "language_info": {
   "codemirror_mode": {
    "name": "ipython",
    "version": 3
   },
   "file_extension": ".py",
   "mimetype": "text/x-python",
   "name": "python",
   "nbconvert_exporter": "python",
   "pygments_lexer": "ipython3",
   "version": "3.8.11"
  }
 },
 "nbformat": 4,
 "nbformat_minor": 5
}
