{
 "cells": [
  {
   "cell_type": "markdown",
   "id": "19fbb7d0",
   "metadata": {},
   "source": [
    "###  Modèle type LeNet ajout des blasts et smudge"
   ]
  },
  {
   "cell_type": "code",
   "execution_count": 48,
   "id": "c233544a",
   "metadata": {},
   "outputs": [],
   "source": [
    "%matplotlib inline\n",
    "import numpy as np\n",
    "\n",
    "import matplotlib.pyplot as plt\n",
    "import cv2\n",
    "import seaborn as sns\n",
    "\n",
    "import pandas as pd\n",
    "from sklearn.model_selection import train_test_split\n",
    "\n",
    "from tensorflow.keras.layers import Dense, Dropout, Flatten, Conv2D, Input, MaxPooling2D\n",
    "from tensorflow.keras.optimizers import Adam\n",
    "from tensorflow.keras.models import Sequential\n",
    "\n",
    "from tensorflow.keras.callbacks import EarlyStopping, ReduceLROnPlateau\n",
    "from sklearn import metrics\n",
    "import tensorflow as tf\n"
   ]
  },
  {
   "cell_type": "markdown",
   "id": "eb19c9a4",
   "metadata": {},
   "source": [
    "#### Récupération de la base d'images et création jeu d'évaluation, de test et d'entrainement"
   ]
  },
  {
   "cell_type": "code",
   "execution_count": 2,
   "id": "d9502fdd",
   "metadata": {},
   "outputs": [],
   "source": [
    "data = pd.read_csv('../base_apl_aml.csv',index_col=0)"
   ]
  },
  {
   "cell_type": "code",
   "execution_count": 3,
   "id": "4a80b25e",
   "metadata": {},
   "outputs": [],
   "source": [
    "lst_classes = {'basophil':0,'blast':1,'eosinophil':2,\n",
    "               'erythroblast':3,'ig':4,'lymphocyte':5,'monocyte':6,'neutrophil':7,'platelet':8,'smudge':9}"
   ]
  },
  {
   "cell_type": "code",
   "execution_count": 4,
   "id": "75904fd6",
   "metadata": {},
   "outputs": [],
   "source": [
    "data['label'] = data['class'].apply(lambda cat: lst_classes[cat])"
   ]
  },
  {
   "cell_type": "code",
   "execution_count": 5,
   "id": "d63221a2",
   "metadata": {},
   "outputs": [
    {
     "data": {
      "text/html": [
       "<div>\n",
       "<style scoped>\n",
       "    .dataframe tbody tr th:only-of-type {\n",
       "        vertical-align: middle;\n",
       "    }\n",
       "\n",
       "    .dataframe tbody tr th {\n",
       "        vertical-align: top;\n",
       "    }\n",
       "\n",
       "    .dataframe thead th {\n",
       "        text-align: right;\n",
       "    }\n",
       "</style>\n",
       "<table border=\"1\" class=\"dataframe\">\n",
       "  <thead>\n",
       "    <tr style=\"text-align: right;\">\n",
       "      <th></th>\n",
       "      <th>Patient_ID</th>\n",
       "      <th>file_path</th>\n",
       "      <th>filename</th>\n",
       "      <th>class</th>\n",
       "      <th>size</th>\n",
       "      <th>label</th>\n",
       "    </tr>\n",
       "  </thead>\n",
       "  <tbody>\n",
       "    <tr>\n",
       "      <th>0</th>\n",
       "      <td>Patient_00</td>\n",
       "      <td>../images_apl_aml/All/All/Patient_00/Signed sl...</td>\n",
       "      <td>BL_15336348.jpg</td>\n",
       "      <td>blast</td>\n",
       "      <td>(363, 360, 3)</td>\n",
       "      <td>1</td>\n",
       "    </tr>\n",
       "    <tr>\n",
       "      <th>1</th>\n",
       "      <td>Patient_00</td>\n",
       "      <td>../images_apl_aml/All/All/Patient_00/Signed sl...</td>\n",
       "      <td>BL_15336349.jpg</td>\n",
       "      <td>blast</td>\n",
       "      <td>(363, 360, 3)</td>\n",
       "      <td>1</td>\n",
       "    </tr>\n",
       "    <tr>\n",
       "      <th>2</th>\n",
       "      <td>Patient_00</td>\n",
       "      <td>../images_apl_aml/All/All/Patient_00/Signed sl...</td>\n",
       "      <td>BL_15336361.jpg</td>\n",
       "      <td>blast</td>\n",
       "      <td>(363, 360, 3)</td>\n",
       "      <td>1</td>\n",
       "    </tr>\n",
       "    <tr>\n",
       "      <th>3</th>\n",
       "      <td>Patient_00</td>\n",
       "      <td>../images_apl_aml/All/All/Patient_00/Signed sl...</td>\n",
       "      <td>BL_15336369.jpg</td>\n",
       "      <td>blast</td>\n",
       "      <td>(363, 360, 3)</td>\n",
       "      <td>1</td>\n",
       "    </tr>\n",
       "    <tr>\n",
       "      <th>4</th>\n",
       "      <td>Patient_00</td>\n",
       "      <td>../images_apl_aml/All/All/Patient_00/Signed sl...</td>\n",
       "      <td>BL_15336376.jpg</td>\n",
       "      <td>blast</td>\n",
       "      <td>(363, 360, 3)</td>\n",
       "      <td>1</td>\n",
       "    </tr>\n",
       "  </tbody>\n",
       "</table>\n",
       "</div>"
      ],
      "text/plain": [
       "   Patient_ID                                          file_path  \\\n",
       "0  Patient_00  ../images_apl_aml/All/All/Patient_00/Signed sl...   \n",
       "1  Patient_00  ../images_apl_aml/All/All/Patient_00/Signed sl...   \n",
       "2  Patient_00  ../images_apl_aml/All/All/Patient_00/Signed sl...   \n",
       "3  Patient_00  ../images_apl_aml/All/All/Patient_00/Signed sl...   \n",
       "4  Patient_00  ../images_apl_aml/All/All/Patient_00/Signed sl...   \n",
       "\n",
       "          filename  class           size  label  \n",
       "0  BL_15336348.jpg  blast  (363, 360, 3)      1  \n",
       "1  BL_15336349.jpg  blast  (363, 360, 3)      1  \n",
       "2  BL_15336361.jpg  blast  (363, 360, 3)      1  \n",
       "3  BL_15336369.jpg  blast  (363, 360, 3)      1  \n",
       "4  BL_15336376.jpg  blast  (363, 360, 3)      1  "
      ]
     },
     "execution_count": 5,
     "metadata": {},
     "output_type": "execute_result"
    }
   ],
   "source": [
    "data.head()"
   ]
  },
  {
   "cell_type": "code",
   "execution_count": 6,
   "id": "3cb5fd73",
   "metadata": {},
   "outputs": [
    {
     "data": {
      "text/plain": [
       "lymphocyte      3404\n",
       "blast           3296\n",
       "smudge          2909\n",
       "neutrophil      2071\n",
       "monocyte        1299\n",
       "ig               920\n",
       "erythroblast     517\n",
       "eosinophil       108\n",
       "platelet          66\n",
       "basophil          53\n",
       "Name: class, dtype: int64"
      ]
     },
     "execution_count": 6,
     "metadata": {},
     "output_type": "execute_result"
    }
   ],
   "source": [
    "data['class'].value_counts()"
   ]
  },
  {
   "cell_type": "code",
   "execution_count": 12,
   "id": "f49e6df6",
   "metadata": {},
   "outputs": [],
   "source": [
    "data['id'] = data['Patient_ID'].apply(lambda p_id: int(p_id[8:]))"
   ]
  },
  {
   "cell_type": "code",
   "execution_count": 28,
   "id": "d357020b",
   "metadata": {},
   "outputs": [],
   "source": [
    "data_train = data[data['id']<75]\n",
    "data_test = data[(data['id']>=75) & (data['id']<90)]\n",
    "data_eval = data[(data['id']>=90) ]"
   ]
  },
  {
   "cell_type": "markdown",
   "id": "02c639f2",
   "metadata": {},
   "source": [
    "#### Utilisation d'un ImageDataGenerator pour augmentation de données, surtout pour les cellules ayant peu de données"
   ]
  },
  {
   "cell_type": "code",
   "execution_count": 32,
   "id": "ae3df927",
   "metadata": {},
   "outputs": [],
   "source": [
    "def preprocess(x):\n",
    "    img = x/255.\n",
    "    return img"
   ]
  },
  {
   "cell_type": "code",
   "execution_count": 42,
   "id": "af6c4356",
   "metadata": {},
   "outputs": [],
   "source": [
    "from keras.preprocessing.image import ImageDataGenerator\n",
    "train_generator = ImageDataGenerator(preprocessing_function=preprocess,rotation_range=180, horizontal_flip=True, vertical_flip=True)\n",
    "test_generator = ImageDataGenerator(preprocessing_function=preprocess)"
   ]
  },
  {
   "cell_type": "code",
   "execution_count": 43,
   "id": "4dbe37bf",
   "metadata": {},
   "outputs": [
    {
     "name": "stdout",
     "output_type": "stream",
     "text": [
      "Found 10542 validated image filenames belonging to 10 classes.\n",
      "Found 1988 validated image filenames belonging to 10 classes.\n"
     ]
    }
   ],
   "source": [
    "data_train_generator = train_generator.flow_from_dataframe(data_train, directory=None, x_col='file_path',y_col='class',class_mode ='sparse',target_size=(224,224),\n",
    "                                              batch_size=32)\n",
    "\n",
    "data_test_generator = test_generator.flow_from_dataframe(data_test, directory=None, x_col='file_path',y_col='class',class_mode ='sparse',target_size=(224,224),\n",
    "                                              batch_size=32)"
   ]
  },
  {
   "cell_type": "markdown",
   "id": "47ed8693",
   "metadata": {},
   "source": [
    "#### Modèle type LeNet\n",
    "* Couches Dense 1024, 512, 256 \n",
    "* Dropout pour éviter overfitting\n",
    "* Compilation avec Adam"
   ]
  },
  {
   "cell_type": "code",
   "execution_count": 49,
   "id": "a02382ce",
   "metadata": {},
   "outputs": [],
   "source": [
    "# Création Callback pour stopper si stagnation et réduire learning rate\n",
    "cb_early_stopping= EarlyStopping(monitor='val_loss', patience=6,restore_best_weights=True)\n",
    "cb_lr = ReduceLROnPlateau(monitor='val_loss',\n",
    "                                         patience=4,\n",
    "                                         factor=0.5,\n",
    "                                         verbose=2,\n",
    "                                         mode='min')"
   ]
  },
  {
   "cell_type": "code",
   "execution_count": 54,
   "id": "d031f22f",
   "metadata": {},
   "outputs": [],
   "source": [
    "# Création d'un modèle type LeNet\n",
    "def model_LeNet():\n",
    "    model =  Sequential()\n",
    "    model.add(Conv2D(filters = 30  , kernel_size=(5,5), padding='valid', input_shape=(224,224,3), activation='relu'))\n",
    "    model.add(MaxPooling2D(pool_size=(2,2)))\n",
    "    model.add(Conv2D(filters = 16  , kernel_size=(3,3), padding='valid', activation='relu'))\n",
    "    model.add(MaxPooling2D(pool_size=(2,2)))\n",
    "    model.add(Dropout(rate=0.2))\n",
    "    model.add(Flatten())\n",
    "    model.add(Dense(units=1024,activation='relu'))\n",
    "    model.add(Dense(units=512,activation='relu'))\n",
    "    model.add(Dense(units=256,activation='relu'))\n",
    "    model.add(Dense(units=10,activation='softmax')) #10 Classes\n",
    "    #Compilation\n",
    "    model.compile(optimizer='adam', loss='sparse_categorical_crossentropy', metrics=['accuracy'])\n",
    "    return model"
   ]
  },
  {
   "cell_type": "code",
   "execution_count": 55,
   "id": "d780ed33",
   "metadata": {},
   "outputs": [],
   "source": [
    "model = model_LeNet()"
   ]
  },
  {
   "cell_type": "code",
   "execution_count": 56,
   "id": "1a5855fe",
   "metadata": {},
   "outputs": [
    {
     "name": "stdout",
     "output_type": "stream",
     "text": [
      "Epoch 1/16\n",
      "330/330 [==============================] - 595s 2s/step - loss: 1.4846 - accuracy: 0.4930 - val_loss: 0.9925 - val_accuracy: 0.7168\n",
      "Epoch 2/16\n",
      "330/330 [==============================] - 611s 2s/step - loss: 1.0866 - accuracy: 0.6343 - val_loss: 1.1051 - val_accuracy: 0.6625\n",
      "Epoch 3/16\n",
      "330/330 [==============================] - 598s 2s/step - loss: 0.9633 - accuracy: 0.6758 - val_loss: 0.8763 - val_accuracy: 0.7500\n",
      "Epoch 4/16\n",
      "330/330 [==============================] - 582s 2s/step - loss: 0.8910 - accuracy: 0.7092 - val_loss: 0.7961 - val_accuracy: 0.7706\n",
      "Epoch 5/16\n",
      "330/330 [==============================] - 566s 2s/step - loss: 0.8284 - accuracy: 0.7333 - val_loss: 0.8613 - val_accuracy: 0.7349\n",
      "Epoch 6/16\n",
      "330/330 [==============================] - 548s 2s/step - loss: 0.7950 - accuracy: 0.7463 - val_loss: 0.8230 - val_accuracy: 0.7329\n",
      "Epoch 7/16\n",
      "330/330 [==============================] - 548s 2s/step - loss: 0.7375 - accuracy: 0.7634 - val_loss: 0.9133 - val_accuracy: 0.6328\n",
      "Epoch 8/16\n",
      "330/330 [==============================] - 554s 2s/step - loss: 0.7120 - accuracy: 0.7706 - val_loss: 0.7746 - val_accuracy: 0.7238\n",
      "Epoch 9/16\n",
      "330/330 [==============================] - 545s 2s/step - loss: 0.7008 - accuracy: 0.7682 - val_loss: 0.8019 - val_accuracy: 0.7198\n",
      "Epoch 10/16\n",
      "330/330 [==============================] - 543s 2s/step - loss: 0.6515 - accuracy: 0.7839 - val_loss: 0.7207 - val_accuracy: 0.7641\n",
      "Epoch 11/16\n",
      "330/330 [==============================] - 564s 2s/step - loss: 0.6458 - accuracy: 0.7842 - val_loss: 0.8937 - val_accuracy: 0.7208\n",
      "Epoch 12/16\n",
      "330/330 [==============================] - 545s 2s/step - loss: 0.6207 - accuracy: 0.7990 - val_loss: 0.7506 - val_accuracy: 0.7691\n",
      "Epoch 13/16\n",
      "330/330 [==============================] - 544s 2s/step - loss: 0.5979 - accuracy: 0.8046 - val_loss: 0.8067 - val_accuracy: 0.7379\n",
      "Epoch 14/16\n",
      "330/330 [==============================] - 553s 2s/step - loss: 0.6008 - accuracy: 0.8026 - val_loss: 0.7139 - val_accuracy: 0.7646\n",
      "Epoch 15/16\n",
      "330/330 [==============================] - 548s 2s/step - loss: 0.5927 - accuracy: 0.8006 - val_loss: 0.7095 - val_accuracy: 0.7912\n",
      "Epoch 16/16\n",
      "330/330 [==============================] - 545s 2s/step - loss: 0.5673 - accuracy: 0.8111 - val_loss: 0.8105 - val_accuracy: 0.7359\n"
     ]
    }
   ],
   "source": [
    "#Entrainement\n",
    "history = model.fit(data_train_generator, epochs = 16, batch_size=32, validation_data = data_test_generator,callbacks=[cb_early_stopping,cb_lr])"
   ]
  },
  {
   "cell_type": "markdown",
   "id": "02acbad9",
   "metadata": {},
   "source": [
    "#### Prédiction sur les données d'évaluation"
   ]
  },
  {
   "cell_type": "code",
   "execution_count": 60,
   "id": "2cc6a8a9",
   "metadata": {},
   "outputs": [
    {
     "name": "stdout",
     "output_type": "stream",
     "text": [
      "Found 2113 validated image filenames belonging to 10 classes.\n"
     ]
    }
   ],
   "source": [
    "test_generator = ImageDataGenerator(preprocessing_function=preprocess)\n",
    "data_eval_generator = test_generator.flow_from_dataframe(data_eval, directory=None, x_col='file_path',y_col='class',class_mode ='sparse',target_size=(224,224),\n",
    "                                              batch_size=32,shuffle=False)"
   ]
  },
  {
   "cell_type": "code",
   "execution_count": 62,
   "id": "a8435099",
   "metadata": {},
   "outputs": [
    {
     "name": "stdout",
     "output_type": "stream",
     "text": [
      "67/67 [==============================] - 29s 429ms/step - loss: 0.6929 - accuracy: 0.7648\n"
     ]
    },
    {
     "data": {
      "text/plain": [
       "[0.692894697189331, 0.7647894024848938]"
      ]
     },
     "execution_count": 62,
     "metadata": {},
     "output_type": "execute_result"
    }
   ],
   "source": [
    "model.evaluate(data_eval_generator)"
   ]
  },
  {
   "cell_type": "markdown",
   "id": "c589a5d2",
   "metadata": {},
   "source": [
    " * Score de 76%"
   ]
  },
  {
   "cell_type": "code",
   "execution_count": 64,
   "id": "ffc35855",
   "metadata": {},
   "outputs": [],
   "source": [
    "#Prédiction\n",
    "predict = model.predict(data_eval_generator)"
   ]
  },
  {
   "cell_type": "code",
   "execution_count": 66,
   "id": "e458feb5",
   "metadata": {},
   "outputs": [
    {
     "name": "stdout",
     "output_type": "stream",
     "text": [
      "              precision    recall  f1-score   support\n",
      "\n",
      "    basophil       0.00      0.00      0.00         8\n",
      "       blast       0.66      0.89      0.76       372\n",
      "  eosinophil       0.00      0.00      0.00        16\n",
      "erythroblast       0.79      0.94      0.86       202\n",
      "          ig       0.18      0.01      0.03       142\n",
      "  lymphocyte       0.87      0.90      0.89       448\n",
      "    monocyte       0.48      0.37      0.41       189\n",
      "  neutrophil       0.94      0.97      0.95       320\n",
      "    platelet       0.00      0.00      0.00        22\n",
      "      smudge       0.74      0.79      0.76       394\n",
      "\n",
      "    accuracy                           0.76      2113\n",
      "   macro avg       0.47      0.49      0.47      2113\n",
      "weighted avg       0.71      0.76      0.73      2113\n",
      "\n"
     ]
    },
    {
     "name": "stderr",
     "output_type": "stream",
     "text": [
      "C:\\Users\\LAURE\\anaconda3\\envs\\Projet\\lib\\site-packages\\sklearn\\metrics\\_classification.py:1248: UndefinedMetricWarning: Precision and F-score are ill-defined and being set to 0.0 in labels with no predicted samples. Use `zero_division` parameter to control this behavior.\n",
      "  _warn_prf(average, modifier, msg_start, len(result))\n",
      "C:\\Users\\LAURE\\anaconda3\\envs\\Projet\\lib\\site-packages\\sklearn\\metrics\\_classification.py:1248: UndefinedMetricWarning: Precision and F-score are ill-defined and being set to 0.0 in labels with no predicted samples. Use `zero_division` parameter to control this behavior.\n",
      "  _warn_prf(average, modifier, msg_start, len(result))\n",
      "C:\\Users\\LAURE\\anaconda3\\envs\\Projet\\lib\\site-packages\\sklearn\\metrics\\_classification.py:1248: UndefinedMetricWarning: Precision and F-score are ill-defined and being set to 0.0 in labels with no predicted samples. Use `zero_division` parameter to control this behavior.\n",
      "  _warn_prf(average, modifier, msg_start, len(result))\n"
     ]
    }
   ],
   "source": [
    "#Classes prédites\n",
    "eval_predict_class = predict.argmax(axis = 1)\n",
    "lst_classes = [key for key, val in data_eval_generator.class_indices.items()]\n",
    "eval_predict_class_name = [lst_classes[i] for i in eval_predict_class]\n",
    "eval_class_name = [lst_classes[i] for i in data_eval_generator.classes]\n",
    "print(metrics.classification_report( eval_class_name,eval_predict_class_name ))"
   ]
  }
 ],
 "metadata": {
  "kernelspec": {
   "display_name": "Python 3 (ipykernel)",
   "language": "python",
   "name": "python3"
  },
  "language_info": {
   "codemirror_mode": {
    "name": "ipython",
    "version": 3
   },
   "file_extension": ".py",
   "mimetype": "text/x-python",
   "name": "python",
   "nbconvert_exporter": "python",
   "pygments_lexer": "ipython3",
   "version": "3.8.11"
  }
 },
 "nbformat": 4,
 "nbformat_minor": 5
}
