{
 "cells": [
  {
   "cell_type": "markdown",
   "id": "e21a4745",
   "metadata": {},
   "source": [
    "#### Extraction features avec VGG16"
   ]
  },
  {
   "cell_type": "code",
   "execution_count": 1,
   "id": "4fa7c521",
   "metadata": {},
   "outputs": [],
   "source": [
    "%matplotlib inline\n",
    "import numpy as np\n",
    "\n",
    "import matplotlib.pyplot as plt\n",
    "import cv2\n",
    "import seaborn as sns\n",
    "\n",
    "import pandas as pd\n",
    "from sklearn.model_selection import train_test_split\n",
    "from sklearn import metrics\n",
    "from keras.models import load_model\n",
    "from keras.preprocessing.image import ImageDataGenerator\n",
    "from keras.applications.vgg16 import preprocess_input\n",
    "from tensorflow.keras.models import Model\n",
    "from sklearn.svm import SVC\n",
    "from sklearn.ensemble import RandomForestClassifier "
   ]
  },
  {
   "cell_type": "code",
   "execution_count": 2,
   "id": "0c1b0a19",
   "metadata": {},
   "outputs": [],
   "source": [
    "#Charge le modèle VGG16 entrainé sur les 8 dernières couches\n",
    "model = load_model('vgg16_8')"
   ]
  },
  {
   "cell_type": "code",
   "execution_count": 3,
   "id": "09f0b0bf",
   "metadata": {},
   "outputs": [
    {
     "name": "stdout",
     "output_type": "stream",
     "text": [
      "Model: \"sequential_1\"\n",
      "_________________________________________________________________\n",
      "Layer (type)                 Output Shape              Param #   \n",
      "=================================================================\n",
      "vgg16 (Functional)           (None, None, None, 512)   14714688  \n",
      "_________________________________________________________________\n",
      "global_average_pooling2d_1 ( (None, 512)               0         \n",
      "_________________________________________________________________\n",
      "dense_4 (Dense)              (None, 1024)              525312    \n",
      "_________________________________________________________________\n",
      "dense_5 (Dense)              (None, 512)               524800    \n",
      "_________________________________________________________________\n",
      "dense_6 (Dense)              (None, 256)               131328    \n",
      "_________________________________________________________________\n",
      "dense_7 (Dense)              (None, 8)                 2056      \n",
      "=================================================================\n",
      "Total params: 15,898,184\n",
      "Trainable params: 15,898,184\n",
      "Non-trainable params: 0\n",
      "_________________________________________________________________\n"
     ]
    }
   ],
   "source": [
    "model.summary()"
   ]
  },
  {
   "cell_type": "code",
   "execution_count": 4,
   "id": "7509eb2e",
   "metadata": {},
   "outputs": [],
   "source": [
    "src_img = '../images_mendeley/dataset_redim/'"
   ]
  },
  {
   "cell_type": "markdown",
   "id": "ff0147ba",
   "metadata": {},
   "source": [
    "#### Récupération de la base d'images et création jeu d'évaluation, de test et d'entrainement"
   ]
  },
  {
   "cell_type": "code",
   "execution_count": 5,
   "id": "0226fcee",
   "metadata": {},
   "outputs": [],
   "source": [
    "# Récupère les mêmes bases : train, test et eval\n",
    "data = pd.read_csv('../mendeley_cells_redim.csv',index_col=0)\n",
    "data_train, data_eval = train_test_split(data,test_size=0.2,random_state=123)\n",
    "data_train, data_test = train_test_split(data_train,test_size=0.2,random_state=123)"
   ]
  },
  {
   "cell_type": "code",
   "execution_count": 6,
   "id": "ca2c948c",
   "metadata": {},
   "outputs": [
    {
     "name": "stdout",
     "output_type": "stream",
     "text": [
      "Found 10938 validated image filenames belonging to 8 classes.\n",
      "Found 3419 validated image filenames belonging to 8 classes.\n"
     ]
    }
   ],
   "source": [
    "# ImageDataGenerator pour éviter de charger les images en mémoire\n",
    "# Shuffle à false, pour récupérer les classes correspondantes\n",
    "data_generator = ImageDataGenerator(preprocessing_function=preprocess_input)\n",
    "train_generator = data_generator.flow_from_dataframe(data_train, directory=src_img, x_col='filename',y_col='category',class_mode ='sparse',target_size=(224,224),\n",
    "                                              batch_size=32,shuffle=False)\n",
    "\n",
    "eval_generator = data_generator.flow_from_dataframe(data_eval, directory=src_img, x_col='filename',y_col='category',class_mode ='sparse',target_size=(224,224),\n",
    "                                              batch_size=32,shuffle=False)"
   ]
  },
  {
   "cell_type": "markdown",
   "id": "00297776",
   "metadata": {},
   "source": [
    "##### Extraction de features"
   ]
  },
  {
   "cell_type": "code",
   "execution_count": 7,
   "id": "ce646f3c",
   "metadata": {},
   "outputs": [],
   "source": [
    "intermediate_layer_model = Model(inputs=model.input, outputs=model.layers[2].output)\n",
    "X_train_features = intermediate_layer_model.predict(train_generator)\n",
    "X_eval_features = intermediate_layer_model.predict(eval_generator)"
   ]
  },
  {
   "cell_type": "code",
   "execution_count": 8,
   "id": "00224776",
   "metadata": {},
   "outputs": [],
   "source": [
    "# Classes correspondantes\n",
    "lst_classes = [key for key, val in train_generator.class_indices.items()]\n",
    "train_class_name = [lst_classes[i] for i in train_generator.classes]\n",
    "eval_class_name = [lst_classes[i] for i in eval_generator.classes]"
   ]
  },
  {
   "cell_type": "markdown",
   "id": "a9d334c0",
   "metadata": {},
   "source": [
    "#### Modèle SVC avec features"
   ]
  },
  {
   "cell_type": "code",
   "execution_count": 9,
   "id": "9146e37e",
   "metadata": {},
   "outputs": [
    {
     "data": {
      "text/plain": [
       "0.9853758408891489"
      ]
     },
     "execution_count": 9,
     "metadata": {},
     "output_type": "execute_result"
    }
   ],
   "source": [
    "svm = SVC(C=100)\n",
    "\n",
    "svm.fit(X_train_features, train_class_name)\n",
    "svm.score(X_eval_features,eval_class_name)\n"
   ]
  },
  {
   "cell_type": "markdown",
   "id": "a83b2ab5",
   "metadata": {},
   "source": [
    "#### Modèle RandomForest avec features"
   ]
  },
  {
   "cell_type": "code",
   "execution_count": 11,
   "id": "eb05fbf2",
   "metadata": {},
   "outputs": [
    {
     "data": {
      "text/plain": [
       "0.9850833577069319"
      ]
     },
     "execution_count": 11,
     "metadata": {},
     "output_type": "execute_result"
    }
   ],
   "source": [
    "\n",
    "rf_clf = RandomForestClassifier(n_jobs=-1)\n",
    "rf_clf.fit(X_train_features, train_class_name)\n",
    "rf_clf.score(X_eval_features,eval_class_name)"
   ]
  },
  {
   "cell_type": "markdown",
   "id": "6863e68e",
   "metadata": {},
   "source": [
    "> Meilleur score SVC => étude plus en détail des prédictions"
   ]
  },
  {
   "cell_type": "code",
   "execution_count": 12,
   "id": "4cb64f6b",
   "metadata": {},
   "outputs": [],
   "source": [
    "predict = svm.predict(X_eval_features)"
   ]
  },
  {
   "cell_type": "code",
   "execution_count": 13,
   "id": "e98893aa",
   "metadata": {},
   "outputs": [
    {
     "name": "stdout",
     "output_type": "stream",
     "text": [
      "              precision    recall  f1-score   support\n",
      "\n",
      "    basophil       1.00      0.99      0.99       222\n",
      "  eosinophil       1.00      1.00      1.00       627\n",
      "erythroblast       0.98      0.99      0.98       311\n",
      "          ig       0.96      0.98      0.97       590\n",
      "  lymphocyte       0.96      0.98      0.97       236\n",
      "    monocyte       0.99      0.95      0.97       302\n",
      "  neutrophil       0.99      0.99      0.99       682\n",
      "    platelet       1.00      1.00      1.00       449\n",
      "\n",
      "    accuracy                           0.99      3419\n",
      "   macro avg       0.98      0.98      0.98      3419\n",
      "weighted avg       0.99      0.99      0.99      3419\n",
      "\n"
     ]
    }
   ],
   "source": [
    "print(metrics.classification_report( eval_class_name,predict ))"
   ]
  },
  {
   "cell_type": "code",
   "execution_count": 14,
   "id": "c1d920fe",
   "metadata": {},
   "outputs": [
    {
     "data": {
      "text/plain": [
       "{'C': 178.79439651520408,\n",
       " 'class_weight': None,\n",
       " 'gamma': 0.0001739428408958799,\n",
       " 'kernel': 'rbf'}"
      ]
     },
     "execution_count": 14,
     "metadata": {},
     "output_type": "execute_result"
    }
   ],
   "source": [
    "# Recherche de meilleurs paramètres SVC\n",
    "from sklearn.utils.fixes import loguniform\n",
    "from sklearn.model_selection import RandomizedSearchCV\n",
    "distributions = {'C': loguniform(1e0, 1e3),\n",
    " 'gamma': loguniform(1e-4, 1e-3),\n",
    " 'kernel': ['rbf'],\n",
    " 'class_weight':['balanced', None]}\n",
    "\n",
    "clf = RandomizedSearchCV(svm, distributions)\n",
    "search = clf.fit(X_train_features, train_class_name)\n",
    "search.best_params_"
   ]
  },
  {
   "cell_type": "code",
   "execution_count": 16,
   "id": "44fb0e28",
   "metadata": {},
   "outputs": [
    {
     "data": {
      "text/plain": [
       "0.9847908745247148"
      ]
     },
     "execution_count": 16,
     "metadata": {},
     "output_type": "execute_result"
    }
   ],
   "source": [
    "clf.score(X_eval_features,eval_class_name)"
   ]
  },
  {
   "cell_type": "markdown",
   "id": "409be649",
   "metadata": {},
   "source": [
    "> Pas d'amélioration du score par la recherche des meilleurs paramètres"
   ]
  },
  {
   "cell_type": "markdown",
   "id": "9e5af90d",
   "metadata": {},
   "source": [
    "##### Matrice de confusion"
   ]
  },
  {
   "cell_type": "code",
   "execution_count": 17,
   "id": "c70227e4",
   "metadata": {},
   "outputs": [
    {
     "data": {
      "text/html": [
       "<div>\n",
       "<style scoped>\n",
       "    .dataframe tbody tr th:only-of-type {\n",
       "        vertical-align: middle;\n",
       "    }\n",
       "\n",
       "    .dataframe tbody tr th {\n",
       "        vertical-align: top;\n",
       "    }\n",
       "\n",
       "    .dataframe thead th {\n",
       "        text-align: right;\n",
       "    }\n",
       "</style>\n",
       "<table border=\"1\" class=\"dataframe\">\n",
       "  <thead>\n",
       "    <tr style=\"text-align: right;\">\n",
       "      <th>Prédiction</th>\n",
       "      <th>basophil</th>\n",
       "      <th>eosinophil</th>\n",
       "      <th>erythroblast</th>\n",
       "      <th>ig</th>\n",
       "      <th>lymphocyte</th>\n",
       "      <th>monocyte</th>\n",
       "      <th>neutrophil</th>\n",
       "      <th>platelet</th>\n",
       "    </tr>\n",
       "    <tr>\n",
       "      <th>Réalité</th>\n",
       "      <th></th>\n",
       "      <th></th>\n",
       "      <th></th>\n",
       "      <th></th>\n",
       "      <th></th>\n",
       "      <th></th>\n",
       "      <th></th>\n",
       "      <th></th>\n",
       "    </tr>\n",
       "  </thead>\n",
       "  <tbody>\n",
       "    <tr>\n",
       "      <th>basophil</th>\n",
       "      <td>220</td>\n",
       "      <td>0</td>\n",
       "      <td>0</td>\n",
       "      <td>1</td>\n",
       "      <td>0</td>\n",
       "      <td>0</td>\n",
       "      <td>1</td>\n",
       "      <td>0</td>\n",
       "    </tr>\n",
       "    <tr>\n",
       "      <th>eosinophil</th>\n",
       "      <td>0</td>\n",
       "      <td>625</td>\n",
       "      <td>0</td>\n",
       "      <td>2</td>\n",
       "      <td>0</td>\n",
       "      <td>0</td>\n",
       "      <td>0</td>\n",
       "      <td>0</td>\n",
       "    </tr>\n",
       "    <tr>\n",
       "      <th>erythroblast</th>\n",
       "      <td>0</td>\n",
       "      <td>0</td>\n",
       "      <td>307</td>\n",
       "      <td>2</td>\n",
       "      <td>2</td>\n",
       "      <td>0</td>\n",
       "      <td>0</td>\n",
       "      <td>0</td>\n",
       "    </tr>\n",
       "    <tr>\n",
       "      <th>ig</th>\n",
       "      <td>0</td>\n",
       "      <td>0</td>\n",
       "      <td>2</td>\n",
       "      <td>577</td>\n",
       "      <td>1</td>\n",
       "      <td>3</td>\n",
       "      <td>7</td>\n",
       "      <td>0</td>\n",
       "    </tr>\n",
       "    <tr>\n",
       "      <th>lymphocyte</th>\n",
       "      <td>0</td>\n",
       "      <td>0</td>\n",
       "      <td>2</td>\n",
       "      <td>2</td>\n",
       "      <td>232</td>\n",
       "      <td>0</td>\n",
       "      <td>0</td>\n",
       "      <td>0</td>\n",
       "    </tr>\n",
       "    <tr>\n",
       "      <th>monocyte</th>\n",
       "      <td>1</td>\n",
       "      <td>1</td>\n",
       "      <td>1</td>\n",
       "      <td>4</td>\n",
       "      <td>6</td>\n",
       "      <td>288</td>\n",
       "      <td>1</td>\n",
       "      <td>0</td>\n",
       "    </tr>\n",
       "    <tr>\n",
       "      <th>neutrophil</th>\n",
       "      <td>0</td>\n",
       "      <td>0</td>\n",
       "      <td>0</td>\n",
       "      <td>10</td>\n",
       "      <td>0</td>\n",
       "      <td>0</td>\n",
       "      <td>672</td>\n",
       "      <td>0</td>\n",
       "    </tr>\n",
       "    <tr>\n",
       "      <th>platelet</th>\n",
       "      <td>0</td>\n",
       "      <td>0</td>\n",
       "      <td>1</td>\n",
       "      <td>0</td>\n",
       "      <td>0</td>\n",
       "      <td>0</td>\n",
       "      <td>0</td>\n",
       "      <td>448</td>\n",
       "    </tr>\n",
       "  </tbody>\n",
       "</table>\n",
       "</div>"
      ],
      "text/plain": [
       "Prédiction    basophil  eosinophil  erythroblast   ig  lymphocyte  monocyte  \\\n",
       "Réalité                                                                       \n",
       "basophil           220           0             0    1           0         0   \n",
       "eosinophil           0         625             0    2           0         0   \n",
       "erythroblast         0           0           307    2           2         0   \n",
       "ig                   0           0             2  577           1         3   \n",
       "lymphocyte           0           0             2    2         232         0   \n",
       "monocyte             1           1             1    4           6       288   \n",
       "neutrophil           0           0             0   10           0         0   \n",
       "platelet             0           0             1    0           0         0   \n",
       "\n",
       "Prédiction    neutrophil  platelet  \n",
       "Réalité                             \n",
       "basophil               1         0  \n",
       "eosinophil             0         0  \n",
       "erythroblast           0         0  \n",
       "ig                     7         0  \n",
       "lymphocyte             0         0  \n",
       "monocyte               1         0  \n",
       "neutrophil           672         0  \n",
       "platelet               0       448  "
      ]
     },
     "execution_count": 17,
     "metadata": {},
     "output_type": "execute_result"
    }
   ],
   "source": [
    "pd.crosstab(pd.Series(eval_class_name, name='Réalité'),pd.Series(predict, name='Prédiction'))"
   ]
  },
  {
   "cell_type": "markdown",
   "id": "18f793d5",
   "metadata": {},
   "source": [
    "> Mauvais rappel et précision des IG : confusion avec monocyte et neutrophil\n",
    ">\n",
    "> Toujours le problème de classification des IG"
   ]
  }
 ],
 "metadata": {
  "kernelspec": {
   "display_name": "Python 3 (ipykernel)",
   "language": "python",
   "name": "python3"
  },
  "language_info": {
   "codemirror_mode": {
    "name": "ipython",
    "version": 3
   },
   "file_extension": ".py",
   "mimetype": "text/x-python",
   "name": "python",
   "nbconvert_exporter": "python",
   "pygments_lexer": "ipython3",
   "version": "3.8.11"
  }
 },
 "nbformat": 4,
 "nbformat_minor": 5
}
