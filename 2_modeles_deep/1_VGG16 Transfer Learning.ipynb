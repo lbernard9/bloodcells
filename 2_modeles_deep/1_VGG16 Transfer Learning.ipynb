{
 "cells": [
  {
   "cell_type": "code",
   "execution_count": 251,
   "id": "c233544a",
   "metadata": {},
   "outputs": [],
   "source": [
    "%matplotlib inline\n",
    "import numpy as np\n",
    "\n",
    "import matplotlib.pyplot as plt\n",
    "import cv2\n",
    "import seaborn as sns\n",
    "\n",
    "import pandas as pd\n",
    "from sklearn.model_selection import train_test_split\n",
    "\n",
    "from tensorflow.keras.layers import Dense, Dropout, Flatten, GlobalAveragePooling2D\n",
    "from tensorflow.keras.optimizers import Adam\n",
    "from tensorflow.keras.models import Model, Sequential\n",
    "from keras.preprocessing.image import ImageDataGenerator\n",
    "from keras.applications.vgg16 import preprocess_input\n",
    "\n",
    "from tensorflow.keras.callbacks import EarlyStopping\n",
    "from keras.applications.vgg16 import VGG16\n",
    "from sklearn import metrics\n",
    "\n"
   ]
  },
  {
   "cell_type": "code",
   "execution_count": 12,
   "id": "efaadcc4",
   "metadata": {},
   "outputs": [],
   "source": [
    "src_img = '../images_mendeley/dataset_redim/'"
   ]
  },
  {
   "cell_type": "markdown",
   "id": "eb19c9a4",
   "metadata": {},
   "source": [
    "#### Récupération de la base d'images et création jeu d'évaluation, de test et d'entrainement"
   ]
  },
  {
   "cell_type": "code",
   "execution_count": 27,
   "id": "d9502fdd",
   "metadata": {},
   "outputs": [],
   "source": [
    "data = pd.read_csv('../mendeley_cells_redim.csv',index_col=0)\n",
    "data_train, data_eval = train_test_split(data,test_size=0.2,random_state=123)\n",
    "data_train, data_test = train_test_split(data_train,test_size=0.2,random_state=123)"
   ]
  },
  {
   "cell_type": "code",
   "execution_count": 28,
   "id": "37934449",
   "metadata": {},
   "outputs": [
    {
     "data": {
      "text/html": [
       "<div>\n",
       "<style scoped>\n",
       "    .dataframe tbody tr th:only-of-type {\n",
       "        vertical-align: middle;\n",
       "    }\n",
       "\n",
       "    .dataframe tbody tr th {\n",
       "        vertical-align: top;\n",
       "    }\n",
       "\n",
       "    .dataframe thead th {\n",
       "        text-align: right;\n",
       "    }\n",
       "</style>\n",
       "<table border=\"1\" class=\"dataframe\">\n",
       "  <thead>\n",
       "    <tr style=\"text-align: right;\">\n",
       "      <th></th>\n",
       "      <th>filename</th>\n",
       "      <th>category</th>\n",
       "      <th>class</th>\n",
       "    </tr>\n",
       "  </thead>\n",
       "  <tbody>\n",
       "    <tr>\n",
       "      <th>0</th>\n",
       "      <td>N_BA_100102.jpg</td>\n",
       "      <td>basophil</td>\n",
       "      <td>Normal</td>\n",
       "    </tr>\n",
       "    <tr>\n",
       "      <th>1</th>\n",
       "      <td>N_BA_101381.jpg</td>\n",
       "      <td>basophil</td>\n",
       "      <td>Normal</td>\n",
       "    </tr>\n",
       "    <tr>\n",
       "      <th>2</th>\n",
       "      <td>N_BA_101611.jpg</td>\n",
       "      <td>basophil</td>\n",
       "      <td>Normal</td>\n",
       "    </tr>\n",
       "    <tr>\n",
       "      <th>3</th>\n",
       "      <td>N_BA_102039.jpg</td>\n",
       "      <td>basophil</td>\n",
       "      <td>Normal</td>\n",
       "    </tr>\n",
       "    <tr>\n",
       "      <th>4</th>\n",
       "      <td>N_BA_102750.jpg</td>\n",
       "      <td>basophil</td>\n",
       "      <td>Normal</td>\n",
       "    </tr>\n",
       "  </tbody>\n",
       "</table>\n",
       "</div>"
      ],
      "text/plain": [
       "          filename  category   class\n",
       "0  N_BA_100102.jpg  basophil  Normal\n",
       "1  N_BA_101381.jpg  basophil  Normal\n",
       "2  N_BA_101611.jpg  basophil  Normal\n",
       "3  N_BA_102039.jpg  basophil  Normal\n",
       "4  N_BA_102750.jpg  basophil  Normal"
      ]
     },
     "execution_count": 28,
     "metadata": {},
     "output_type": "execute_result"
    }
   ],
   "source": [
    "data.head()"
   ]
  },
  {
   "cell_type": "code",
   "execution_count": 29,
   "id": "88891884",
   "metadata": {},
   "outputs": [
    {
     "data": {
      "text/plain": [
       "(10938, 3)"
      ]
     },
     "execution_count": 29,
     "metadata": {},
     "output_type": "execute_result"
    }
   ],
   "source": [
    "data_train.shape"
   ]
  },
  {
   "cell_type": "code",
   "execution_count": 30,
   "id": "3c048bb3",
   "metadata": {},
   "outputs": [
    {
     "data": {
      "text/plain": [
       "(3419, 3)"
      ]
     },
     "execution_count": 30,
     "metadata": {},
     "output_type": "execute_result"
    }
   ],
   "source": [
    "data_eval.shape"
   ]
  },
  {
   "cell_type": "code",
   "execution_count": 31,
   "id": "0a32cdc0",
   "metadata": {},
   "outputs": [
    {
     "data": {
      "text/plain": [
       "(2735, 3)"
      ]
     },
     "execution_count": 31,
     "metadata": {},
     "output_type": "execute_result"
    }
   ],
   "source": [
    "data_test.shape"
   ]
  },
  {
   "cell_type": "markdown",
   "id": "56766685",
   "metadata": {},
   "source": [
    "#### Utilisation d'un ImageDataGenerator sans transformation pour simplement redimensionné les images en 224*224 et chargé depuis un path"
   ]
  },
  {
   "cell_type": "code",
   "execution_count": 32,
   "id": "9649a437",
   "metadata": {},
   "outputs": [],
   "source": [
    "data_generator = ImageDataGenerator(preprocessing_function=preprocess_input)"
   ]
  },
  {
   "cell_type": "code",
   "execution_count": 33,
   "id": "c3ec04d3",
   "metadata": {},
   "outputs": [
    {
     "name": "stdout",
     "output_type": "stream",
     "text": [
      "Found 10938 validated image filenames belonging to 8 classes.\n",
      "Found 2735 validated image filenames belonging to 8 classes.\n"
     ]
    }
   ],
   "source": [
    "train_generator = data_generator.flow_from_dataframe(data_train, directory=src_img, x_col='filename',y_col='category',class_mode ='sparse',target_size=(224,224),\n",
    "                                              batch_size=32)\n",
    "\n",
    "test_generator = data_generator.flow_from_dataframe(data_test, directory=src_img, x_col='filename',y_col='category',class_mode ='sparse',target_size=(224,224),\n",
    "                                              batch_size=32)"
   ]
  },
  {
   "cell_type": "markdown",
   "id": "47ed8693",
   "metadata": {},
   "source": [
    "#### Transfer Learning avec modèle VGG16 \n",
    "* Freeze de toutes les couches\n",
    "* Couches Dense 1024, 512, 256 \n",
    "* Pas de Dropout pour le moment\n",
    "* Compilation avec Adam avec learning_rate de 10-4"
   ]
  },
  {
   "cell_type": "code",
   "execution_count": 18,
   "id": "a02382ce",
   "metadata": {},
   "outputs": [],
   "source": [
    "# Création Callback pour stopper si pas stagnation\n",
    "callback = EarlyStopping(monitor='val_loss', patience=2)"
   ]
  },
  {
   "cell_type": "code",
   "execution_count": 20,
   "id": "2947bddd",
   "metadata": {},
   "outputs": [],
   "source": [
    "base_model = VGG16(weights='imagenet', include_top=False)\n",
    "#Freeze les couches => \n",
    "for layer in base_model.layers:\n",
    "    layer.trainable = False    \n",
    "model = Sequential()\n",
    "model.add(base_model)\n",
    "model.add(GlobalAveragePooling2D())\n",
    "model.add(Dense(units=1024,activation='relu'))\n",
    "model.add(Dense(units=512,activation='relu'))\n",
    "model.add(Dense(units=256,activation='relu'))\n",
    "model.add(Dense(units=8,activation='softmax')) #8 Classes\n",
    "\n",
    "model.compile(optimizer=Adam(learning_rate=1e-4), loss='sparse_categorical_crossentropy', metrics=['accuracy'])"
   ]
  },
  {
   "cell_type": "code",
   "execution_count": 21,
   "id": "7f7f56a7",
   "metadata": {},
   "outputs": [
    {
     "name": "stdout",
     "output_type": "stream",
     "text": [
      "Epoch 1/16\n",
      "342/342 [==============================] - 3792s 11s/step - loss: 0.6336 - accuracy: 0.7830 - val_loss: 0.4230 - val_accuracy: 0.8603\n",
      "Epoch 2/16\n",
      "342/342 [==============================] - 4193s 12s/step - loss: 0.3072 - accuracy: 0.8966 - val_loss: 0.3257 - val_accuracy: 0.8943\n",
      "Epoch 3/16\n",
      "342/342 [==============================] - 4264s 12s/step - loss: 0.2440 - accuracy: 0.9163 - val_loss: 0.3674 - val_accuracy: 0.8771\n",
      "Epoch 4/16\n",
      "342/342 [==============================] - 4313s 13s/step - loss: 0.2011 - accuracy: 0.9307 - val_loss: 0.2878 - val_accuracy: 0.9031\n",
      "Epoch 5/16\n",
      "342/342 [==============================] - 4197s 12s/step - loss: 0.1636 - accuracy: 0.9444 - val_loss: 0.2981 - val_accuracy: 0.9049\n",
      "Epoch 6/16\n",
      "342/342 [==============================] - 4249s 12s/step - loss: 0.1317 - accuracy: 0.9538 - val_loss: 0.2785 - val_accuracy: 0.9049\n",
      "Epoch 7/16\n",
      "342/342 [==============================] - 3779s 11s/step - loss: 0.1230 - accuracy: 0.9584 - val_loss: 0.2671 - val_accuracy: 0.9112\n",
      "Epoch 8/16\n",
      "342/342 [==============================] - 3549s 10s/step - loss: 0.0928 - accuracy: 0.9709 - val_loss: 0.2873 - val_accuracy: 0.9126\n",
      "Epoch 9/16\n",
      "342/342 [==============================] - 3593s 11s/step - loss: 0.0679 - accuracy: 0.9796 - val_loss: 0.2664 - val_accuracy: 0.9196\n",
      "Epoch 10/16\n",
      "342/342 [==============================] - 3547s 10s/step - loss: 0.0665 - accuracy: 0.9776 - val_loss: 0.2663 - val_accuracy: 0.9163\n",
      "Epoch 11/16\n",
      "342/342 [==============================] - 3543s 10s/step - loss: 0.0498 - accuracy: 0.9854 - val_loss: 0.2999 - val_accuracy: 0.9148\n",
      "Epoch 12/16\n",
      "342/342 [==============================] - 3550s 10s/step - loss: 0.0439 - accuracy: 0.9876 - val_loss: 0.3129 - val_accuracy: 0.9119\n"
     ]
    }
   ],
   "source": [
    "#Entrainement\n",
    "history = model.fit(train_generator, epochs = 16,batch_size = 32, validation_data = test_generator,callbacks=[callback])"
   ]
  },
  {
   "cell_type": "markdown",
   "id": "1df580b2",
   "metadata": {},
   "source": [
    "> Arrêt à l'epochs 12 car plus de baisse de la fonction de perte sur l'évaluation (callback)"
   ]
  },
  {
   "cell_type": "code",
   "execution_count": 22,
   "id": "80dd93e7",
   "metadata": {},
   "outputs": [
    {
     "name": "stdout",
     "output_type": "stream",
     "text": [
      "WARNING:tensorflow:From C:\\Users\\LAURE\\anaconda3\\envs\\Projet\\lib\\site-packages\\tensorflow\\python\\training\\tracking\\tracking.py:111: Model.state_updates (from tensorflow.python.keras.engine.training) is deprecated and will be removed in a future version.\n",
      "Instructions for updating:\n",
      "This property should not be used in TensorFlow 2.0, as updates are applied automatically.\n",
      "WARNING:tensorflow:From C:\\Users\\LAURE\\anaconda3\\envs\\Projet\\lib\\site-packages\\tensorflow\\python\\training\\tracking\\tracking.py:111: Layer.updates (from tensorflow.python.keras.engine.base_layer) is deprecated and will be removed in a future version.\n",
      "Instructions for updating:\n",
      "This property should not be used in TensorFlow 2.0, as updates are applied automatically.\n",
      "INFO:tensorflow:Assets written to: vgg16\\assets\n"
     ]
    }
   ],
   "source": [
    "model.save(\"vgg16\")"
   ]
  },
  {
   "cell_type": "markdown",
   "id": "02acbad9",
   "metadata": {},
   "source": [
    "#### Prédiction sur les données d'évaluation"
   ]
  },
  {
   "cell_type": "code",
   "execution_count": 125,
   "id": "03d6422e",
   "metadata": {},
   "outputs": [
    {
     "name": "stdout",
     "output_type": "stream",
     "text": [
      "Found 3419 validated image filenames belonging to 8 classes.\n"
     ]
    }
   ],
   "source": [
    "eval_generator = data_generator.flow_from_dataframe(data_eval, directory=src_img, x_col='filename',y_col='category',class_mode ='sparse',target_size=(224,224),\n",
    "                                              batch_size=32,shuffle=False)\n",
    "predict = model.predict(eval_generator)"
   ]
  },
  {
   "cell_type": "code",
   "execution_count": 73,
   "id": "e0875b51",
   "metadata": {},
   "outputs": [
    {
     "name": "stdout",
     "output_type": "stream",
     "text": [
      "107/107 [==============================] - 954s 9s/step - loss: 0.1315 - accuracy: 0.9614\n"
     ]
    },
    {
     "data": {
      "text/plain": [
       "[0.13153451681137085, 0.9613922238349915]"
      ]
     },
     "execution_count": 73,
     "metadata": {},
     "output_type": "execute_result"
    }
   ],
   "source": [
    "model.evaluate(eval_generator,batch_size=32)"
   ]
  },
  {
   "cell_type": "markdown",
   "id": "c589a5d2",
   "metadata": {},
   "source": [
    "* Précision à plus de 96%, très bon score\n",
    "* On regarde plus en détail les résultats"
   ]
  },
  {
   "cell_type": "code",
   "execution_count": 131,
   "id": "e56bb8bf",
   "metadata": {},
   "outputs": [
    {
     "name": "stdout",
     "output_type": "stream",
     "text": [
      "              precision    recall  f1-score   support\n",
      "\n",
      "    basophil       0.98      0.95      0.97       222\n",
      "  eosinophil       0.95      0.98      0.97       627\n",
      "erythroblast       0.96      0.96      0.96       311\n",
      "          ig       0.97      0.90      0.93       590\n",
      "  lymphocyte       0.96      0.96      0.96       236\n",
      "    monocyte       0.92      0.97      0.94       302\n",
      "  neutrophil       0.95      0.98      0.96       682\n",
      "    platelet       0.99      0.99      0.99       449\n",
      "\n",
      "    accuracy                           0.96      3419\n",
      "   macro avg       0.96      0.96      0.96      3419\n",
      "weighted avg       0.96      0.96      0.96      3419\n",
      "\n"
     ]
    }
   ],
   "source": [
    "#Classes prédites\n",
    "eval_predict_class = predict.argmax(axis = 1)\n",
    "lst_classes = [key for key, val in eval_generator.class_indices.items()]\n",
    "eval_predict_class_name = [lst_classes[i] for i in eval_predict_class]\n",
    "eval_class_name = [lst_classes[i] for i in eval_generator.classes]\n",
    "print(metrics.classification_report( eval_class_name,eval_predict_class_name ))"
   ]
  },
  {
   "cell_type": "markdown",
   "id": "e6b3e4de",
   "metadata": {},
   "source": [
    "> Score moindre pour les IG ainsi que monocyte"
   ]
  },
  {
   "cell_type": "code",
   "execution_count": 192,
   "id": "d42d2c2d",
   "metadata": {},
   "outputs": [
    {
     "data": {
      "image/png": "[encoded data removed]",
      "text/plain": [
       "<Figure size 576x576 with 2 Axes>"
      ]
     },
     "metadata": {
      "needs_background": "light"
     },
     "output_type": "display_data"
    }
   ],
   "source": [
    "# Matrice de confusion\n",
    "from sklearn.metrics import confusion_matrix\n",
    "from sklearn.metrics import ConfusionMatrixDisplay\n",
    "matrice = confusion_matrix(eval_class_name,eval_predict_class_name,normalize='true').round(2)\n",
    "fig=plt.figure(figsize=(8,8))\n",
    "ax = fig.add_subplot(111) \n",
    "ConfusionMatrixDisplay(matrice).plot(ax=ax)\n",
    "plt.xticks(range(8),lst_classes,rotation=90)\n",
    "plt.yticks(range(8),lst_classes);"
   ]
  },
  {
   "cell_type": "markdown",
   "id": "369c14b7",
   "metadata": {},
   "source": [
    "> IG sont confondus avec neutrophil,monocyte et eosinophil\n",
    ">\n",
    "> Confusion eosinophil/neutrophil"
   ]
  },
  {
   "cell_type": "markdown",
   "id": "0ff6e70f",
   "metadata": {},
   "source": [
    "#### Transfer Learning avec modèle VGG16  modifié\n",
    "* Freeze de toutes les couches\n",
    "* Couches Dense 1024, 1024, 1024\n",
    "* Dropout \n",
    "* Compilation avec Adam avec learning_rate de 10-4"
   ]
  },
  {
   "cell_type": "code",
   "execution_count": 189,
   "id": "a7290872",
   "metadata": {},
   "outputs": [],
   "source": [
    "base_model = VGG16(weights='imagenet', include_top=False)\n",
    "#Freeze les couches => \n",
    "for layer in base_model.layers:\n",
    "    layer.trainable = False    \n",
    "model = Sequential()\n",
    "model.add(base_model)\n",
    "model.add(GlobalAveragePooling2D())\n",
    "model.add(Dense(units=1024,activation='relu'))\n",
    "model.add(Dropout(rate=0.2))\n",
    "model.add(Dense(units=1024,activation='relu'))\n",
    "model.add(Dropout(rate=0.2))\n",
    "model.add(Dense(units=1024,activation='relu'))\n",
    "model.add(Dropout(rate=0.2))\n",
    "model.add(Dense(units=8,activation='softmax')) #8 Classes\n",
    "\n",
    "model.compile(optimizer=Adam(learning_rate=1e-4), loss='sparse_categorical_crossentropy', metrics=['accuracy'])"
   ]
  },
  {
   "cell_type": "code",
   "execution_count": 190,
   "id": "467aeb61",
   "metadata": {},
   "outputs": [
    {
     "name": "stdout",
     "output_type": "stream",
     "text": [
      "Epoch 1/16\n",
      "342/342 [==============================] - 3796s 11s/step - loss: 1.0282 - accuracy: 0.6490 - val_loss: 0.4321 - val_accuracy: 0.8559\n",
      "Epoch 2/16\n",
      "342/342 [==============================] - 3636s 11s/step - loss: 0.4808 - accuracy: 0.8323 - val_loss: 0.3153 - val_accuracy: 0.8907\n",
      "Epoch 3/16\n",
      "342/342 [==============================] - 3769s 11s/step - loss: 0.3692 - accuracy: 0.8705 - val_loss: 0.2920 - val_accuracy: 0.9024\n",
      "Epoch 4/16\n",
      "342/342 [==============================] - 3632s 11s/step - loss: 0.3081 - accuracy: 0.8927 - val_loss: 0.2877 - val_accuracy: 0.9024\n",
      "Epoch 5/16\n",
      "342/342 [==============================] - 3555s 10s/step - loss: 0.2611 - accuracy: 0.9084 - val_loss: 0.2786 - val_accuracy: 0.8987\n",
      "Epoch 6/16\n",
      "342/342 [==============================] - 3628s 11s/step - loss: 0.2276 - accuracy: 0.9218 - val_loss: 0.2538 - val_accuracy: 0.9115\n",
      "Epoch 7/16\n",
      "342/342 [==============================] - 3539s 10s/step - loss: 0.2012 - accuracy: 0.9298 - val_loss: 0.2469 - val_accuracy: 0.9112\n",
      "Epoch 8/16\n",
      "342/342 [==============================] - 3601s 11s/step - loss: 0.1758 - accuracy: 0.9394 - val_loss: 0.2947 - val_accuracy: 0.8969\n",
      "Epoch 9/16\n",
      "342/342 [==============================] - 3555s 10s/step - loss: 0.1575 - accuracy: 0.9440 - val_loss: 0.2679 - val_accuracy: 0.9112\n"
     ]
    }
   ],
   "source": [
    "#Entrainement\n",
    "history = model.fit(train_generator, epochs = 16,batch_size = 32, validation_data = test_generator,callbacks=[callback])"
   ]
  },
  {
   "cell_type": "code",
   "execution_count": 193,
   "id": "7ac65ce6",
   "metadata": {},
   "outputs": [
    {
     "name": "stdout",
     "output_type": "stream",
     "text": [
      "INFO:tensorflow:Assets written to: vgg16_2\\assets\n"
     ]
    }
   ],
   "source": [
    "model.save(\"vgg16_2\")"
   ]
  },
  {
   "cell_type": "markdown",
   "id": "fdfa6407",
   "metadata": {},
   "source": [
    "#### Prédictions sur données d'évaluation , 2ème modèle VGG16"
   ]
  },
  {
   "cell_type": "code",
   "execution_count": 191,
   "id": "32bedf87",
   "metadata": {},
   "outputs": [
    {
     "name": "stdout",
     "output_type": "stream",
     "text": [
      "107/107 [==============================] - 898s 8s/step - loss: 0.2519 - accuracy: 0.9199\n"
     ]
    },
    {
     "data": {
      "text/plain": [
       "[0.25185298919677734, 0.9198595881462097]"
      ]
     },
     "execution_count": 191,
     "metadata": {},
     "output_type": "execute_result"
    }
   ],
   "source": [
    "model.evaluate(eval_generator,batch_size=32)"
   ]
  },
  {
   "cell_type": "code",
   "execution_count": 194,
   "id": "010f1cb8",
   "metadata": {},
   "outputs": [
    {
     "name": "stdout",
     "output_type": "stream",
     "text": [
      "              precision    recall  f1-score   support\n",
      "\n",
      "    basophil       0.95      0.91      0.93       222\n",
      "  eosinophil       0.91      0.95      0.93       627\n",
      "erythroblast       0.87      0.93      0.90       311\n",
      "          ig       0.85      0.91      0.88       590\n",
      "  lymphocyte       0.94      0.92      0.93       236\n",
      "    monocyte       0.92      0.82      0.87       302\n",
      "  neutrophil       0.97      0.90      0.93       682\n",
      "    platelet       0.98      0.98      0.98       449\n",
      "\n",
      "    accuracy                           0.92      3419\n",
      "   macro avg       0.92      0.92      0.92      3419\n",
      "weighted avg       0.92      0.92      0.92      3419\n",
      "\n"
     ]
    }
   ],
   "source": [
    "#Prédictions\n",
    "predict = model.predict(eval_generator)\n",
    "eval_predict_class = predict.argmax(axis = 1)\n",
    "eval_predict_class_name = [lst_classes[i] for i in eval_predict_class]\n",
    "print(metrics.classification_report( eval_class_name,eval_predict_class_name ))"
   ]
  },
  {
   "cell_type": "markdown",
   "id": "386b6b5d",
   "metadata": {},
   "source": [
    "> Résultat inférieur (92% au lieu de 96%) au modèle VGG16 sans Dropout et couches Dense 1024/512/256\n",
    ">\n",
    "> Modèle non retenu"
   ]
  }
 ],
 "metadata": {
  "kernelspec": {
   "display_name": "Python 3 (ipykernel)",
   "language": "python",
   "name": "python3"
  },
  "language_info": {
   "codemirror_mode": {
    "name": "ipython",
    "version": 3
   },
   "file_extension": ".py",
   "mimetype": "text/x-python",
   "name": "python",
   "nbconvert_exporter": "python",
   "pygments_lexer": "ipython3",
   "version": "3.8.11"
  }
 },
 "nbformat": 4,
 "nbformat_minor": 5
}
