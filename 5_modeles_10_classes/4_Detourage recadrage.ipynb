{
 "cells": [
  {
   "cell_type": "markdown",
   "id": "90e6aa6a",
   "metadata": {},
   "source": [
    "#### Détourage des cellules avec recadrage et non redimensionnement => 256x256"
   ]
  },
  {
   "cell_type": "markdown",
   "id": "210347aa",
   "metadata": {},
   "source": [
    "> Choix d'enregistrer les images des cellules détourées pour modèle de prédiction de type \n",
    ">\n",
    "> Test réalisé de détourage via prédiction par le modèle de segmentation au moment de l'entrainement d'un modèle de prédiction : temps d'entrainement trop long"
   ]
  },
  {
   "cell_type": "code",
   "execution_count": 1,
   "id": "15d4fbe9",
   "metadata": {},
   "outputs": [],
   "source": [
    "import tensorflow as tf\n",
    "import os\n",
    "import matplotlib.pyplot as plt\n",
    "from sklearn.utils import shuffle\n",
    "import numpy as np\n",
    "import pandas as pd\n",
    "import cv2"
   ]
  },
  {
   "cell_type": "code",
   "execution_count": 2,
   "id": "5fd989ef",
   "metadata": {},
   "outputs": [
    {
     "name": "stdout",
     "output_type": "stream",
     "text": [
      "<class 'pandas.core.frame.DataFrame'>\n",
      "Int64Index: 31735 entries, 0 to 31734\n",
      "Data columns (total 3 columns):\n",
      " #   Column     Non-Null Count  Dtype \n",
      "---  ------     --------------  ----- \n",
      " 0   file_path  31735 non-null  object\n",
      " 1   filename   31735 non-null  object\n",
      " 2   class      31735 non-null  object\n",
      "dtypes: object(3)\n",
      "memory usage: 991.7+ KB\n"
     ]
    }
   ],
   "source": [
    "data = pd.read_csv('../base_10_class.csv',index_col=0)\n",
    "data.info()"
   ]
  },
  {
   "cell_type": "code",
   "execution_count": 3,
   "id": "519790b1",
   "metadata": {},
   "outputs": [],
   "source": [
    "from keras.models import load_model\n",
    "model_mask = load_model('../4_ajout_donnees_et_segmentation/segmentation_fcn')"
   ]
  },
  {
   "cell_type": "code",
   "execution_count": 4,
   "id": "ca604a29",
   "metadata": {},
   "outputs": [],
   "source": [
    "# Process pour detourage\n",
    "# Fonction preprocess pour les images à detourer (modèle de masque)\n",
    "def load_and_preprocess_mask(img_filepath):\n",
    "    img = tf.io.read_file(img_filepath)\n",
    "    img = tf.io.decode_jpeg(img, channels=3)\n",
    "    img = tf.image.resize(img, [128, 128]) \n",
    "    img = tf.cast(img, tf.float32) / 255.0\n",
    "    return img\n",
    "\n",
    "# Création du masque à partir de la prédiction, mise au format nécessaire\n",
    "def create_mask(pred_mask,resize):\n",
    "    mask = tf.argmax(pred_mask, axis=-1) \n",
    "    mask = mask[..., tf.newaxis]\n",
    "    mask = tf.image.resize(mask,resize)\n",
    "    return tf.squeeze(mask[0],-1)\n",
    "\n",
    "# Detourage de la cellule en utilisant la prédiction du modèle de masque\n",
    "def cut_contour(img_filepath,model,resize):\n",
    "    img_to_mask = load_and_preprocess_mask(img_filepath)\n",
    "    pred_mask = model(img_to_mask[tf.newaxis, ...])\n",
    "    img = tf.io.read_file(img_filepath)\n",
    "    img = tf.io.decode_jpeg(img, channels=3)\n",
    "    shape = tf.shape(img)\n",
    "    mask = create_mask(pred_mask,(shape[0],shape[1]) )\n",
    "    img = tf.cast(img, tf.float32)\n",
    "    # Supprime autour de la cellule => noir\n",
    "    mask_bg = (mask == 0)[..., tf.newaxis]\n",
    "    mask_bg  = tf.cast(mask_bg, tf.float32)\n",
    "    mask_bg  = tf.concat([mask_bg, mask_bg, mask_bg], 2)\n",
    "    img_res = img *  mask_bg\n",
    "    # Recadrage de l'image centrée\n",
    "    img_res = tf.image.resize_with_crop_or_pad(img_res, resize[0], resize[1])\n",
    "    return ( img_res)"
   ]
  },
  {
   "cell_type": "code",
   "execution_count": 5,
   "id": "80917e6b",
   "metadata": {},
   "outputs": [],
   "source": [
    "def load_and_preprocess(filename, model, resize=(256,256)):\n",
    "    # Detourage\n",
    "    img = cut_contour(filename,model,resize)\n",
    "    return img"
   ]
  },
  {
   "cell_type": "code",
   "execution_count": 6,
   "id": "3eb807f3",
   "metadata": {},
   "outputs": [],
   "source": [
    "AUTO = tf.data.experimental.AUTOTUNE"
   ]
  },
  {
   "cell_type": "code",
   "execution_count": 7,
   "id": "22f664ca",
   "metadata": {},
   "outputs": [
    {
     "name": "stdout",
     "output_type": "stream",
     "text": [
      "WARNING:tensorflow:AutoGraph could not transform <function cut_contour at 0x0000027F7A4329D0> and will run it as-is.\n",
      "Please report this to the TensorFlow team. When filing the bug, set the verbosity to 10 (on Linux, `export AUTOGRAPH_VERBOSITY=10`) and attach the full output.\n",
      "Cause: module 'gast' has no attribute 'Index'\n",
      "To silence this warning, decorate the function with @tf.autograph.experimental.do_not_convert\n",
      "WARNING: AutoGraph could not transform <function cut_contour at 0x0000027F7A4329D0> and will run it as-is.\n",
      "Please report this to the TensorFlow team. When filing the bug, set the verbosity to 10 (on Linux, `export AUTOGRAPH_VERBOSITY=10`) and attach the full output.\n",
      "Cause: module 'gast' has no attribute 'Index'\n",
      "To silence this warning, decorate the function with @tf.autograph.experimental.do_not_convert\n"
     ]
    }
   ],
   "source": [
    "dataset = tf.data.Dataset.from_tensor_slices((data['file_path'],data['filename']))\n",
    "dataset = (dataset.map(lambda x, y: [load_and_preprocess(x, model_mask),y], num_parallel_calls=AUTO))"
   ]
  },
  {
   "cell_type": "code",
   "execution_count": 10,
   "id": "424f8329",
   "metadata": {},
   "outputs": [],
   "source": [
    "#!mkdir ..\\images_detour # Windows\n",
    "!mkdir ../images_detour_256"
   ]
  },
  {
   "cell_type": "code",
   "execution_count": 11,
   "id": "6130a0ba",
   "metadata": {},
   "outputs": [],
   "source": [
    "dest_img = '../images_detour_256/'"
   ]
  },
  {
   "cell_type": "code",
   "execution_count": 12,
   "id": "b4db0f38",
   "metadata": {},
   "outputs": [],
   "source": [
    "# Fonction pour boucher les trous si existe dans l'image\n",
    "# Dans background, pixel autre que noir\n",
    "# Dans la cellule, pixel noir à remplacer\n",
    "def morpho(img):\n",
    "    gray = cv2.cvtColor(img.astype(np.uint8), cv2.COLOR_RGB2GRAY)\n",
    "    # Tous les pixels non noirs => blanc\n",
    "    seuil,img_threshold = cv2.threshold(gray,  1,255, cv2.THRESH_BINARY )\n",
    "    # Bouche les trous du background \n",
    "    seuil,img_threshold = cv2.threshold(gray,  1,255, cv2.THRESH_BINARY )\n",
    "    kernel = np.ones((5,5),np.uint8)\n",
    "    opening = cv2.morphologyEx(img, cv2.MORPH_OPEN, kernel)\n",
    "    gray_opening = cv2.cvtColor(opening.astype(np.uint8), cv2.COLOR_RGB2GRAY)\n",
    "    seuil,opening_threshold = cv2.threshold(gray_opening,  1,1, cv2.THRESH_BINARY )\n",
    "    bg  = cv2.merge((opening_threshold,opening_threshold,opening_threshold))\n",
    "    img =bg*img\n",
    "    # Remplit les trous de la cellule (point noir dans la cellule)\n",
    "    closing = cv2.morphologyEx(img, cv2.MORPH_CLOSE, kernel)\n",
    "    img_black = (gray==0).astype(int)\n",
    "    img_black = cv2.merge((img_black,img_black,img_black))\n",
    "    img_out = ( img_black*closing) + img\n",
    "    return img_out"
   ]
  },
  {
   "cell_type": "code",
   "execution_count": 13,
   "id": "9ebcfcb6",
   "metadata": {},
   "outputs": [],
   "source": [
    "# Enregistrement des images détourées sans sous dossier\n",
    "for image, filename in dataset.take(-1):\n",
    "    # Complète les trous\n",
    "    img = morpho(tf.cast(image, tf.int16).numpy())\n",
    "    # Au format BGR pour sauvegarde avec imwrite\n",
    "    img = cv2.cvtColor(img.astype(np.uint8), cv2.COLOR_RGB2BGR)\n",
    "    cv2.imwrite(dest_img+tf.compat.as_str_any(filename.numpy()),img)"
   ]
  },
  {
   "cell_type": "markdown",
   "id": "a572db53",
   "metadata": {},
   "source": [
    "### Vérification du détourage visuel"
   ]
  },
  {
   "cell_type": "markdown",
   "id": "7586f655",
   "metadata": {},
   "source": [
    "> Erreur sur certaines cellules, totalement noir => suppression des images de la base"
   ]
  },
  {
   "cell_type": "code",
   "execution_count": 14,
   "id": "c2f1ea79",
   "metadata": {},
   "outputs": [],
   "source": [
    "# Récupère le nom de toutes les images sauvegardées => suppression dans la bd\n",
    "import os\n",
    "files=[]\n",
    "for file in os.scandir(dest_img):\n",
    "    files.append(file.name)"
   ]
  },
  {
   "cell_type": "code",
   "execution_count": 15,
   "id": "4d19b01d",
   "metadata": {},
   "outputs": [
    {
     "data": {
      "text/plain": [
       "31602"
      ]
     },
     "execution_count": 15,
     "metadata": {},
     "output_type": "execute_result"
    }
   ],
   "source": [
    "len(files)"
   ]
  },
  {
   "cell_type": "code",
   "execution_count": 16,
   "id": "87447110",
   "metadata": {},
   "outputs": [],
   "source": [
    "data[data['filename'].isin(files)].reset_index().to_csv('../files_detour_256.csv')"
   ]
  },
  {
   "cell_type": "code",
   "execution_count": 219,
   "id": "d844fa76",
   "metadata": {},
   "outputs": [],
   "source": []
  }
 ],
 "metadata": {
  "kernelspec": {
   "display_name": "Python 3 (ipykernel)",
   "language": "python",
   "name": "python3"
  },
  "language_info": {
   "codemirror_mode": {
    "name": "ipython",
    "version": 3
   },
   "file_extension": ".py",
   "mimetype": "text/x-python",
   "name": "python",
   "nbconvert_exporter": "python",
   "pygments_lexer": "ipython3",
   "version": "3.8.11"
  }
 },
 "nbformat": 4,
 "nbformat_minor": 5
}
