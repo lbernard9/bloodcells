{
 "cells": [
  {
   "cell_type": "markdown",
   "id": "19fbb7d0",
   "metadata": {},
   "source": [
    "### Modèle pour classification des types de cellules sans IG "
   ]
  },
  {
   "cell_type": "markdown",
   "id": "efcd5bb0",
   "metadata": {},
   "source": [
    "> Les cellules de type IG amène de la confusion dans les prédictions\n",
    ">\n",
    "> Entrainement d'un modèle sur les 7 autres types pour voir la précision du modèle"
   ]
  },
  {
   "cell_type": "code",
   "execution_count": 1,
   "id": "c233544a",
   "metadata": {},
   "outputs": [],
   "source": [
    "%matplotlib inline\n",
    "import numpy as np\n",
    "\n",
    "import matplotlib.pyplot as plt\n",
    "import cv2\n",
    "import seaborn as sns\n",
    "\n",
    "import pandas as pd\n",
    "from sklearn.model_selection import train_test_split\n",
    "\n",
    "from tensorflow.keras.optimizers import SGD\n",
    "from tensorflow.keras.models import Model, Sequential\n",
    "from keras.preprocessing.image import ImageDataGenerator\n",
    "from keras.applications.vgg16 import preprocess_input\n",
    "\n",
    "from tensorflow.keras.callbacks import EarlyStopping\n",
    "from keras.applications.vgg16 import VGG16\n",
    "from sklearn import metrics\n"
   ]
  },
  {
   "cell_type": "code",
   "execution_count": 2,
   "id": "efaadcc4",
   "metadata": {},
   "outputs": [],
   "source": [
    "src_img = '../images_mendeley/dataset_redim/'"
   ]
  },
  {
   "cell_type": "markdown",
   "id": "eb19c9a4",
   "metadata": {},
   "source": [
    "#### Récupération de la base d'images et création jeu d'évaluation, de test et d'entrainement"
   ]
  },
  {
   "cell_type": "code",
   "execution_count": 3,
   "id": "04125c5d",
   "metadata": {},
   "outputs": [],
   "source": [
    "data = pd.read_csv('../mendeley_cells_redim.csv',index_col=0)"
   ]
  },
  {
   "cell_type": "code",
   "execution_count": 4,
   "id": "30180887",
   "metadata": {},
   "outputs": [
    {
     "data": {
      "text/plain": [
       "neutrophil      3329\n",
       "eosinophil      3117\n",
       "platelet        2348\n",
       "erythroblast    1551\n",
       "monocyte        1420\n",
       "basophil        1218\n",
       "lymphocyte      1214\n",
       "Name: category, dtype: int64"
      ]
     },
     "execution_count": 4,
     "metadata": {},
     "output_type": "execute_result"
    }
   ],
   "source": [
    "# Retire les IG\n",
    "data_no_IG = data[data['category']!='ig']\n",
    "data_no_IG['category'].value_counts()"
   ]
  },
  {
   "cell_type": "code",
   "execution_count": 5,
   "id": "d9502fdd",
   "metadata": {},
   "outputs": [],
   "source": [
    "data_train, data_eval = train_test_split(data_no_IG,test_size=0.1,random_state=123)\n",
    "data_train, data_test = train_test_split(data_train,test_size=0.2,random_state=123)"
   ]
  },
  {
   "cell_type": "markdown",
   "id": "56766685",
   "metadata": {},
   "source": [
    "#### Utilisation d'un ImageDataGenerator sans transformation pour simplement redimensionné les images en 224*224 et chargé depuis un path"
   ]
  },
  {
   "cell_type": "code",
   "execution_count": 6,
   "id": "9649a437",
   "metadata": {},
   "outputs": [],
   "source": [
    "data_generator = ImageDataGenerator(preprocessing_function=preprocess_input)"
   ]
  },
  {
   "cell_type": "code",
   "execution_count": 7,
   "id": "c3ec04d3",
   "metadata": {},
   "outputs": [
    {
     "name": "stdout",
     "output_type": "stream",
     "text": [
      "Found 10221 validated image filenames belonging to 7 classes.\n",
      "Found 2556 validated image filenames belonging to 7 classes.\n"
     ]
    }
   ],
   "source": [
    "train_generator = data_generator.flow_from_dataframe(data_train, directory=src_img, x_col='filename',y_col='category',class_mode ='sparse',target_size=(224,224),\n",
    "                                              batch_size=32)\n",
    "\n",
    "test_generator = data_generator.flow_from_dataframe(data_test, directory=src_img, x_col='filename',y_col='category',class_mode ='sparse',target_size=(224,224),\n",
    "                                              batch_size=32)"
   ]
  },
  {
   "cell_type": "markdown",
   "id": "47ed8693",
   "metadata": {},
   "source": [
    "#### Transfer Learning avec modèle VGG16 \n",
    "* Freeze de toutes les couches\n",
    "* Couches Dense 1024, 512, 256 \n",
    "* Pas de Dropout pour le moment\n",
    "* Compilation avec SGD avec learning_rate de 1e-4  et momentum 0.9"
   ]
  },
  {
   "cell_type": "code",
   "execution_count": 19,
   "id": "a02382ce",
   "metadata": {},
   "outputs": [],
   "source": [
    "# Création Callback pour stopper si pas stagnation\n",
    "callback = EarlyStopping(monitor='val_loss', patience=2,restore_best_weights=True)"
   ]
  },
  {
   "cell_type": "code",
   "execution_count": 9,
   "id": "2947bddd",
   "metadata": {},
   "outputs": [],
   "source": [
    "base_model = VGG16(weights='imagenet', include_top=False)\n",
    "#Freeze les couches, entrainement sur la classification\n",
    "for layer in base_model.layers: \n",
    "    layer.trainable = False    \n",
    "model = Sequential()\n",
    "model.add(base_model)\n",
    "model.add(GlobalAveragePooling2D())\n",
    "model.add(Dense(units=1024,activation='relu'))\n",
    "model.add(Dense(units=512,activation='relu'))\n",
    "model.add(Dense(units=256,activation='relu'))\n",
    "model.add(Dense(units=7,activation='softmax')) #7 Classes (sans IG)\n",
    "\n",
    "model.compile(optimizer=SGD(learning_rate=1e-4, momentum=0.9), loss='sparse_categorical_crossentropy', metrics=['accuracy'])"
   ]
  },
  {
   "cell_type": "code",
   "execution_count": 10,
   "id": "7f7f56a7",
   "metadata": {},
   "outputs": [
    {
     "name": "stdout",
     "output_type": "stream",
     "text": [
      "Epoch 1/16\n",
      "320/320 [==============================] - 4123s 13s/step - loss: 0.9331 - accuracy: 0.6910 - val_loss: 0.5301 - val_accuracy: 0.8271\n",
      "Epoch 2/16\n",
      "320/320 [==============================] - 4608s 14s/step - loss: 0.4541 - accuracy: 0.8566 - val_loss: 0.3980 - val_accuracy: 0.8642\n",
      "Epoch 3/16\n",
      "320/320 [==============================] - 3440s 11s/step - loss: 0.3527 - accuracy: 0.8896 - val_loss: 0.3148 - val_accuracy: 0.9010\n",
      "Epoch 4/16\n",
      "320/320 [==============================] - 3512s 11s/step - loss: 0.2966 - accuracy: 0.9077 - val_loss: 0.2771 - val_accuracy: 0.9143\n",
      "Epoch 5/16\n",
      "320/320 [==============================] - 3399s 11s/step - loss: 0.2663 - accuracy: 0.9172 - val_loss: 0.2524 - val_accuracy: 0.9190\n",
      "Epoch 6/16\n",
      "320/320 [==============================] - 3420s 11s/step - loss: 0.2453 - accuracy: 0.9248 - val_loss: 0.2325 - val_accuracy: 0.9206\n",
      "Epoch 7/16\n",
      "320/320 [==============================] - 3420s 11s/step - loss: 0.2223 - accuracy: 0.9329 - val_loss: 0.2239 - val_accuracy: 0.9229\n",
      "Epoch 8/16\n",
      "320/320 [==============================] - 3488s 11s/step - loss: 0.2126 - accuracy: 0.9357 - val_loss: 0.2212 - val_accuracy: 0.9280\n",
      "Epoch 9/16\n",
      "320/320 [==============================] - 3426s 11s/step - loss: 0.1966 - accuracy: 0.9425 - val_loss: 0.2055 - val_accuracy: 0.9304\n",
      "Epoch 10/16\n",
      "320/320 [==============================] - 3560s 11s/step - loss: 0.1906 - accuracy: 0.9417 - val_loss: 0.2074 - val_accuracy: 0.9327\n",
      "Epoch 11/16\n",
      "320/320 [==============================] - 4090s 13s/step - loss: 0.1809 - accuracy: 0.9441 - val_loss: 0.2144 - val_accuracy: 0.9245\n"
     ]
    }
   ],
   "source": [
    "#Entrainement\n",
    "history = model.fit(train_generator, epochs = 16,batch_size = 32, validation_data = test_generator,callbacks=[callback])"
   ]
  },
  {
   "cell_type": "code",
   "execution_count": 11,
   "id": "80dd93e7",
   "metadata": {},
   "outputs": [
    {
     "name": "stdout",
     "output_type": "stream",
     "text": [
      "WARNING:tensorflow:From C:\\Users\\LAURE\\anaconda3\\envs\\Projet\\lib\\site-packages\\tensorflow\\python\\training\\tracking\\tracking.py:111: Model.state_updates (from tensorflow.python.keras.engine.training) is deprecated and will be removed in a future version.\n",
      "Instructions for updating:\n",
      "This property should not be used in TensorFlow 2.0, as updates are applied automatically.\n",
      "WARNING:tensorflow:From C:\\Users\\LAURE\\anaconda3\\envs\\Projet\\lib\\site-packages\\tensorflow\\python\\training\\tracking\\tracking.py:111: Layer.updates (from tensorflow.python.keras.engine.base_layer) is deprecated and will be removed in a future version.\n",
      "Instructions for updating:\n",
      "This property should not be used in TensorFlow 2.0, as updates are applied automatically.\n",
      "INFO:tensorflow:Assets written to: vgg16_no_ig\\assets\n"
     ]
    }
   ],
   "source": [
    "model.save(\"vgg16_no_ig\")"
   ]
  },
  {
   "cell_type": "markdown",
   "id": "02acbad9",
   "metadata": {},
   "source": [
    "#### Prédiction sur les données d'évaluation avec entrainement classification uniquement"
   ]
  },
  {
   "cell_type": "code",
   "execution_count": 12,
   "id": "03d6422e",
   "metadata": {},
   "outputs": [
    {
     "name": "stdout",
     "output_type": "stream",
     "text": [
      "Found 1420 validated image filenames belonging to 7 classes.\n"
     ]
    }
   ],
   "source": [
    "eval_generator = data_generator.flow_from_dataframe(data_eval, directory=src_img, x_col='filename',y_col='category',class_mode ='sparse',target_size=(224,224),\n",
    "                                              batch_size=32,shuffle=False)\n",
    "predict = model.predict(eval_generator)"
   ]
  },
  {
   "cell_type": "code",
   "execution_count": 13,
   "id": "e0875b51",
   "metadata": {},
   "outputs": [
    {
     "name": "stdout",
     "output_type": "stream",
     "text": [
      "45/45 [==============================] - 405s 9s/step - loss: 0.2264 - accuracy: 0.9169\n"
     ]
    },
    {
     "data": {
      "text/plain": [
       "[0.22639495134353638, 0.9169014096260071]"
      ]
     },
     "execution_count": 13,
     "metadata": {},
     "output_type": "execute_result"
    }
   ],
   "source": [
    "model.evaluate(eval_generator,batch_size=32)"
   ]
  },
  {
   "cell_type": "markdown",
   "id": "c589a5d2",
   "metadata": {},
   "source": [
    "* Précision 91.6%, avec toutes les couches VGG16 freeze\n",
    "* On regarde plus en détail les résultats"
   ]
  },
  {
   "cell_type": "code",
   "execution_count": 15,
   "id": "e56bb8bf",
   "metadata": {},
   "outputs": [
    {
     "name": "stdout",
     "output_type": "stream",
     "text": [
      "              precision    recall  f1-score   support\n",
      "\n",
      "    basophil       0.98      0.90      0.94       124\n",
      "  eosinophil       0.84      0.94      0.89       321\n",
      "erythroblast       0.93      0.90      0.91       161\n",
      "  lymphocyte       0.86      0.97      0.92       117\n",
      "    monocyte       0.88      0.89      0.89       155\n",
      "  neutrophil       0.99      0.86      0.92       324\n",
      "    platelet       0.96      0.98      0.97       218\n",
      "\n",
      "    accuracy                           0.92      1420\n",
      "   macro avg       0.92      0.92      0.92      1420\n",
      "weighted avg       0.92      0.92      0.92      1420\n",
      "\n"
     ]
    }
   ],
   "source": [
    "#Classes prédites\n",
    "eval_predict_class = predict.argmax(axis = 1)\n",
    "lst_classes = [key for key, val in eval_generator.class_indices.items()]\n",
    "eval_predict_class_name = [lst_classes[i] for i in eval_predict_class]\n",
    "eval_class_name = [lst_classes[i] for i in eval_generator.classes]\n",
    "print(metrics.classification_report( eval_class_name,eval_predict_class_name ))"
   ]
  },
  {
   "cell_type": "markdown",
   "id": "811b4299",
   "metadata": {},
   "source": [
    "#### Fine Tunning 8 couches"
   ]
  },
  {
   "cell_type": "code",
   "execution_count": 16,
   "id": "08ecce60",
   "metadata": {},
   "outputs": [],
   "source": [
    "# Unfreeze les 8 dernières couches VGG16\n",
    "for layer in base_model.layers[-8:]: \n",
    "    layer.trainable = True"
   ]
  },
  {
   "cell_type": "code",
   "execution_count": 20,
   "id": "40d1c9cf",
   "metadata": {},
   "outputs": [
    {
     "name": "stdout",
     "output_type": "stream",
     "text": [
      "Epoch 1/16\n",
      "320/320 [==============================] - 6799s 21s/step - loss: 0.0321 - accuracy: 0.9902 - val_loss: 0.0410 - val_accuracy: 0.9890\n",
      "Epoch 2/16\n",
      "320/320 [==============================] - 6014s 19s/step - loss: 0.0132 - accuracy: 0.9967 - val_loss: 0.0329 - val_accuracy: 0.9918\n",
      "Epoch 3/16\n",
      "320/320 [==============================] - 6068s 19s/step - loss: 0.0063 - accuracy: 0.9984 - val_loss: 0.0502 - val_accuracy: 0.9844\n",
      "Epoch 4/16\n",
      "320/320 [==============================] - 6171s 19s/step - loss: 0.0026 - accuracy: 0.9996 - val_loss: 0.0396 - val_accuracy: 0.9914\n"
     ]
    }
   ],
   "source": [
    "model.compile(optimizer=SGD(learning_rate=1e-4, momentum=0.9), loss='sparse_categorical_crossentropy', metrics=['accuracy'])\n",
    "history = model.fit(train_generator, epochs = 16,batch_size = 32, validation_data = test_generator,callbacks=[callback])"
   ]
  },
  {
   "cell_type": "code",
   "execution_count": 21,
   "id": "e9ad7d62",
   "metadata": {},
   "outputs": [
    {
     "name": "stdout",
     "output_type": "stream",
     "text": [
      "INFO:tensorflow:Assets written to: vgg16_no_ig_fine_tunning\\assets\n"
     ]
    }
   ],
   "source": [
    "model.save(\"vgg16_no_ig_fine_tunning\")"
   ]
  },
  {
   "cell_type": "code",
   "execution_count": 22,
   "id": "065271cc",
   "metadata": {},
   "outputs": [
    {
     "name": "stdout",
     "output_type": "stream",
     "text": [
      "45/45 [==============================] - 387s 9s/step - loss: 0.0494 - accuracy: 0.9880\n"
     ]
    },
    {
     "data": {
      "text/plain": [
       "[0.04940371960401535, 0.9880281686782837]"
      ]
     },
     "execution_count": 22,
     "metadata": {},
     "output_type": "execute_result"
    }
   ],
   "source": [
    "predict = model.predict(eval_generator)\n",
    "model.evaluate(eval_generator,batch_size=32)"
   ]
  },
  {
   "cell_type": "markdown",
   "id": "b00b4b29",
   "metadata": {},
   "source": [
    "> Très bon score de 98.8%"
   ]
  },
  {
   "cell_type": "code",
   "execution_count": 23,
   "id": "ffab38ca",
   "metadata": {},
   "outputs": [
    {
     "name": "stdout",
     "output_type": "stream",
     "text": [
      "              precision    recall  f1-score   support\n",
      "\n",
      "    basophil       0.99      1.00      1.00       124\n",
      "  eosinophil       1.00      0.99      0.99       321\n",
      "erythroblast       0.98      0.98      0.98       161\n",
      "  lymphocyte       0.97      1.00      0.98       117\n",
      "    monocyte       0.97      0.96      0.97       155\n",
      "  neutrophil       0.99      0.99      0.99       324\n",
      "    platelet       0.99      1.00      0.99       218\n",
      "\n",
      "    accuracy                           0.99      1420\n",
      "   macro avg       0.98      0.99      0.99      1420\n",
      "weighted avg       0.99      0.99      0.99      1420\n",
      "\n"
     ]
    }
   ],
   "source": [
    "eval_predict_class = predict.argmax(axis = 1)\n",
    "eval_predict_class_name = [lst_classes[i] for i in eval_predict_class]\n",
    "print(metrics.classification_report( eval_class_name,eval_predict_class_name ))"
   ]
  },
  {
   "cell_type": "code",
   "execution_count": 25,
   "id": "d42d2c2d",
   "metadata": {},
   "outputs": [
    {
     "data": {
      "image/png": "[encoded data removed]",
      "text/plain": [
       "<Figure size 576x576 with 2 Axes>"
      ]
     },
     "metadata": {
      "needs_background": "light"
     },
     "output_type": "display_data"
    }
   ],
   "source": [
    "# Matrice de confusion\n",
    "from sklearn.metrics import confusion_matrix\n",
    "from sklearn.metrics import ConfusionMatrixDisplay\n",
    "matrice = confusion_matrix(eval_class_name,eval_predict_class_name)\n",
    "fig=plt.figure(figsize=(8,8))\n",
    "ax = fig.add_subplot(111) \n",
    "ConfusionMatrixDisplay(matrice).plot(ax=ax)\n",
    "plt.xticks(range(7),lst_classes,rotation=90)\n",
    "plt.yticks(range(7),lst_classes);"
   ]
  },
  {
   "cell_type": "markdown",
   "id": "ba16a5ab",
   "metadata": {},
   "source": [
    "> Le modèle est  plus performant sans les cellules de type IG"
   ]
  }
 ],
 "metadata": {
  "kernelspec": {
   "display_name": "Python 3 (ipykernel)",
   "language": "python",
   "name": "python3"
  },
  "language_info": {
   "codemirror_mode": {
    "name": "ipython",
    "version": 3
   },
   "file_extension": ".py",
   "mimetype": "text/x-python",
   "name": "python",
   "nbconvert_exporter": "python",
   "pygments_lexer": "ipython3",
   "version": "3.8.11"
  }
 },
 "nbformat": 4,
 "nbformat_minor": 5
}
