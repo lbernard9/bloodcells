{
 "cells": [
  {
   "cell_type": "code",
   "execution_count": 1,
   "id": "5bc3c9a9",
   "metadata": {},
   "outputs": [],
   "source": [
    "%matplotlib inline\n",
    "import numpy as np\n",
    "\n",
    "import matplotlib.pyplot as plt\n",
    "import cv2\n",
    "import seaborn as sns\n",
    "\n",
    "import pandas as pd\n",
    "from sklearn.model_selection import train_test_split\n",
    "\n",
    "from tensorflow.keras.layers import Dense, Dropout, Flatten, GlobalAveragePooling2D\n",
    "from tensorflow.keras.optimizers import SGD\n",
    "from tensorflow.keras.models import Model, Sequential\n",
    "from keras.preprocessing.image import ImageDataGenerator\n",
    "from keras.applications.vgg16 import preprocess_input\n",
    "\n",
    "from tensorflow.keras.callbacks import EarlyStopping\n",
    "from keras.applications.vgg16 import VGG16\n",
    "from sklearn import metrics"
   ]
  },
  {
   "cell_type": "code",
   "execution_count": 2,
   "id": "b84e0bc6",
   "metadata": {},
   "outputs": [],
   "source": [
    "src_img = '../images_mendeley/dataset_redim/'"
   ]
  },
  {
   "cell_type": "markdown",
   "id": "c0796fb0",
   "metadata": {},
   "source": [
    "#### Récupération de la base d'évaluation (données non utilisées en entrainement/test)"
   ]
  },
  {
   "cell_type": "code",
   "execution_count": 3,
   "id": "69732a6c",
   "metadata": {},
   "outputs": [],
   "source": [
    "data = pd.read_csv('../mendeley_cells_redim.csv',index_col=0)\n",
    "data_train, data_eval = train_test_split(data,test_size=0.2,random_state=123)"
   ]
  },
  {
   "cell_type": "markdown",
   "id": "f1a829c0",
   "metadata": {},
   "source": [
    "##### Chargement du modèle ayant obtenus les meilleurs résultats"
   ]
  },
  {
   "cell_type": "code",
   "execution_count": 4,
   "id": "efc4e697",
   "metadata": {},
   "outputs": [],
   "source": [
    "from keras.models import load_model\n",
    "model = load_model('vgg16_fine_tunning_SGD')"
   ]
  },
  {
   "cell_type": "markdown",
   "id": "3526b68d",
   "metadata": {},
   "source": [
    "#### Prédiction sur les données d'évaluation"
   ]
  },
  {
   "cell_type": "code",
   "execution_count": 5,
   "id": "41b8d80d",
   "metadata": {},
   "outputs": [
    {
     "name": "stdout",
     "output_type": "stream",
     "text": [
      "Found 3419 validated image filenames belonging to 8 classes.\n"
     ]
    }
   ],
   "source": [
    "data_generator = ImageDataGenerator(preprocessing_function=preprocess_input)\n",
    "eval_generator = data_generator.flow_from_dataframe(data_eval, directory=src_img, x_col='filename',y_col='category',class_mode ='sparse',target_size=(224,224),\n",
    "                                              batch_size=32,shuffle=False)\n",
    "predict = model.predict(eval_generator)"
   ]
  },
  {
   "cell_type": "code",
   "execution_count": 6,
   "id": "2e66f50a",
   "metadata": {},
   "outputs": [
    {
     "data": {
      "text/html": [
       "<div>\n",
       "<style scoped>\n",
       "    .dataframe tbody tr th:only-of-type {\n",
       "        vertical-align: middle;\n",
       "    }\n",
       "\n",
       "    .dataframe tbody tr th {\n",
       "        vertical-align: top;\n",
       "    }\n",
       "\n",
       "    .dataframe thead th {\n",
       "        text-align: right;\n",
       "    }\n",
       "</style>\n",
       "<table border=\"1\" class=\"dataframe\">\n",
       "  <thead>\n",
       "    <tr style=\"text-align: right;\">\n",
       "      <th>Prédiction</th>\n",
       "      <th>basophil</th>\n",
       "      <th>eosinophil</th>\n",
       "      <th>erythroblast</th>\n",
       "      <th>ig</th>\n",
       "      <th>lymphocyte</th>\n",
       "      <th>monocyte</th>\n",
       "      <th>neutrophil</th>\n",
       "      <th>platelet</th>\n",
       "    </tr>\n",
       "    <tr>\n",
       "      <th>Réalité</th>\n",
       "      <th></th>\n",
       "      <th></th>\n",
       "      <th></th>\n",
       "      <th></th>\n",
       "      <th></th>\n",
       "      <th></th>\n",
       "      <th></th>\n",
       "      <th></th>\n",
       "    </tr>\n",
       "  </thead>\n",
       "  <tbody>\n",
       "    <tr>\n",
       "      <th>basophil</th>\n",
       "      <td>218</td>\n",
       "      <td>0</td>\n",
       "      <td>0</td>\n",
       "      <td>3</td>\n",
       "      <td>0</td>\n",
       "      <td>1</td>\n",
       "      <td>0</td>\n",
       "      <td>0</td>\n",
       "    </tr>\n",
       "    <tr>\n",
       "      <th>eosinophil</th>\n",
       "      <td>2</td>\n",
       "      <td>621</td>\n",
       "      <td>1</td>\n",
       "      <td>2</td>\n",
       "      <td>0</td>\n",
       "      <td>0</td>\n",
       "      <td>1</td>\n",
       "      <td>0</td>\n",
       "    </tr>\n",
       "    <tr>\n",
       "      <th>erythroblast</th>\n",
       "      <td>0</td>\n",
       "      <td>0</td>\n",
       "      <td>302</td>\n",
       "      <td>6</td>\n",
       "      <td>2</td>\n",
       "      <td>0</td>\n",
       "      <td>1</td>\n",
       "      <td>0</td>\n",
       "    </tr>\n",
       "    <tr>\n",
       "      <th>ig</th>\n",
       "      <td>0</td>\n",
       "      <td>0</td>\n",
       "      <td>2</td>\n",
       "      <td>575</td>\n",
       "      <td>0</td>\n",
       "      <td>1</td>\n",
       "      <td>12</td>\n",
       "      <td>0</td>\n",
       "    </tr>\n",
       "    <tr>\n",
       "      <th>lymphocyte</th>\n",
       "      <td>0</td>\n",
       "      <td>0</td>\n",
       "      <td>4</td>\n",
       "      <td>4</td>\n",
       "      <td>226</td>\n",
       "      <td>2</td>\n",
       "      <td>0</td>\n",
       "      <td>0</td>\n",
       "    </tr>\n",
       "    <tr>\n",
       "      <th>monocyte</th>\n",
       "      <td>0</td>\n",
       "      <td>1</td>\n",
       "      <td>0</td>\n",
       "      <td>13</td>\n",
       "      <td>2</td>\n",
       "      <td>285</td>\n",
       "      <td>1</td>\n",
       "      <td>0</td>\n",
       "    </tr>\n",
       "    <tr>\n",
       "      <th>neutrophil</th>\n",
       "      <td>0</td>\n",
       "      <td>0</td>\n",
       "      <td>1</td>\n",
       "      <td>19</td>\n",
       "      <td>0</td>\n",
       "      <td>0</td>\n",
       "      <td>662</td>\n",
       "      <td>0</td>\n",
       "    </tr>\n",
       "    <tr>\n",
       "      <th>platelet</th>\n",
       "      <td>0</td>\n",
       "      <td>0</td>\n",
       "      <td>0</td>\n",
       "      <td>0</td>\n",
       "      <td>0</td>\n",
       "      <td>0</td>\n",
       "      <td>0</td>\n",
       "      <td>449</td>\n",
       "    </tr>\n",
       "  </tbody>\n",
       "</table>\n",
       "</div>"
      ],
      "text/plain": [
       "Prédiction    basophil  eosinophil  erythroblast   ig  lymphocyte  monocyte  \\\n",
       "Réalité                                                                       \n",
       "basophil           218           0             0    3           0         1   \n",
       "eosinophil           2         621             1    2           0         0   \n",
       "erythroblast         0           0           302    6           2         0   \n",
       "ig                   0           0             2  575           0         1   \n",
       "lymphocyte           0           0             4    4         226         2   \n",
       "monocyte             0           1             0   13           2       285   \n",
       "neutrophil           0           0             1   19           0         0   \n",
       "platelet             0           0             0    0           0         0   \n",
       "\n",
       "Prédiction    neutrophil  platelet  \n",
       "Réalité                             \n",
       "basophil               0         0  \n",
       "eosinophil             1         0  \n",
       "erythroblast           1         0  \n",
       "ig                    12         0  \n",
       "lymphocyte             0         0  \n",
       "monocyte               1         0  \n",
       "neutrophil           662         0  \n",
       "platelet               0       449  "
      ]
     },
     "execution_count": 6,
     "metadata": {},
     "output_type": "execute_result"
    }
   ],
   "source": [
    "eval_predict_class = predict.argmax(axis = 1)\n",
    "lst_classes = [key for key, val in eval_generator.class_indices.items()]\n",
    "eval_predict_class_name = [lst_classes[i] for i in eval_predict_class]\n",
    "eval_class_name = [lst_classes[i] for i in eval_generator.classes]\n",
    "pd.crosstab(pd.Series(eval_class_name, name='Réalité'),pd.Series(eval_predict_class_name, name='Prédiction'))"
   ]
  },
  {
   "cell_type": "markdown",
   "id": "ad5ed00c",
   "metadata": {},
   "source": [
    "> Des cellules sont classées par erreur en IG \n",
    ">\n",
    "> Sinon les cellules sont bien classées"
   ]
  },
  {
   "cell_type": "code",
   "execution_count": 7,
   "id": "675934b6",
   "metadata": {},
   "outputs": [
    {
     "name": "stdout",
     "output_type": "stream",
     "text": [
      "              precision    recall  f1-score   support\n",
      "\n",
      "    basophil       0.99      0.98      0.99       222\n",
      "  eosinophil       1.00      0.99      0.99       627\n",
      "erythroblast       0.97      0.97      0.97       311\n",
      "          ig       0.92      0.97      0.95       590\n",
      "  lymphocyte       0.98      0.96      0.97       236\n",
      "    monocyte       0.99      0.94      0.96       302\n",
      "  neutrophil       0.98      0.97      0.97       682\n",
      "    platelet       1.00      1.00      1.00       449\n",
      "\n",
      "    accuracy                           0.98      3419\n",
      "   macro avg       0.98      0.97      0.98      3419\n",
      "weighted avg       0.98      0.98      0.98      3419\n",
      "\n"
     ]
    }
   ],
   "source": [
    "print(metrics.classification_report( eval_class_name,eval_predict_class_name ))"
   ]
  },
  {
   "cell_type": "markdown",
   "id": "37a599e1",
   "metadata": {},
   "source": [
    "> Très bon score de 98.3%, confirmation de la précision moindre sur les IG"
   ]
  },
  {
   "cell_type": "code",
   "execution_count": 8,
   "id": "9d6e41c5",
   "metadata": {},
   "outputs": [],
   "source": [
    "# Etude des pourcentages obtenus dans la classe à prédire\n",
    "pourcent = [(predict[np.where(np.array(eval_generator.classes) == i),i]*100).reshape(-1) for i in range(8)]"
   ]
  },
  {
   "cell_type": "code",
   "execution_count": 9,
   "id": "409e0b70",
   "metadata": {},
   "outputs": [
    {
     "data": {
      "image/png": "[encoded data removed]",
      "text/plain": [
       "<Figure size 1152x1008 with 8 Axes>"
      ]
     },
     "metadata": {
      "needs_background": "light"
     },
     "output_type": "display_data"
    }
   ],
   "source": [
    "fig = plt.figure(figsize=(16,14))\n",
    "for i in range(8):\n",
    "        ax = fig.add_subplot(3, 3, i + 1)\n",
    "        plt.title(lst_classes[i])\n",
    "        sns.violinplot(x=pourcent[i],ax=ax)"
   ]
  },
  {
   "cell_type": "markdown",
   "id": "2d1579a3",
   "metadata": {},
   "source": [
    "> Les prédictions sont faites avec des pourcentages supérieures à 85%"
   ]
  },
  {
   "cell_type": "markdown",
   "id": "140f9d48",
   "metadata": {},
   "source": [
    "## Etude sur un autre jeu de données"
   ]
  },
  {
   "cell_type": "code",
   "execution_count": 11,
   "id": "3b745252",
   "metadata": {},
   "outputs": [
    {
     "data": {
      "text/html": [
       "<div>\n",
       "<style scoped>\n",
       "    .dataframe tbody tr th:only-of-type {\n",
       "        vertical-align: middle;\n",
       "    }\n",
       "\n",
       "    .dataframe tbody tr th {\n",
       "        vertical-align: top;\n",
       "    }\n",
       "\n",
       "    .dataframe thead th {\n",
       "        text-align: right;\n",
       "    }\n",
       "</style>\n",
       "<table border=\"1\" class=\"dataframe\">\n",
       "  <thead>\n",
       "    <tr style=\"text-align: right;\">\n",
       "      <th></th>\n",
       "      <th>Patient_ID</th>\n",
       "      <th>file_path</th>\n",
       "      <th>filename</th>\n",
       "      <th>class</th>\n",
       "      <th>size</th>\n",
       "    </tr>\n",
       "  </thead>\n",
       "  <tbody>\n",
       "    <tr>\n",
       "      <th>0</th>\n",
       "      <td>Patient_00</td>\n",
       "      <td>../images_apl_aml/All/All/Patient_00/Signed sl...</td>\n",
       "      <td>BL_15336348.jpg</td>\n",
       "      <td>blast</td>\n",
       "      <td>(363, 360, 3)</td>\n",
       "    </tr>\n",
       "    <tr>\n",
       "      <th>1</th>\n",
       "      <td>Patient_00</td>\n",
       "      <td>../images_apl_aml/All/All/Patient_00/Signed sl...</td>\n",
       "      <td>BL_15336349.jpg</td>\n",
       "      <td>blast</td>\n",
       "      <td>(363, 360, 3)</td>\n",
       "    </tr>\n",
       "    <tr>\n",
       "      <th>2</th>\n",
       "      <td>Patient_00</td>\n",
       "      <td>../images_apl_aml/All/All/Patient_00/Signed sl...</td>\n",
       "      <td>BL_15336361.jpg</td>\n",
       "      <td>blast</td>\n",
       "      <td>(363, 360, 3)</td>\n",
       "    </tr>\n",
       "    <tr>\n",
       "      <th>3</th>\n",
       "      <td>Patient_00</td>\n",
       "      <td>../images_apl_aml/All/All/Patient_00/Signed sl...</td>\n",
       "      <td>BL_15336369.jpg</td>\n",
       "      <td>blast</td>\n",
       "      <td>(363, 360, 3)</td>\n",
       "    </tr>\n",
       "    <tr>\n",
       "      <th>4</th>\n",
       "      <td>Patient_00</td>\n",
       "      <td>../images_apl_aml/All/All/Patient_00/Signed sl...</td>\n",
       "      <td>BL_15336376.jpg</td>\n",
       "      <td>blast</td>\n",
       "      <td>(363, 360, 3)</td>\n",
       "    </tr>\n",
       "  </tbody>\n",
       "</table>\n",
       "</div>"
      ],
      "text/plain": [
       "   Patient_ID                                          file_path  \\\n",
       "0  Patient_00  ../images_apl_aml/All/All/Patient_00/Signed sl...   \n",
       "1  Patient_00  ../images_apl_aml/All/All/Patient_00/Signed sl...   \n",
       "2  Patient_00  ../images_apl_aml/All/All/Patient_00/Signed sl...   \n",
       "3  Patient_00  ../images_apl_aml/All/All/Patient_00/Signed sl...   \n",
       "4  Patient_00  ../images_apl_aml/All/All/Patient_00/Signed sl...   \n",
       "\n",
       "          filename  class           size  \n",
       "0  BL_15336348.jpg  blast  (363, 360, 3)  \n",
       "1  BL_15336349.jpg  blast  (363, 360, 3)  \n",
       "2  BL_15336361.jpg  blast  (363, 360, 3)  \n",
       "3  BL_15336369.jpg  blast  (363, 360, 3)  \n",
       "4  BL_15336376.jpg  blast  (363, 360, 3)  "
      ]
     },
     "execution_count": 11,
     "metadata": {},
     "output_type": "execute_result"
    }
   ],
   "source": [
    "# Cellules issues de la base leucémique\n",
    "df = pd.read_csv('../base_apl_aml.csv',index_col=0)\n",
    "df.head()"
   ]
  },
  {
   "cell_type": "code",
   "execution_count": 12,
   "id": "8d8d92d2",
   "metadata": {},
   "outputs": [],
   "source": [
    "# Récupère uniquement les 8 types de cellules\n",
    "df = df[(df['class'] == 'neutrophil' )\n",
    "      | (df['class'] == 'lymphocyte' )\n",
    "      | (df['class'] == 'ig')\n",
    "       | (df['class'] == 'monocyte')\n",
    "       | (df['class'] == 'eosinophil')\n",
    "       | (df['class'] == 'platelet')\n",
    "       | (df['class'] == 'erythroblast')\n",
    "       | (df['class'] == 'basophil')\n",
    "       ]"
   ]
  },
  {
   "cell_type": "code",
   "execution_count": 14,
   "id": "68a17971",
   "metadata": {},
   "outputs": [
    {
     "data": {
      "text/plain": [
       "lymphocyte      3405\n",
       "neutrophil      2071\n",
       "monocyte        1299\n",
       "ig               920\n",
       "erythroblast     517\n",
       "eosinophil       108\n",
       "platelet          66\n",
       "basophil          53\n",
       "Name: class, dtype: int64"
      ]
     },
     "execution_count": 14,
     "metadata": {},
     "output_type": "execute_result"
    }
   ],
   "source": [
    "df['class'].value_counts()"
   ]
  },
  {
   "cell_type": "code",
   "execution_count": 15,
   "id": "97d11ad2",
   "metadata": {},
   "outputs": [
    {
     "data": {
      "text/plain": [
       "neutrophil      500\n",
       "lymphocyte      500\n",
       "ig              500\n",
       "monocyte        500\n",
       "erythroblast    500\n",
       "eosinophil      108\n",
       "platelet         66\n",
       "basophil         53\n",
       "Name: class, dtype: int64"
      ]
     },
     "execution_count": 15,
     "metadata": {},
     "output_type": "execute_result"
    }
   ],
   "source": [
    "#On réduit à 500 images max par type\n",
    "data_eval = pd.concat( [df[ (df['class'] == 'eosinophil')  | (df['class'] == 'platelet')| (df['class'] == 'basophil')],\n",
    "                          df[(df['class'] == 'neutrophil')].iloc[:500,:],\n",
    "                          df[(df['class'] == 'lymphocyte')].iloc[:500,:],\n",
    "                          df[(df['class'] == 'ig')].iloc[:500,:],\n",
    "                          df[(df['class'] == 'monocyte')].iloc[:500,:],\n",
    "                          df[(df['class'] == 'erythroblast')].iloc[:500,:]\n",
    "                          ])\n",
    "       \n",
    "data_eval['class'].value_counts()"
   ]
  },
  {
   "cell_type": "code",
   "execution_count": 18,
   "id": "9254effe",
   "metadata": {},
   "outputs": [
    {
     "data": {
      "text/html": [
       "<div>\n",
       "<style scoped>\n",
       "    .dataframe tbody tr th:only-of-type {\n",
       "        vertical-align: middle;\n",
       "    }\n",
       "\n",
       "    .dataframe tbody tr th {\n",
       "        vertical-align: top;\n",
       "    }\n",
       "\n",
       "    .dataframe thead th {\n",
       "        text-align: right;\n",
       "    }\n",
       "</style>\n",
       "<table border=\"1\" class=\"dataframe\">\n",
       "  <thead>\n",
       "    <tr style=\"text-align: right;\">\n",
       "      <th></th>\n",
       "      <th>Patient_ID</th>\n",
       "      <th>file_path</th>\n",
       "      <th>filename</th>\n",
       "      <th>class</th>\n",
       "      <th>size</th>\n",
       "    </tr>\n",
       "  </thead>\n",
       "  <tbody>\n",
       "    <tr>\n",
       "      <th>6</th>\n",
       "      <td>Patient_00</td>\n",
       "      <td>../images_apl_aml/All/All/Patient_00/Signed sl...</td>\n",
       "      <td>EO_15336344.jpg</td>\n",
       "      <td>eosinophil</td>\n",
       "      <td>(363, 360, 3)</td>\n",
       "    </tr>\n",
       "    <tr>\n",
       "      <th>7</th>\n",
       "      <td>Patient_00</td>\n",
       "      <td>../images_apl_aml/All/All/Patient_00/Signed sl...</td>\n",
       "      <td>EO_15336371.jpg</td>\n",
       "      <td>eosinophil</td>\n",
       "      <td>(363, 360, 3)</td>\n",
       "    </tr>\n",
       "    <tr>\n",
       "      <th>11</th>\n",
       "      <td>Patient_00</td>\n",
       "      <td>../images_apl_aml/All/All/Patient_00/Signed sl...</td>\n",
       "      <td>GT_15336368.jpg</td>\n",
       "      <td>platelet</td>\n",
       "      <td>(363, 360, 3)</td>\n",
       "    </tr>\n",
       "    <tr>\n",
       "      <th>193</th>\n",
       "      <td>Patient_02</td>\n",
       "      <td>../images_apl_aml/All/All/Patient_02/Signed sl...</td>\n",
       "      <td>BA_5899689.jpg</td>\n",
       "      <td>basophil</td>\n",
       "      <td>(363, 360, 3)</td>\n",
       "    </tr>\n",
       "    <tr>\n",
       "      <th>204</th>\n",
       "      <td>Patient_02</td>\n",
       "      <td>../images_apl_aml/All/All/Patient_02/Signed sl...</td>\n",
       "      <td>GT_5899553.jpg</td>\n",
       "      <td>platelet</td>\n",
       "      <td>(363, 360, 3)</td>\n",
       "    </tr>\n",
       "  </tbody>\n",
       "</table>\n",
       "</div>"
      ],
      "text/plain": [
       "     Patient_ID                                          file_path  \\\n",
       "6    Patient_00  ../images_apl_aml/All/All/Patient_00/Signed sl...   \n",
       "7    Patient_00  ../images_apl_aml/All/All/Patient_00/Signed sl...   \n",
       "11   Patient_00  ../images_apl_aml/All/All/Patient_00/Signed sl...   \n",
       "193  Patient_02  ../images_apl_aml/All/All/Patient_02/Signed sl...   \n",
       "204  Patient_02  ../images_apl_aml/All/All/Patient_02/Signed sl...   \n",
       "\n",
       "            filename       class           size  \n",
       "6    EO_15336344.jpg  eosinophil  (363, 360, 3)  \n",
       "7    EO_15336371.jpg  eosinophil  (363, 360, 3)  \n",
       "11   GT_15336368.jpg    platelet  (363, 360, 3)  \n",
       "193   BA_5899689.jpg    basophil  (363, 360, 3)  \n",
       "204   GT_5899553.jpg    platelet  (363, 360, 3)  "
      ]
     },
     "execution_count": 18,
     "metadata": {},
     "output_type": "execute_result"
    }
   ],
   "source": [
    "data_eval.head()"
   ]
  },
  {
   "cell_type": "markdown",
   "id": "134bbf78",
   "metadata": {},
   "source": [
    "#### Prédictions sur les images issues de la base leucémique sans entrainement dessus"
   ]
  },
  {
   "cell_type": "code",
   "execution_count": 21,
   "id": "f4aa8b51",
   "metadata": {},
   "outputs": [
    {
     "name": "stdout",
     "output_type": "stream",
     "text": [
      "Found 2727 validated image filenames belonging to 8 classes.\n"
     ]
    }
   ],
   "source": [
    "data_generator = ImageDataGenerator(preprocessing_function=preprocess_input)\n",
    "eval_generator = data_generator.flow_from_dataframe(data_eval, x_col='file_path',y_col='class',class_mode ='sparse',target_size=(224,224),\n",
    "                                              batch_size=32,shuffle=False)"
   ]
  },
  {
   "cell_type": "code",
   "execution_count": 22,
   "id": "d0af40f3",
   "metadata": {},
   "outputs": [
    {
     "name": "stdout",
     "output_type": "stream",
     "text": [
      "              precision    recall  f1-score   support\n",
      "\n",
      "    basophil       1.00      0.17      0.29        53\n",
      "  eosinophil       0.92      0.20      0.33       108\n",
      "erythroblast       0.52      0.96      0.67       500\n",
      "          ig       0.27      0.34      0.30       500\n",
      "  lymphocyte       0.28      0.22      0.25       500\n",
      "    monocyte       0.59      0.16      0.25       500\n",
      "  neutrophil       0.87      0.62      0.72       500\n",
      "    platelet       0.15      0.62      0.24        66\n",
      "\n",
      "    accuracy                           0.45      2727\n",
      "   macro avg       0.58      0.41      0.38      2727\n",
      "weighted avg       0.52      0.45      0.43      2727\n",
      "\n"
     ]
    }
   ],
   "source": [
    "#Classes prédites\n",
    "predict = model.predict(eval_generator)\n",
    "eval_predict_class = predict.argmax(axis = 1)\n",
    "lst_classes = [key for key, val in eval_generator.class_indices.items()]\n",
    "eval_predict_class_name = [lst_classes[i] for i in eval_predict_class]\n",
    "eval_class_name = [lst_classes[i] for i in eval_generator.classes]\n",
    "print(metrics.classification_report( eval_class_name,eval_predict_class_name ))"
   ]
  },
  {
   "cell_type": "markdown",
   "id": "0ff9fe8e",
   "metadata": {},
   "source": [
    "> Les rappels sont vraiment faibles sur les basophils, eosinophil, ig, lymphocyte, monocyte\n",
    ">\n",
    "> La précision est faible sur les IG, monocyte et plus étonnant les platelets"
   ]
  },
  {
   "cell_type": "code",
   "execution_count": 23,
   "id": "c61cc9a4",
   "metadata": {},
   "outputs": [
    {
     "data": {
      "text/html": [
       "<div>\n",
       "<style scoped>\n",
       "    .dataframe tbody tr th:only-of-type {\n",
       "        vertical-align: middle;\n",
       "    }\n",
       "\n",
       "    .dataframe tbody tr th {\n",
       "        vertical-align: top;\n",
       "    }\n",
       "\n",
       "    .dataframe thead th {\n",
       "        text-align: right;\n",
       "    }\n",
       "</style>\n",
       "<table border=\"1\" class=\"dataframe\">\n",
       "  <thead>\n",
       "    <tr style=\"text-align: right;\">\n",
       "      <th>Prédiction</th>\n",
       "      <th>basophil</th>\n",
       "      <th>eosinophil</th>\n",
       "      <th>erythroblast</th>\n",
       "      <th>ig</th>\n",
       "      <th>lymphocyte</th>\n",
       "      <th>monocyte</th>\n",
       "      <th>neutrophil</th>\n",
       "      <th>platelet</th>\n",
       "    </tr>\n",
       "    <tr>\n",
       "      <th>Réalité</th>\n",
       "      <th></th>\n",
       "      <th></th>\n",
       "      <th></th>\n",
       "      <th></th>\n",
       "      <th></th>\n",
       "      <th></th>\n",
       "      <th></th>\n",
       "      <th></th>\n",
       "    </tr>\n",
       "  </thead>\n",
       "  <tbody>\n",
       "    <tr>\n",
       "      <th>basophil</th>\n",
       "      <td>9</td>\n",
       "      <td>0</td>\n",
       "      <td>8</td>\n",
       "      <td>17</td>\n",
       "      <td>8</td>\n",
       "      <td>1</td>\n",
       "      <td>1</td>\n",
       "      <td>9</td>\n",
       "    </tr>\n",
       "    <tr>\n",
       "      <th>eosinophil</th>\n",
       "      <td>0</td>\n",
       "      <td>22</td>\n",
       "      <td>26</td>\n",
       "      <td>19</td>\n",
       "      <td>5</td>\n",
       "      <td>3</td>\n",
       "      <td>17</td>\n",
       "      <td>16</td>\n",
       "    </tr>\n",
       "    <tr>\n",
       "      <th>erythroblast</th>\n",
       "      <td>0</td>\n",
       "      <td>0</td>\n",
       "      <td>480</td>\n",
       "      <td>2</td>\n",
       "      <td>5</td>\n",
       "      <td>0</td>\n",
       "      <td>2</td>\n",
       "      <td>11</td>\n",
       "    </tr>\n",
       "    <tr>\n",
       "      <th>ig</th>\n",
       "      <td>0</td>\n",
       "      <td>0</td>\n",
       "      <td>11</td>\n",
       "      <td>168</td>\n",
       "      <td>178</td>\n",
       "      <td>46</td>\n",
       "      <td>6</td>\n",
       "      <td>91</td>\n",
       "    </tr>\n",
       "    <tr>\n",
       "      <th>lymphocyte</th>\n",
       "      <td>0</td>\n",
       "      <td>0</td>\n",
       "      <td>267</td>\n",
       "      <td>86</td>\n",
       "      <td>111</td>\n",
       "      <td>1</td>\n",
       "      <td>0</td>\n",
       "      <td>35</td>\n",
       "    </tr>\n",
       "    <tr>\n",
       "      <th>monocyte</th>\n",
       "      <td>0</td>\n",
       "      <td>0</td>\n",
       "      <td>3</td>\n",
       "      <td>268</td>\n",
       "      <td>84</td>\n",
       "      <td>79</td>\n",
       "      <td>19</td>\n",
       "      <td>47</td>\n",
       "    </tr>\n",
       "    <tr>\n",
       "      <th>neutrophil</th>\n",
       "      <td>0</td>\n",
       "      <td>2</td>\n",
       "      <td>115</td>\n",
       "      <td>52</td>\n",
       "      <td>2</td>\n",
       "      <td>2</td>\n",
       "      <td>308</td>\n",
       "      <td>19</td>\n",
       "    </tr>\n",
       "    <tr>\n",
       "      <th>platelet</th>\n",
       "      <td>0</td>\n",
       "      <td>0</td>\n",
       "      <td>21</td>\n",
       "      <td>0</td>\n",
       "      <td>1</td>\n",
       "      <td>2</td>\n",
       "      <td>1</td>\n",
       "      <td>41</td>\n",
       "    </tr>\n",
       "  </tbody>\n",
       "</table>\n",
       "</div>"
      ],
      "text/plain": [
       "Prédiction    basophil  eosinophil  erythroblast   ig  lymphocyte  monocyte  \\\n",
       "Réalité                                                                       \n",
       "basophil             9           0             8   17           8         1   \n",
       "eosinophil           0          22            26   19           5         3   \n",
       "erythroblast         0           0           480    2           5         0   \n",
       "ig                   0           0            11  168         178        46   \n",
       "lymphocyte           0           0           267   86         111         1   \n",
       "monocyte             0           0             3  268          84        79   \n",
       "neutrophil           0           2           115   52           2         2   \n",
       "platelet             0           0            21    0           1         2   \n",
       "\n",
       "Prédiction    neutrophil  platelet  \n",
       "Réalité                             \n",
       "basophil               1         9  \n",
       "eosinophil            17        16  \n",
       "erythroblast           2        11  \n",
       "ig                     6        91  \n",
       "lymphocyte             0        35  \n",
       "monocyte              19        47  \n",
       "neutrophil           308        19  \n",
       "platelet               1        41  "
      ]
     },
     "execution_count": 23,
     "metadata": {},
     "output_type": "execute_result"
    }
   ],
   "source": [
    "pd.crosstab(pd.Series(eval_class_name, name='Réalité'),pd.Series(eval_predict_class_name, name='Prédiction'))"
   ]
  },
  {
   "cell_type": "markdown",
   "id": "c7e00826",
   "metadata": {},
   "source": [
    "> Problème de confusion avec IG/Monocyte et IG/Lymphocyte\n",
    ">\n",
    "> Nombreuses cellules prédites à tort en IG, erythroblast et lymphocyte"
   ]
  },
  {
   "cell_type": "markdown",
   "id": "2a3ef361",
   "metadata": {},
   "source": [
    "### Conclusion"
   ]
  },
  {
   "cell_type": "markdown",
   "id": "b3c9cd53",
   "metadata": {},
   "source": [
    "> Très bon score obtenu sur la même base d'image, mais mauvais score sur une autre base semblant cependant très similaire\n",
    ">\n",
    "> Le modèle identifie des caractéristiques qui ne se retrouve pas sur la nouvelle base, ne semble donc pas identifier les bons caractéristiques\n"
   ]
  },
  {
   "cell_type": "code",
   "execution_count": null,
   "id": "d31f0ed1",
   "metadata": {},
   "outputs": [],
   "source": []
  }
 ],
 "metadata": {
  "kernelspec": {
   "display_name": "Python 3 (ipykernel)",
   "language": "python",
   "name": "python3"
  },
  "language_info": {
   "codemirror_mode": {
    "name": "ipython",
    "version": 3
   },
   "file_extension": ".py",
   "mimetype": "text/x-python",
   "name": "python",
   "nbconvert_exporter": "python",
   "pygments_lexer": "ipython3",
   "version": "3.8.11"
  }
 },
 "nbformat": 4,
 "nbformat_minor": 5
}
