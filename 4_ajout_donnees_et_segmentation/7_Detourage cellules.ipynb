{
 "cells": [
  {
   "cell_type": "markdown",
   "id": "90e6aa6a",
   "metadata": {},
   "source": [
    "#### Détourage des cellules"
   ]
  },
  {
   "cell_type": "markdown",
   "id": "210347aa",
   "metadata": {},
   "source": [
    "> Choix d'enregistrer les images des cellules détourées pour modèle de prédiction de type \n",
    ">\n",
    "> Test réalisé de détourage via prédiction par le modèle de segmentation au moment de l'entrainement d'un modèle de prédiction : temps d'entrainement trop long"
   ]
  },
  {
   "cell_type": "code",
   "execution_count": 8,
   "id": "15d4fbe9",
   "metadata": {},
   "outputs": [],
   "source": [
    "import tensorflow as tf\n",
    "import os\n",
    "import matplotlib.pyplot as plt\n",
    "from sklearn.utils import shuffle\n",
    "import numpy as np\n",
    "import pandas as pd\n",
    "import cv2"
   ]
  },
  {
   "cell_type": "code",
   "execution_count": 9,
   "id": "5fd989ef",
   "metadata": {},
   "outputs": [
    {
     "name": "stdout",
     "output_type": "stream",
     "text": [
      "<class 'pandas.core.frame.DataFrame'>\n",
      "Int64Index: 31735 entries, 0 to 15516\n",
      "Data columns (total 3 columns):\n",
      " #   Column     Non-Null Count  Dtype \n",
      "---  ------     --------------  ----- \n",
      " 0   file_path  31735 non-null  object\n",
      " 1   filename   31735 non-null  object\n",
      " 2   class      31735 non-null  object\n",
      "dtypes: object(3)\n",
      "memory usage: 991.7+ KB\n"
     ]
    }
   ],
   "source": [
    "data = pd.read_csv('../base_10_class.csv',index_col=0)\n",
    "data.info()"
   ]
  },
  {
   "cell_type": "code",
   "execution_count": 10,
   "id": "519790b1",
   "metadata": {},
   "outputs": [],
   "source": [
    "from keras.models import load_model\n",
    "model_mask = load_model('segmentation_fcn')"
   ]
  },
  {
   "cell_type": "code",
   "execution_count": 11,
   "id": "ca604a29",
   "metadata": {},
   "outputs": [],
   "source": [
    "# Process pour detourage\n",
    "# Fonction preprocess pour les images à detourer (modèle de masque)\n",
    "def load_and_preprocess_mask(img_filepath):\n",
    "    img = tf.io.read_file(img_filepath)\n",
    "    img = tf.io.decode_jpeg(img, channels=3)\n",
    "    img = tf.image.resize(img, [128, 128]) \n",
    "    img = tf.cast(img, tf.float32) / 255.0\n",
    "    return img\n",
    "\n",
    "# Création du masque à partir de la prédiction, mise au format nécessaire\n",
    "def create_mask(pred_mask,resize):\n",
    "    mask = tf.argmax(pred_mask, axis=-1) \n",
    "    mask = mask[..., tf.newaxis]\n",
    "    mask = tf.image.resize(mask,resize)\n",
    "    return tf.squeeze(mask[0],-1)\n",
    "# Detourage de la cellule en utilisant la prédiction du modèle de masque\n",
    "\n",
    "def cut_contour(img_filepath,model,resize):\n",
    "    img_to_mask = load_and_preprocess_mask(img_filepath)\n",
    "    pred_mask = model(img_to_mask[tf.newaxis, ...])\n",
    "    mask = create_mask(pred_mask,resize)\n",
    "    img = tf.io.read_file(img_filepath)\n",
    "    img = tf.io.decode_jpeg(img, channels=3)\n",
    "    img = tf.image.resize(img, resize) # => Float en même temps\n",
    "    # Supprime autour de la cellule => noir\n",
    "    mask_bg = (mask == 0)[..., tf.newaxis]\n",
    "    mask_bg  = tf.cast(mask_bg, tf.float32)\n",
    "    mask_bg  = tf.concat([mask_bg, mask_bg, mask_bg], 2)\n",
    "    return (img *  mask_bg )\n"
   ]
  },
  {
   "cell_type": "code",
   "execution_count": 12,
   "id": "80917e6b",
   "metadata": {},
   "outputs": [],
   "source": [
    "def load_and_preprocess(filename, model, resize=(255,255)):\n",
    "    # Detourage\n",
    "    img = cut_contour(filename,model,resize)\n",
    "    return img"
   ]
  },
  {
   "cell_type": "code",
   "execution_count": 13,
   "id": "3eb807f3",
   "metadata": {},
   "outputs": [],
   "source": [
    "AUTO = tf.data.experimental.AUTOTUNE"
   ]
  },
  {
   "cell_type": "code",
   "execution_count": 14,
   "id": "22f664ca",
   "metadata": {},
   "outputs": [
    {
     "name": "stdout",
     "output_type": "stream",
     "text": [
      "WARNING:tensorflow:AutoGraph could not transform <function cut_contour at 0x000002031FF90E50> and will run it as-is.\n",
      "Please report this to the TensorFlow team. When filing the bug, set the verbosity to 10 (on Linux, `export AUTOGRAPH_VERBOSITY=10`) and attach the full output.\n",
      "Cause: module 'gast' has no attribute 'Index'\n",
      "To silence this warning, decorate the function with @tf.autograph.experimental.do_not_convert\n",
      "WARNING: AutoGraph could not transform <function cut_contour at 0x000002031FF90E50> and will run it as-is.\n",
      "Please report this to the TensorFlow team. When filing the bug, set the verbosity to 10 (on Linux, `export AUTOGRAPH_VERBOSITY=10`) and attach the full output.\n",
      "Cause: module 'gast' has no attribute 'Index'\n",
      "To silence this warning, decorate the function with @tf.autograph.experimental.do_not_convert\n"
     ]
    }
   ],
   "source": [
    "dataset = tf.data.Dataset.from_tensor_slices((data['file_path'],data['filename']))\n",
    "dataset = (dataset.map(lambda x, y: [load_and_preprocess(x, model_mask),y], num_parallel_calls=AUTO))"
   ]
  },
  {
   "cell_type": "code",
   "execution_count": 15,
   "id": "424f8329",
   "metadata": {},
   "outputs": [],
   "source": [
    "#!mkdir ..\\images_detour # Windows\n",
    "!mkdir ../images_detour"
   ]
  },
  {
   "cell_type": "code",
   "execution_count": 16,
   "id": "9ebcfcb6",
   "metadata": {},
   "outputs": [],
   "source": [
    "# Enregistrement des images détourées sans sous dossier\n",
    "for image, filename in dataset.take(-1):\n",
    "     cv2.imwrite('../images_detour/'+tf.compat.as_str_any(filename.numpy()), tf.cast(image, tf.int16).numpy())"
   ]
  },
  {
   "cell_type": "markdown",
   "id": "6b325ed3",
   "metadata": {},
   "source": [
    "### Vérification du détourage"
   ]
  },
  {
   "cell_type": "markdown",
   "id": "b117e026",
   "metadata": {},
   "source": [
    "> Suppression de toutes les globules rouges et du fond, mais quelques fois rognage de la cellule\n",
    ">\n",
    "> 132 images supprimées suites à vérification car anomalies"
   ]
  },
  {
   "cell_type": "code",
   "execution_count": 18,
   "id": "ccd61354",
   "metadata": {},
   "outputs": [],
   "source": [
    "# Récupère le nom de toutes les images sauvegardées => suppression dans la bd\n",
    "import os\n",
    "files=[]\n",
    "for file in os.scandir('../images_detour'):\n",
    "    files.append(file.name)"
   ]
  },
  {
   "cell_type": "code",
   "execution_count": 19,
   "id": "1c6d7146",
   "metadata": {},
   "outputs": [
    {
     "data": {
      "text/plain": [
       "31603"
      ]
     },
     "execution_count": 19,
     "metadata": {},
     "output_type": "execute_result"
    }
   ],
   "source": [
    "len(files)"
   ]
  },
  {
   "cell_type": "code",
   "execution_count": 21,
   "id": "de3a9441",
   "metadata": {},
   "outputs": [],
   "source": [
    "data[data['filename'].isin(files)].reset_index().to_csv('../files_detour.csv')"
   ]
  }
 ],
 "metadata": {
  "kernelspec": {
   "display_name": "Python 3 (ipykernel)",
   "language": "python",
   "name": "python3"
  },
  "language_info": {
   "codemirror_mode": {
    "name": "ipython",
    "version": 3
   },
   "file_extension": ".py",
   "mimetype": "text/x-python",
   "name": "python",
   "nbconvert_exporter": "python",
   "pygments_lexer": "ipython3",
   "version": "3.8.11"
  }
 },
 "nbformat": 4,
 "nbformat_minor": 5
}
