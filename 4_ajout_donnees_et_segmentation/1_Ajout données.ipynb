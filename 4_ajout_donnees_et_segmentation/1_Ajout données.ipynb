{
 "cells": [
  {
   "cell_type": "code",
   "execution_count": 1,
   "id": "a86addb6",
   "metadata": {},
   "outputs": [],
   "source": [
    "%matplotlib inline\n",
    "import numpy as np\n",
    "\n",
    "import matplotlib.pyplot as plt\n",
    "import cv2\n",
    "import seaborn as sns\n",
    "\n",
    "import pandas as pd"
   ]
  },
  {
   "cell_type": "markdown",
   "id": "f83e1041",
   "metadata": {},
   "source": [
    "> Les leucémies sont caractérisées par des cellules se trouvant dans le sang qui normalement ne doivent se trouver que dans la moëlle osseuse\n",
    ">\n",
    "> On identifie ici les blast, promyelocyte, myelocyte et metamyelocyte.\n",
    ">\n",
    "> La catégorie IG regroupe les promyelocyte, myelocyte et metamyelocyte\n",
    ">\n",
    "> Certaines cellules sont également non identifiables car \"éclatées\" lors du frottis, elles sont classées en \"smudge\""
   ]
  },
  {
   "cell_type": "markdown",
   "id": "f7b92ae7",
   "metadata": {},
   "source": [
    "> L'intérêt est donc de pouvoir identifier ces différentes cellules pour mettre une alerte lors des analyses si ces types de cellules sont présentes\n",
    ">\n",
    "> En prenant les images provenant de la base des données leucémiques, on retrouve les catégories précitées\n",
    ">\n",
    "> L'idée est donc de classifier les 10 types de cellules\n",
    "> * smudge, blast, eosinophil, erythroblast, lymphocyte, ig, neutrophil, monocyte, basophil, platelet"
   ]
  },
  {
   "cell_type": "code",
   "execution_count": 2,
   "id": "7d2c3291",
   "metadata": {},
   "outputs": [
    {
     "data": {
      "text/html": [
       "<div>\n",
       "<style scoped>\n",
       "    .dataframe tbody tr th:only-of-type {\n",
       "        vertical-align: middle;\n",
       "    }\n",
       "\n",
       "    .dataframe tbody tr th {\n",
       "        vertical-align: top;\n",
       "    }\n",
       "\n",
       "    .dataframe thead th {\n",
       "        text-align: right;\n",
       "    }\n",
       "</style>\n",
       "<table border=\"1\" class=\"dataframe\">\n",
       "  <thead>\n",
       "    <tr style=\"text-align: right;\">\n",
       "      <th></th>\n",
       "      <th>file_path</th>\n",
       "      <th>filename</th>\n",
       "      <th>class</th>\n",
       "      <th>size</th>\n",
       "    </tr>\n",
       "  </thead>\n",
       "  <tbody>\n",
       "    <tr>\n",
       "      <th>0</th>\n",
       "      <td>../images_mendeley/PBC_dataset_normal_DIB/baso...</td>\n",
       "      <td>BA_100102.jpg</td>\n",
       "      <td>basophil</td>\n",
       "      <td>363x360</td>\n",
       "    </tr>\n",
       "    <tr>\n",
       "      <th>1</th>\n",
       "      <td>../images_mendeley/PBC_dataset_normal_DIB/baso...</td>\n",
       "      <td>BA_101381.jpg</td>\n",
       "      <td>basophil</td>\n",
       "      <td>363x360</td>\n",
       "    </tr>\n",
       "    <tr>\n",
       "      <th>2</th>\n",
       "      <td>../images_mendeley/PBC_dataset_normal_DIB/baso...</td>\n",
       "      <td>BA_101611.jpg</td>\n",
       "      <td>basophil</td>\n",
       "      <td>363x360</td>\n",
       "    </tr>\n",
       "    <tr>\n",
       "      <th>3</th>\n",
       "      <td>../images_mendeley/PBC_dataset_normal_DIB/baso...</td>\n",
       "      <td>BA_102039.jpg</td>\n",
       "      <td>basophil</td>\n",
       "      <td>363x360</td>\n",
       "    </tr>\n",
       "    <tr>\n",
       "      <th>4</th>\n",
       "      <td>../images_mendeley/PBC_dataset_normal_DIB/baso...</td>\n",
       "      <td>BA_102750.jpg</td>\n",
       "      <td>basophil</td>\n",
       "      <td>363x360</td>\n",
       "    </tr>\n",
       "  </tbody>\n",
       "</table>\n",
       "</div>"
      ],
      "text/plain": [
       "                                           file_path       filename     class  \\\n",
       "0  ../images_mendeley/PBC_dataset_normal_DIB/baso...  BA_100102.jpg  basophil   \n",
       "1  ../images_mendeley/PBC_dataset_normal_DIB/baso...  BA_101381.jpg  basophil   \n",
       "2  ../images_mendeley/PBC_dataset_normal_DIB/baso...  BA_101611.jpg  basophil   \n",
       "3  ../images_mendeley/PBC_dataset_normal_DIB/baso...  BA_102039.jpg  basophil   \n",
       "4  ../images_mendeley/PBC_dataset_normal_DIB/baso...  BA_102750.jpg  basophil   \n",
       "\n",
       "      size  \n",
       "0  363x360  \n",
       "1  363x360  \n",
       "2  363x360  \n",
       "3  363x360  \n",
       "4  363x360  "
      ]
     },
     "execution_count": 2,
     "metadata": {},
     "output_type": "execute_result"
    }
   ],
   "source": [
    "data_mendeley = pd.read_csv('../base_mendeley.csv',index_col=0)\n",
    "data_mendeley.head()"
   ]
  },
  {
   "cell_type": "code",
   "execution_count": 3,
   "id": "2aa2123e",
   "metadata": {},
   "outputs": [
    {
     "data": {
      "text/html": [
       "<div>\n",
       "<style scoped>\n",
       "    .dataframe tbody tr th:only-of-type {\n",
       "        vertical-align: middle;\n",
       "    }\n",
       "\n",
       "    .dataframe tbody tr th {\n",
       "        vertical-align: top;\n",
       "    }\n",
       "\n",
       "    .dataframe thead th {\n",
       "        text-align: right;\n",
       "    }\n",
       "</style>\n",
       "<table border=\"1\" class=\"dataframe\">\n",
       "  <thead>\n",
       "    <tr style=\"text-align: right;\">\n",
       "      <th></th>\n",
       "      <th>Patient_ID</th>\n",
       "      <th>file_path</th>\n",
       "      <th>filename</th>\n",
       "      <th>class</th>\n",
       "      <th>size</th>\n",
       "    </tr>\n",
       "  </thead>\n",
       "  <tbody>\n",
       "    <tr>\n",
       "      <th>0</th>\n",
       "      <td>Patient_00</td>\n",
       "      <td>../images_apl_aml/All/All/Patient_00/Signed sl...</td>\n",
       "      <td>BL_15336348.jpg</td>\n",
       "      <td>blast</td>\n",
       "      <td>(363, 360, 3)</td>\n",
       "    </tr>\n",
       "    <tr>\n",
       "      <th>1</th>\n",
       "      <td>Patient_00</td>\n",
       "      <td>../images_apl_aml/All/All/Patient_00/Signed sl...</td>\n",
       "      <td>BL_15336349.jpg</td>\n",
       "      <td>blast</td>\n",
       "      <td>(363, 360, 3)</td>\n",
       "    </tr>\n",
       "    <tr>\n",
       "      <th>2</th>\n",
       "      <td>Patient_00</td>\n",
       "      <td>../images_apl_aml/All/All/Patient_00/Signed sl...</td>\n",
       "      <td>BL_15336361.jpg</td>\n",
       "      <td>blast</td>\n",
       "      <td>(363, 360, 3)</td>\n",
       "    </tr>\n",
       "    <tr>\n",
       "      <th>3</th>\n",
       "      <td>Patient_00</td>\n",
       "      <td>../images_apl_aml/All/All/Patient_00/Signed sl...</td>\n",
       "      <td>BL_15336369.jpg</td>\n",
       "      <td>blast</td>\n",
       "      <td>(363, 360, 3)</td>\n",
       "    </tr>\n",
       "    <tr>\n",
       "      <th>4</th>\n",
       "      <td>Patient_00</td>\n",
       "      <td>../images_apl_aml/All/All/Patient_00/Signed sl...</td>\n",
       "      <td>BL_15336376.jpg</td>\n",
       "      <td>blast</td>\n",
       "      <td>(363, 360, 3)</td>\n",
       "    </tr>\n",
       "  </tbody>\n",
       "</table>\n",
       "</div>"
      ],
      "text/plain": [
       "   Patient_ID                                          file_path  \\\n",
       "0  Patient_00  ../images_apl_aml/All/All/Patient_00/Signed sl...   \n",
       "1  Patient_00  ../images_apl_aml/All/All/Patient_00/Signed sl...   \n",
       "2  Patient_00  ../images_apl_aml/All/All/Patient_00/Signed sl...   \n",
       "3  Patient_00  ../images_apl_aml/All/All/Patient_00/Signed sl...   \n",
       "4  Patient_00  ../images_apl_aml/All/All/Patient_00/Signed sl...   \n",
       "\n",
       "          filename  class           size  \n",
       "0  BL_15336348.jpg  blast  (363, 360, 3)  \n",
       "1  BL_15336349.jpg  blast  (363, 360, 3)  \n",
       "2  BL_15336361.jpg  blast  (363, 360, 3)  \n",
       "3  BL_15336369.jpg  blast  (363, 360, 3)  \n",
       "4  BL_15336376.jpg  blast  (363, 360, 3)  "
      ]
     },
     "execution_count": 3,
     "metadata": {},
     "output_type": "execute_result"
    }
   ],
   "source": [
    "data_apl_aml = pd.read_csv('../base_apl_aml.csv',index_col=0)\n",
    "data_apl_aml.head()"
   ]
  },
  {
   "cell_type": "code",
   "execution_count": 7,
   "id": "133451a4",
   "metadata": {},
   "outputs": [
    {
     "data": {
      "text/html": [
       "<div>\n",
       "<style scoped>\n",
       "    .dataframe tbody tr th:only-of-type {\n",
       "        vertical-align: middle;\n",
       "    }\n",
       "\n",
       "    .dataframe tbody tr th {\n",
       "        vertical-align: top;\n",
       "    }\n",
       "\n",
       "    .dataframe thead th {\n",
       "        text-align: right;\n",
       "    }\n",
       "</style>\n",
       "<table border=\"1\" class=\"dataframe\">\n",
       "  <thead>\n",
       "    <tr style=\"text-align: right;\">\n",
       "      <th></th>\n",
       "      <th>file_path</th>\n",
       "      <th>filename</th>\n",
       "      <th>class</th>\n",
       "    </tr>\n",
       "  </thead>\n",
       "  <tbody>\n",
       "    <tr>\n",
       "      <th>0</th>\n",
       "      <td>../images_mendeley/PBC_dataset_normal_DIB/baso...</td>\n",
       "      <td>BA_100102.jpg</td>\n",
       "      <td>basophil</td>\n",
       "    </tr>\n",
       "    <tr>\n",
       "      <th>1</th>\n",
       "      <td>../images_mendeley/PBC_dataset_normal_DIB/baso...</td>\n",
       "      <td>BA_101381.jpg</td>\n",
       "      <td>basophil</td>\n",
       "    </tr>\n",
       "    <tr>\n",
       "      <th>2</th>\n",
       "      <td>../images_mendeley/PBC_dataset_normal_DIB/baso...</td>\n",
       "      <td>BA_101611.jpg</td>\n",
       "      <td>basophil</td>\n",
       "    </tr>\n",
       "    <tr>\n",
       "      <th>3</th>\n",
       "      <td>../images_mendeley/PBC_dataset_normal_DIB/baso...</td>\n",
       "      <td>BA_102039.jpg</td>\n",
       "      <td>basophil</td>\n",
       "    </tr>\n",
       "    <tr>\n",
       "      <th>4</th>\n",
       "      <td>../images_mendeley/PBC_dataset_normal_DIB/baso...</td>\n",
       "      <td>BA_102750.jpg</td>\n",
       "      <td>basophil</td>\n",
       "    </tr>\n",
       "  </tbody>\n",
       "</table>\n",
       "</div>"
      ],
      "text/plain": [
       "                                           file_path       filename     class\n",
       "0  ../images_mendeley/PBC_dataset_normal_DIB/baso...  BA_100102.jpg  basophil\n",
       "1  ../images_mendeley/PBC_dataset_normal_DIB/baso...  BA_101381.jpg  basophil\n",
       "2  ../images_mendeley/PBC_dataset_normal_DIB/baso...  BA_101611.jpg  basophil\n",
       "3  ../images_mendeley/PBC_dataset_normal_DIB/baso...  BA_102039.jpg  basophil\n",
       "4  ../images_mendeley/PBC_dataset_normal_DIB/baso...  BA_102750.jpg  basophil"
      ]
     },
     "execution_count": 7,
     "metadata": {},
     "output_type": "execute_result"
    }
   ],
   "source": [
    "data = pd.concat([data_mendeley.drop(columns=['size']),data_apl_aml.drop(columns=['size','Patient_ID'])])\n",
    "data = data.reset_index().drop(columns=['index'])\n",
    "data.head()"
   ]
  },
  {
   "cell_type": "code",
   "execution_count": 8,
   "id": "7fab81eb",
   "metadata": {},
   "outputs": [
    {
     "data": {
      "text/plain": [
       "neutrophil      5400\n",
       "lymphocyte      4618\n",
       "ig              3815\n",
       "blast           3296\n",
       "eosinophil      3225\n",
       "smudge          2909\n",
       "monocyte        2719\n",
       "platelet        2414\n",
       "erythroblast    2068\n",
       "basophil        1271\n",
       "Name: class, dtype: int64"
      ]
     },
     "execution_count": 8,
     "metadata": {},
     "output_type": "execute_result"
    }
   ],
   "source": [
    "data['class'].value_counts()"
   ]
  },
  {
   "cell_type": "code",
   "execution_count": 9,
   "id": "3a2d7a8c",
   "metadata": {},
   "outputs": [],
   "source": [
    "data.to_csv('../base_10_class.csv')"
   ]
  },
  {
   "cell_type": "code",
   "execution_count": 10,
   "id": "1e2b107a",
   "metadata": {},
   "outputs": [
    {
     "name": "stdout",
     "output_type": "stream",
     "text": [
      "<class 'pandas.core.frame.DataFrame'>\n",
      "RangeIndex: 31735 entries, 0 to 31734\n",
      "Data columns (total 3 columns):\n",
      " #   Column     Non-Null Count  Dtype \n",
      "---  ------     --------------  ----- \n",
      " 0   file_path  31735 non-null  object\n",
      " 1   filename   31735 non-null  object\n",
      " 2   class      31735 non-null  object\n",
      "dtypes: object(3)\n",
      "memory usage: 743.9+ KB\n"
     ]
    }
   ],
   "source": [
    "data.info()"
   ]
  },
  {
   "cell_type": "markdown",
   "id": "51f0b288",
   "metadata": {},
   "source": [
    "> **Nous avons désormais une base de 31735 images classifiées en 10 catégories**"
   ]
  }
 ],
 "metadata": {
  "kernelspec": {
   "display_name": "Python 3 (ipykernel)",
   "language": "python",
   "name": "python3"
  },
  "language_info": {
   "codemirror_mode": {
    "name": "ipython",
    "version": 3
   },
   "file_extension": ".py",
   "mimetype": "text/x-python",
   "name": "python",
   "nbconvert_exporter": "python",
   "pygments_lexer": "ipython3",
   "version": "3.8.11"
  }
 },
 "nbformat": 4,
 "nbformat_minor": 5
}
