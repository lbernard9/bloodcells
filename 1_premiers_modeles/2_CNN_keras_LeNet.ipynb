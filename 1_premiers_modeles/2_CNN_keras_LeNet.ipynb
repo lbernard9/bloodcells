{
 "cells": [
  {
   "cell_type": "markdown",
   "id": "ae91e403",
   "metadata": {},
   "source": [
    "### Premiers modèles convolutifs"
   ]
  },
  {
   "cell_type": "markdown",
   "id": "cc5fea4f",
   "metadata": {},
   "source": [
    "> Premier modèle avec seulement 4000 images chargées en mémoire. Pas encore vu possibilité de charger les images pendant l'entrainement\n",
    "> Pas encore vu les callbacks non plus"
   ]
  },
  {
   "cell_type": "code",
   "execution_count": 1,
   "id": "5cf79b2a",
   "metadata": {},
   "outputs": [],
   "source": [
    "%matplotlib inline\n",
    "import numpy as np\n",
    "\n",
    "from keras.models import Sequential\n",
    "from keras.layers import Dense\n",
    "from keras.layers import Dropout \n",
    "from keras.layers import Flatten\n",
    "from keras.layers.convolutional import Conv2D \n",
    "from keras.layers.convolutional import MaxPooling2D\n",
    "from keras.utils import np_utils \n",
    "\n",
    "from sklearn import metrics\n",
    "\n",
    "import matplotlib.pyplot as plt\n",
    "from matplotlib import cm\n",
    "\n",
    "import itertools"
   ]
  },
  {
   "cell_type": "code",
   "execution_count": 2,
   "id": "3268857a",
   "metadata": {},
   "outputs": [],
   "source": [
    "from sklearn.model_selection  import train_test_split\n",
    "import pandas as pd"
   ]
  },
  {
   "cell_type": "code",
   "execution_count": 3,
   "id": "8972aced",
   "metadata": {},
   "outputs": [],
   "source": [
    "import utils_blood_cells as utils"
   ]
  },
  {
   "cell_type": "markdown",
   "id": "a36be766",
   "metadata": {},
   "source": [
    "**Classification  CNN images en gris**"
   ]
  },
  {
   "cell_type": "code",
   "execution_count": 4,
   "id": "d1845c42",
   "metadata": {},
   "outputs": [
    {
     "data": {
      "text/plain": [
       "(4000, 256, 256, 1)"
      ]
     },
     "execution_count": 4,
     "metadata": {},
     "output_type": "execute_result"
    }
   ],
   "source": [
    "# en gris non flatten\n",
    "utils.change_path_root('../images_mendeley/dataset_redim/')\n",
    "df_data_cells, data =  utils.get_mendeley_cells(size=4000, stratify_category = True,flatten=False)\n",
    "data.shape"
   ]
  },
  {
   "cell_type": "code",
   "execution_count": 5,
   "id": "41cc05ac",
   "metadata": {},
   "outputs": [
    {
     "data": {
      "text/plain": [
       "neutrophil      500\n",
       "eosinophil      500\n",
       "ig              500\n",
       "platelet        500\n",
       "erythroblast    500\n",
       "monocyte        500\n",
       "basophil        500\n",
       "lymphocyte      500\n",
       "Name: category, dtype: int64"
      ]
     },
     "execution_count": 5,
     "metadata": {},
     "output_type": "execute_result"
    }
   ],
   "source": [
    "#Cible : le type de cellule\n",
    "target = df_data_cells['category'] \n",
    "target.value_counts()"
   ]
  },
  {
   "cell_type": "code",
   "execution_count": 6,
   "id": "db4262e9",
   "metadata": {},
   "outputs": [],
   "source": [
    "# Mise en forme target /data \n",
    "y = pd.get_dummies(data=target) \n",
    "X = data/255"
   ]
  },
  {
   "cell_type": "code",
   "execution_count": 7,
   "id": "50a57550",
   "metadata": {},
   "outputs": [],
   "source": [
    "#Séparation données entrainement, données test\n",
    "X_train, X_test, y_train, y_test = train_test_split(X, y, test_size= 0.20)"
   ]
  },
  {
   "cell_type": "code",
   "execution_count": 13,
   "id": "3742cfc7",
   "metadata": {},
   "outputs": [],
   "source": [
    "model =  Sequential()\n",
    "first_layer = Conv2D(filters = 32 , kernel_size=(5,5),padding='valid',input_shape=(256,256,1),activation='relu')\n",
    "\n",
    "second_layer = MaxPooling2D(pool_size = (2,2))\n",
    "\n",
    "model.add(first_layer)\n",
    "model.add(second_layer)\n"
   ]
  },
  {
   "cell_type": "code",
   "execution_count": 14,
   "id": "3c1e8ae7",
   "metadata": {},
   "outputs": [],
   "source": [
    "third_layer = Dropout(rate=0.2)\n",
    "fourth_layer = Flatten()\n",
    "fifth_layer = Dense(units=128,activation='relu')\n",
    "output_layer = Dense(units=len(y.columns),activation='softmax')\n",
    "\n",
    "model.add(third_layer)\n",
    "model.add(fourth_layer)\n",
    "model.add(fifth_layer)\n",
    "model.add(output_layer)"
   ]
  },
  {
   "cell_type": "code",
   "execution_count": 15,
   "id": "25518971",
   "metadata": {},
   "outputs": [
    {
     "name": "stdout",
     "output_type": "stream",
     "text": [
      "Epoch 1/10\n",
      "80/80 [==============================] - 139s 2s/step - loss: 4.5936 - accuracy: 0.3051 - val_loss: 1.3936 - val_accuracy: 0.4766\n",
      "Epoch 2/10\n",
      "80/80 [==============================] - 110s 1s/step - loss: 1.1241 - accuracy: 0.6141 - val_loss: 1.1878 - val_accuracy: 0.5531\n",
      "Epoch 3/10\n",
      "80/80 [==============================] - 109s 1s/step - loss: 0.6317 - accuracy: 0.8035 - val_loss: 0.8627 - val_accuracy: 0.6828\n",
      "Epoch 4/10\n",
      "80/80 [==============================] - 109s 1s/step - loss: 0.2918 - accuracy: 0.9250 - val_loss: 0.8371 - val_accuracy: 0.7094\n",
      "Epoch 5/10\n",
      "80/80 [==============================] - 108s 1s/step - loss: 0.1179 - accuracy: 0.9828 - val_loss: 0.7712 - val_accuracy: 0.7500\n",
      "Epoch 6/10\n",
      "80/80 [==============================] - 111s 1s/step - loss: 0.0397 - accuracy: 0.9988 - val_loss: 0.8222 - val_accuracy: 0.7375\n",
      "Epoch 7/10\n",
      "80/80 [==============================] - 110s 1s/step - loss: 0.0154 - accuracy: 1.0000 - val_loss: 0.8270 - val_accuracy: 0.7563\n",
      "Epoch 8/10\n",
      "80/80 [==============================] - 109s 1s/step - loss: 0.0094 - accuracy: 1.0000 - val_loss: 0.8784 - val_accuracy: 0.7500\n",
      "Epoch 9/10\n",
      "80/80 [==============================] - 109s 1s/step - loss: 0.0063 - accuracy: 1.0000 - val_loss: 0.8657 - val_accuracy: 0.7578\n",
      "Epoch 10/10\n",
      "80/80 [==============================] - 114s 1s/step - loss: 0.0041 - accuracy: 1.0000 - val_loss: 0.9112 - val_accuracy: 0.7563\n"
     ]
    }
   ],
   "source": [
    "model.compile(optimizer='adam', loss='categorical_crossentropy',metrics=['accuracy']) \n",
    "\n",
    "training_history = model.fit(X_train, y_train, epochs=10,batch_size=32, validation_split=0.2) "
   ]
  },
  {
   "cell_type": "code",
   "execution_count": 17,
   "id": "bf19a3d8",
   "metadata": {},
   "outputs": [
    {
     "name": "stdout",
     "output_type": "stream",
     "text": [
      "25/25 [==============================] - 8s 321ms/step - loss: 0.9974 - accuracy: 0.7350\n"
     ]
    },
    {
     "data": {
      "text/plain": [
       "[0.9973558187484741, 0.7350000143051147]"
      ]
     },
     "execution_count": 17,
     "metadata": {},
     "output_type": "execute_result"
    }
   ],
   "source": [
    "model.evaluate(X_test,y_test)"
   ]
  },
  {
   "cell_type": "markdown",
   "id": "ae21fc99",
   "metadata": {},
   "source": [
    "> Overfitting, score moins élevé que Random Forest (84%)"
   ]
  },
  {
   "cell_type": "markdown",
   "id": "71a8fd5e",
   "metadata": {},
   "source": [
    "**Classification CNN avec les images en couleurs**"
   ]
  },
  {
   "cell_type": "code",
   "execution_count": 8,
   "id": "1b1a0e75",
   "metadata": {},
   "outputs": [
    {
     "data": {
      "text/plain": [
       "(4000, 256, 256, 3)"
      ]
     },
     "execution_count": 8,
     "metadata": {},
     "output_type": "execute_result"
    }
   ],
   "source": [
    "# en couleur non flatten\n",
    "df_data_cells, data =  utils.get_mendeley_cells(size=4000, stratify_category = True,flatten=False, color=True)\n",
    "data.shape"
   ]
  },
  {
   "cell_type": "code",
   "execution_count": 9,
   "id": "d61c3b18",
   "metadata": {},
   "outputs": [
    {
     "data": {
      "text/plain": [
       "neutrophil      500\n",
       "eosinophil      500\n",
       "ig              500\n",
       "platelet        500\n",
       "erythroblast    500\n",
       "monocyte        500\n",
       "basophil        500\n",
       "lymphocyte      500\n",
       "Name: category, dtype: int64"
      ]
     },
     "execution_count": 9,
     "metadata": {},
     "output_type": "execute_result"
    }
   ],
   "source": [
    "#Cible : le type de cellule\n",
    "target = df_data_cells['category'] \n",
    "target.value_counts()"
   ]
  },
  {
   "cell_type": "code",
   "execution_count": 10,
   "id": "2f1f7086",
   "metadata": {},
   "outputs": [],
   "source": [
    "# Mise en forme target /data \n",
    "y = pd.get_dummies(data=target) \n",
    "X = data/255"
   ]
  },
  {
   "cell_type": "code",
   "execution_count": 11,
   "id": "f0a3eec2",
   "metadata": {},
   "outputs": [],
   "source": [
    "#Séparation données entrainement, données test\n",
    "X_train, X_test, y_train, y_test = train_test_split(X, y, test_size= 0.20)"
   ]
  },
  {
   "cell_type": "code",
   "execution_count": 12,
   "id": "50504764",
   "metadata": {},
   "outputs": [],
   "source": [
    "#CNN simple\n",
    "model =  Sequential()\n",
    "#Images en couleurs\n",
    "first_layer = Conv2D(filters = 32 , kernel_size=(5,5),padding='valid',input_shape=(256,256,3),activation='relu')\n",
    "\n",
    "second_layer = MaxPooling2D(pool_size = (2,2))\n",
    "\n",
    "model.add(first_layer)\n",
    "model.add(second_layer)\n",
    "third_layer = Dropout(rate=0.2)\n",
    "fourth_layer = Flatten()\n",
    "fifth_layer = Dense(units=128,activation='relu')\n",
    "output_layer = Dense(units=len(y.columns),activation='softmax')\n",
    "\n",
    "model.add(third_layer)\n",
    "model.add(fourth_layer)\n",
    "model.add(fifth_layer)\n",
    "model.add(output_layer)"
   ]
  },
  {
   "cell_type": "code",
   "execution_count": 13,
   "id": "e3435af3",
   "metadata": {},
   "outputs": [
    {
     "name": "stdout",
     "output_type": "stream",
     "text": [
      "Epoch 1/10\n",
      "80/80 [==============================] - 138s 2s/step - loss: 12.5212 - accuracy: 0.2809 - val_loss: 1.3766 - val_accuracy: 0.4500\n",
      "Epoch 2/10\n",
      "80/80 [==============================] - 130s 2s/step - loss: 1.2335 - accuracy: 0.5527 - val_loss: 1.1261 - val_accuracy: 0.6062\n",
      "Epoch 3/10\n",
      "80/80 [==============================] - 128s 2s/step - loss: 0.9389 - accuracy: 0.6723 - val_loss: 0.9920 - val_accuracy: 0.6422\n",
      "Epoch 4/10\n",
      "80/80 [==============================] - 125s 2s/step - loss: 0.7621 - accuracy: 0.7461 - val_loss: 0.9486 - val_accuracy: 0.6609\n",
      "Epoch 5/10\n",
      "80/80 [==============================] - 128s 2s/step - loss: 0.5660 - accuracy: 0.8152 - val_loss: 1.0662 - val_accuracy: 0.6438\n",
      "Epoch 6/10\n",
      "80/80 [==============================] - 126s 2s/step - loss: 0.3455 - accuracy: 0.8949 - val_loss: 0.9790 - val_accuracy: 0.6828\n",
      "Epoch 7/10\n",
      "80/80 [==============================] - 127s 2s/step - loss: 0.1809 - accuracy: 0.9508 - val_loss: 0.7812 - val_accuracy: 0.7547\n",
      "Epoch 8/10\n",
      "80/80 [==============================] - 126s 2s/step - loss: 0.0762 - accuracy: 0.9887 - val_loss: 0.8714 - val_accuracy: 0.7563\n",
      "Epoch 9/10\n",
      "80/80 [==============================] - 127s 2s/step - loss: 0.0422 - accuracy: 0.9945 - val_loss: 0.8194 - val_accuracy: 0.7859\n",
      "Epoch 10/10\n",
      "80/80 [==============================] - 126s 2s/step - loss: 0.0141 - accuracy: 0.9996 - val_loss: 0.8815 - val_accuracy: 0.7719\n"
     ]
    }
   ],
   "source": [
    "model.compile(optimizer='adam', loss='categorical_crossentropy',metrics=['accuracy']) \n",
    "\n",
    "training_history = model.fit(X_train, y_train, epochs=10,batch_size=32, validation_split=0.2) "
   ]
  },
  {
   "cell_type": "code",
   "execution_count": 14,
   "id": "c90ebdc4",
   "metadata": {},
   "outputs": [
    {
     "name": "stdout",
     "output_type": "stream",
     "text": [
      "25/25 [==============================] - 10s 413ms/step - loss: 0.9235 - accuracy: 0.7425\n"
     ]
    },
    {
     "data": {
      "text/plain": [
       "[0.9235027432441711, 0.7425000071525574]"
      ]
     },
     "execution_count": 14,
     "metadata": {},
     "output_type": "execute_result"
    }
   ],
   "source": [
    "model.evaluate(X_test,y_test)"
   ]
  },
  {
   "cell_type": "markdown",
   "id": "e189cec5",
   "metadata": {},
   "source": [
    ">Modèle CNN en overfitting , amélioration de la précision avec les images en couleurs, mais précision en dessous RandomForest\n",
    ">\n",
    ">Revoir les paramètres convolutifs ???"
   ]
  },
  {
   "cell_type": "markdown",
   "id": "2bf334a0",
   "metadata": {},
   "source": [
    "### LeNet"
   ]
  },
  {
   "cell_type": "code",
   "execution_count": 16,
   "id": "0b7f45be",
   "metadata": {},
   "outputs": [
    {
     "name": "stdout",
     "output_type": "stream",
     "text": [
      "Epoch 1/16\n",
      "80/80 [==============================] - 145s 2s/step - loss: 1.9875 - accuracy: 0.3441 - val_loss: 1.2908 - val_accuracy: 0.5141\n",
      "Epoch 2/16\n",
      "80/80 [==============================] - 129s 2s/step - loss: 0.9612 - accuracy: 0.6488 - val_loss: 0.8524 - val_accuracy: 0.7125\n",
      "Epoch 3/16\n",
      "80/80 [==============================] - 140s 2s/step - loss: 0.6147 - accuracy: 0.7898 - val_loss: 0.8026 - val_accuracy: 0.7141\n",
      "Epoch 4/16\n",
      "80/80 [==============================] - 138s 2s/step - loss: 0.4498 - accuracy: 0.8402 - val_loss: 0.4668 - val_accuracy: 0.8438\n",
      "Epoch 5/16\n",
      "80/80 [==============================] - 129s 2s/step - loss: 0.2880 - accuracy: 0.9133 - val_loss: 0.4217 - val_accuracy: 0.8703\n",
      "Epoch 6/16\n",
      "80/80 [==============================] - 139s 2s/step - loss: 0.1953 - accuracy: 0.9430 - val_loss: 0.4199 - val_accuracy: 0.8672\n",
      "Epoch 7/16\n",
      "80/80 [==============================] - 143s 2s/step - loss: 0.1303 - accuracy: 0.9617 - val_loss: 0.4397 - val_accuracy: 0.8359\n",
      "Epoch 8/16\n",
      "80/80 [==============================] - 162s 2s/step - loss: 0.1410 - accuracy: 0.9582 - val_loss: 0.5738 - val_accuracy: 0.8234\n",
      "Epoch 9/16\n",
      "80/80 [==============================] - 139s 2s/step - loss: 0.0874 - accuracy: 0.9762 - val_loss: 0.3893 - val_accuracy: 0.8906\n",
      "Epoch 10/16\n",
      "80/80 [==============================] - 129s 2s/step - loss: 0.0498 - accuracy: 0.9875 - val_loss: 0.4104 - val_accuracy: 0.8781\n",
      "Epoch 11/16\n",
      "80/80 [==============================] - 127s 2s/step - loss: 0.0390 - accuracy: 0.9895 - val_loss: 0.4129 - val_accuracy: 0.8969\n",
      "Epoch 12/16\n",
      "80/80 [==============================] - 127s 2s/step - loss: 0.0317 - accuracy: 0.9910 - val_loss: 0.5740 - val_accuracy: 0.8484\n",
      "Epoch 13/16\n",
      "80/80 [==============================] - 126s 2s/step - loss: 0.0581 - accuracy: 0.9809 - val_loss: 0.4334 - val_accuracy: 0.8891\n",
      "Epoch 14/16\n",
      "80/80 [==============================] - 126s 2s/step - loss: 0.0176 - accuracy: 0.9973 - val_loss: 0.4660 - val_accuracy: 0.8797\n",
      "Epoch 15/16\n",
      "80/80 [==============================] - 127s 2s/step - loss: 0.0149 - accuracy: 0.9969 - val_loss: 0.4356 - val_accuracy: 0.8922\n",
      "Epoch 16/16\n",
      "80/80 [==============================] - 127s 2s/step - loss: 0.0151 - accuracy: 0.9969 - val_loss: 0.4855 - val_accuracy: 0.8875\n"
     ]
    }
   ],
   "source": [
    "#Couches LeNet \n",
    "model =  Sequential()\n",
    "model.add(Conv2D(filters = 30  , kernel_size=(5,5), padding='valid', input_shape=(256,256,3), activation='relu'))\n",
    "model.add(MaxPooling2D(pool_size=(2,2)))\n",
    "model.add(Conv2D(filters = 16  , kernel_size=(3,3), padding='valid', activation='relu'))\n",
    "model.add(MaxPooling2D(pool_size=(2,2)))\n",
    "model.add(Dropout(rate=0.2))\n",
    "model.add(Flatten())\n",
    "model.add(Dense(units=128,activation='relu'))\n",
    "model.add(Dense(units=len(y.columns),activation='softmax'))\n",
    "#Compilation\n",
    "model.compile(optimizer='adam', loss='categorical_crossentropy',metrics=['accuracy']) \n",
    "#Entrainement\n",
    "training_history_lenet = model.fit(X_train, y_train, epochs=16,batch_size=32, validation_split=0.2) "
   ]
  },
  {
   "cell_type": "code",
   "execution_count": 17,
   "id": "e7f8c41a",
   "metadata": {},
   "outputs": [
    {
     "name": "stdout",
     "output_type": "stream",
     "text": [
      "25/25 [==============================] - 10s 400ms/step - loss: 0.5753 - accuracy: 0.8725\n"
     ]
    },
    {
     "data": {
      "text/plain": [
       "[0.5753348469734192, 0.8725000023841858]"
      ]
     },
     "execution_count": 17,
     "metadata": {},
     "output_type": "execute_result"
    }
   ],
   "source": [
    "model.evaluate(X_test,y_test)"
   ]
  },
  {
   "cell_type": "code",
   "execution_count": 19,
   "id": "7b1b1f05",
   "metadata": {},
   "outputs": [],
   "source": [
    "test_pred = model.predict(X_test)"
   ]
  },
  {
   "cell_type": "code",
   "execution_count": 20,
   "id": "463e351b",
   "metadata": {},
   "outputs": [
    {
     "data": {
      "text/plain": [
       "Index(['basophil', 'eosinophil', 'erythroblast', 'ig', 'lymphocyte',\n",
       "       'monocyte', 'neutrophil', 'platelet'],\n",
       "      dtype='object')"
      ]
     },
     "execution_count": 20,
     "metadata": {},
     "output_type": "execute_result"
    }
   ],
   "source": [
    "y.columns"
   ]
  },
  {
   "cell_type": "code",
   "execution_count": 21,
   "id": "94cf6987",
   "metadata": {},
   "outputs": [],
   "source": [
    "test_predict_class = test_pred.argmax(axis = 1)\n",
    "test_predict_class_name = [y.columns[i] for i in test_predict_class]"
   ]
  },
  {
   "cell_type": "code",
   "execution_count": 47,
   "id": "31344bad",
   "metadata": {},
   "outputs": [
    {
     "data": {
      "text/html": [
       "<div>\n",
       "<style scoped>\n",
       "    .dataframe tbody tr th:only-of-type {\n",
       "        vertical-align: middle;\n",
       "    }\n",
       "\n",
       "    .dataframe tbody tr th {\n",
       "        vertical-align: top;\n",
       "    }\n",
       "\n",
       "    .dataframe thead th {\n",
       "        text-align: right;\n",
       "    }\n",
       "</style>\n",
       "<table border=\"1\" class=\"dataframe\">\n",
       "  <thead>\n",
       "    <tr style=\"text-align: right;\">\n",
       "      <th>Prédiction</th>\n",
       "      <th>basophil</th>\n",
       "      <th>eosinophil</th>\n",
       "      <th>erythroblast</th>\n",
       "      <th>ig</th>\n",
       "      <th>lymphocyte</th>\n",
       "      <th>monocyte</th>\n",
       "      <th>neutrophil</th>\n",
       "      <th>platelet</th>\n",
       "    </tr>\n",
       "    <tr>\n",
       "      <th>Réalité</th>\n",
       "      <th></th>\n",
       "      <th></th>\n",
       "      <th></th>\n",
       "      <th></th>\n",
       "      <th></th>\n",
       "      <th></th>\n",
       "      <th></th>\n",
       "      <th></th>\n",
       "    </tr>\n",
       "  </thead>\n",
       "  <tbody>\n",
       "    <tr>\n",
       "      <th>basophil</th>\n",
       "      <td>94</td>\n",
       "      <td>0</td>\n",
       "      <td>0</td>\n",
       "      <td>5</td>\n",
       "      <td>1</td>\n",
       "      <td>0</td>\n",
       "      <td>0</td>\n",
       "      <td>0</td>\n",
       "    </tr>\n",
       "    <tr>\n",
       "      <th>eosinophil</th>\n",
       "      <td>4</td>\n",
       "      <td>92</td>\n",
       "      <td>0</td>\n",
       "      <td>0</td>\n",
       "      <td>0</td>\n",
       "      <td>0</td>\n",
       "      <td>1</td>\n",
       "      <td>0</td>\n",
       "    </tr>\n",
       "    <tr>\n",
       "      <th>erythroblast</th>\n",
       "      <td>0</td>\n",
       "      <td>0</td>\n",
       "      <td>94</td>\n",
       "      <td>2</td>\n",
       "      <td>4</td>\n",
       "      <td>0</td>\n",
       "      <td>2</td>\n",
       "      <td>0</td>\n",
       "    </tr>\n",
       "    <tr>\n",
       "      <th>ig</th>\n",
       "      <td>14</td>\n",
       "      <td>4</td>\n",
       "      <td>3</td>\n",
       "      <td>81</td>\n",
       "      <td>7</td>\n",
       "      <td>6</td>\n",
       "      <td>7</td>\n",
       "      <td>0</td>\n",
       "    </tr>\n",
       "    <tr>\n",
       "      <th>lymphocyte</th>\n",
       "      <td>0</td>\n",
       "      <td>0</td>\n",
       "      <td>1</td>\n",
       "      <td>2</td>\n",
       "      <td>99</td>\n",
       "      <td>0</td>\n",
       "      <td>1</td>\n",
       "      <td>0</td>\n",
       "    </tr>\n",
       "    <tr>\n",
       "      <th>monocyte</th>\n",
       "      <td>2</td>\n",
       "      <td>0</td>\n",
       "      <td>0</td>\n",
       "      <td>18</td>\n",
       "      <td>2</td>\n",
       "      <td>73</td>\n",
       "      <td>0</td>\n",
       "      <td>0</td>\n",
       "    </tr>\n",
       "    <tr>\n",
       "      <th>neutrophil</th>\n",
       "      <td>2</td>\n",
       "      <td>2</td>\n",
       "      <td>1</td>\n",
       "      <td>9</td>\n",
       "      <td>0</td>\n",
       "      <td>0</td>\n",
       "      <td>74</td>\n",
       "      <td>0</td>\n",
       "    </tr>\n",
       "    <tr>\n",
       "      <th>platelet</th>\n",
       "      <td>0</td>\n",
       "      <td>1</td>\n",
       "      <td>0</td>\n",
       "      <td>0</td>\n",
       "      <td>0</td>\n",
       "      <td>0</td>\n",
       "      <td>1</td>\n",
       "      <td>91</td>\n",
       "    </tr>\n",
       "  </tbody>\n",
       "</table>\n",
       "</div>"
      ],
      "text/plain": [
       "Prédiction    basophil  eosinophil  erythroblast  ig  lymphocyte  monocyte  \\\n",
       "Réalité                                                                      \n",
       "basophil            94           0             0   5           1         0   \n",
       "eosinophil           4          92             0   0           0         0   \n",
       "erythroblast         0           0            94   2           4         0   \n",
       "ig                  14           4             3  81           7         6   \n",
       "lymphocyte           0           0             1   2          99         0   \n",
       "monocyte             2           0             0  18           2        73   \n",
       "neutrophil           2           2             1   9           0         0   \n",
       "platelet             0           1             0   0           0         0   \n",
       "\n",
       "Prédiction    neutrophil  platelet  \n",
       "Réalité                             \n",
       "basophil               0         0  \n",
       "eosinophil             1         0  \n",
       "erythroblast           2         0  \n",
       "ig                     7         0  \n",
       "lymphocyte             1         0  \n",
       "monocyte               0         0  \n",
       "neutrophil            74         0  \n",
       "platelet               1        91  "
      ]
     },
     "execution_count": 47,
     "metadata": {},
     "output_type": "execute_result"
    }
   ],
   "source": [
    "pd.crosstab(pd.Series(y_test.idxmax(axis=1), name='Réalité'),pd.Series(test_predict_class_name, name='Prédiction', index =y_test.index))"
   ]
  },
  {
   "cell_type": "code",
   "execution_count": 48,
   "id": "f1acda86",
   "metadata": {},
   "outputs": [
    {
     "name": "stdout",
     "output_type": "stream",
     "text": [
      "              precision    recall  f1-score   support\n",
      "\n",
      "    basophil       0.94      0.81      0.87       116\n",
      "  eosinophil       0.95      0.93      0.94        99\n",
      "erythroblast       0.92      0.95      0.94        99\n",
      "          ig       0.66      0.69      0.68       117\n",
      "  lymphocyte       0.96      0.88      0.92       113\n",
      "    monocyte       0.77      0.92      0.84        79\n",
      "  neutrophil       0.84      0.86      0.85        86\n",
      "    platelet       0.98      1.00      0.99        91\n",
      "\n",
      "    accuracy                           0.87       800\n",
      "   macro avg       0.88      0.88      0.88       800\n",
      "weighted avg       0.88      0.87      0.87       800\n",
      "\n"
     ]
    }
   ],
   "source": [
    "print(metrics.classification_report( test_predict_class_name,y_test.idxmax(axis=1) ))"
   ]
  },
  {
   "cell_type": "markdown",
   "id": "bc60fcc6",
   "metadata": {},
   "source": [
    "> La catégorie IG pose vraiment problème car très souvent confondu avec une autre catégorie"
   ]
  }
 ],
 "metadata": {
  "kernelspec": {
   "display_name": "Python 3 (ipykernel)",
   "language": "python",
   "name": "python3"
  },
  "language_info": {
   "codemirror_mode": {
    "name": "ipython",
    "version": 3
   },
   "file_extension": ".py",
   "mimetype": "text/x-python",
   "name": "python",
   "nbconvert_exporter": "python",
   "pygments_lexer": "ipython3",
   "version": "3.8.11"
  }
 },
 "nbformat": 4,
 "nbformat_minor": 5
}
