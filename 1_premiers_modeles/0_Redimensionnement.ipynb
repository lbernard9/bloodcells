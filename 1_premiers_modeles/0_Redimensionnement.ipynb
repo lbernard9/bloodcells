{
 "cells": [
  {
   "cell_type": "markdown",
   "id": "495ede8b",
   "metadata": {},
   "source": [
    "**BASE MENDELEY - REDIMENSIONNEMENT EN 256*256**"
   ]
  },
  {
   "cell_type": "code",
   "execution_count": 1,
   "id": "27618f81",
   "metadata": {},
   "outputs": [],
   "source": [
    "#!mkdir ..\\images_mendeley\\Data_Process\n",
    "!mkdir ../images_mendeley/Data_Process"
   ]
  },
  {
   "cell_type": "code",
   "execution_count": 2,
   "id": "29798c80",
   "metadata": {},
   "outputs": [],
   "source": [
    "img_src = \"../images_mendeley/PBC_dataset_normal_DIB/\"\n",
    "img_dest = \"../images_mendeley/dataset_redim/\"\n",
    "type_cells =  ['basophil','eosinophil','erythroblast','ig','lymphocyte','monocyte','neutrophil','platelet']"
   ]
  },
  {
   "cell_type": "code",
   "execution_count": 3,
   "id": "db0f5051",
   "metadata": {},
   "outputs": [],
   "source": [
    "import numpy as np\n",
    "import os\n",
    "import pandas as pd\n",
    "import matplotlib.pyplot as plt\n",
    "import matplotlib.image as pltimg"
   ]
  },
  {
   "cell_type": "code",
   "execution_count": 10,
   "id": "7551e4ac",
   "metadata": {},
   "outputs": [],
   "source": [
    "# Reduction de la taille des images en 256*256 en recadrant centré et sauvegarde dans un même dossier\n",
    "images=[]\n",
    "for type_cell in type_cells:\n",
    "    #Pour chaque fichier du sous répertoire\n",
    "    for file in os.listdir(img_src+type_cell):\n",
    "        if file.endswith(\".jpg\") and not file.startswith(\".\"):\n",
    "            img = plt.imread(img_src+type_cell+'/'+file)\n",
    "            #Redimensionne en rognant\n",
    "            x , y  = (int(img.shape[0]/2),int(img.shape[1]/2))\n",
    "            img_red = img[x-128:x+128,y-128:y+128]\n",
    "            #Sauvegarde de l'image redimensionner dans répertoire destinaire \n",
    "            pltimg.imsave(img_dest+'N_'+file, img_red)\n",
    "            # nom fichier avec préfix N pour Normal  +  type cell \n",
    "            images.append(('N_'+file,type_cell, 'mendeley'))\n"
   ]
  },
  {
   "cell_type": "code",
   "execution_count": 11,
   "id": "36af9227",
   "metadata": {},
   "outputs": [
    {
     "data": {
      "text/html": [
       "<div>\n",
       "<style scoped>\n",
       "    .dataframe tbody tr th:only-of-type {\n",
       "        vertical-align: middle;\n",
       "    }\n",
       "\n",
       "    .dataframe tbody tr th {\n",
       "        vertical-align: top;\n",
       "    }\n",
       "\n",
       "    .dataframe thead th {\n",
       "        text-align: right;\n",
       "    }\n",
       "</style>\n",
       "<table border=\"1\" class=\"dataframe\">\n",
       "  <thead>\n",
       "    <tr style=\"text-align: right;\">\n",
       "      <th></th>\n",
       "      <th>filename</th>\n",
       "      <th>category</th>\n",
       "      <th>base</th>\n",
       "    </tr>\n",
       "  </thead>\n",
       "  <tbody>\n",
       "    <tr>\n",
       "      <th>0</th>\n",
       "      <td>N_BA_100102.jpg</td>\n",
       "      <td>basophil</td>\n",
       "      <td>mendeley</td>\n",
       "    </tr>\n",
       "    <tr>\n",
       "      <th>1</th>\n",
       "      <td>N_BA_101381.jpg</td>\n",
       "      <td>basophil</td>\n",
       "      <td>mendeley</td>\n",
       "    </tr>\n",
       "    <tr>\n",
       "      <th>2</th>\n",
       "      <td>N_BA_101611.jpg</td>\n",
       "      <td>basophil</td>\n",
       "      <td>mendeley</td>\n",
       "    </tr>\n",
       "    <tr>\n",
       "      <th>3</th>\n",
       "      <td>N_BA_102039.jpg</td>\n",
       "      <td>basophil</td>\n",
       "      <td>mendeley</td>\n",
       "    </tr>\n",
       "    <tr>\n",
       "      <th>4</th>\n",
       "      <td>N_BA_102750.jpg</td>\n",
       "      <td>basophil</td>\n",
       "      <td>mendeley</td>\n",
       "    </tr>\n",
       "  </tbody>\n",
       "</table>\n",
       "</div>"
      ],
      "text/plain": [
       "          filename  category      base\n",
       "0  N_BA_100102.jpg  basophil  mendeley\n",
       "1  N_BA_101381.jpg  basophil  mendeley\n",
       "2  N_BA_101611.jpg  basophil  mendeley\n",
       "3  N_BA_102039.jpg  basophil  mendeley\n",
       "4  N_BA_102750.jpg  basophil  mendeley"
      ]
     },
     "execution_count": 11,
     "metadata": {},
     "output_type": "execute_result"
    }
   ],
   "source": [
    "#Création du DataFrame\n",
    "df = pd.DataFrame(images, columns = ['filename','category', 'base'])\n",
    "df.head()"
   ]
  },
  {
   "cell_type": "code",
   "execution_count": 12,
   "id": "40897b75",
   "metadata": {},
   "outputs": [],
   "source": [
    "#Sauvegarde en csv \n",
    "df.to_csv(\"../mendeley_cells_redim.csv\")"
   ]
  }
 ],
 "metadata": {
  "kernelspec": {
   "display_name": "Python 3 (ipykernel)",
   "language": "python",
   "name": "python3"
  },
  "language_info": {
   "codemirror_mode": {
    "name": "ipython",
    "version": 3
   },
   "file_extension": ".py",
   "mimetype": "text/x-python",
   "name": "python",
   "nbconvert_exporter": "python",
   "pygments_lexer": "ipython3",
   "version": "3.8.11"
  }
 },
 "nbformat": 4,
 "nbformat_minor": 5
}
