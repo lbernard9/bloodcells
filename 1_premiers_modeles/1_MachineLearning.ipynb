{
 "cells": [
  {
   "cell_type": "markdown",
   "id": "b83195f1",
   "metadata": {},
   "source": [
    "# Classification cellules normales  : Machine Learning\n",
    "**Avec Random Forest, classification cellules : basophil, eosinophil, erythroblast, ig, lymphocyte, monocyte, neutrophil et platelet**\n",
    "\n",
    "Etude des images (4000) en format 255*255 en niveau de gris : 500 images par catégorie\n",
    "\n",
    "Résultat servant de baseline pour l'optimisation"
   ]
  },
  {
   "cell_type": "code",
   "execution_count": 1,
   "id": "51dbc54f",
   "metadata": {},
   "outputs": [],
   "source": [
    "import pandas as pd\n",
    "import cv2\n",
    "import numpy as np"
   ]
  },
  {
   "cell_type": "code",
   "execution_count": 2,
   "id": "5ae7b9c8",
   "metadata": {},
   "outputs": [],
   "source": [
    "import utils_blood_cells as utils"
   ]
  },
  {
   "cell_type": "code",
   "execution_count": 8,
   "id": "db518401",
   "metadata": {},
   "outputs": [],
   "source": [
    "# Récupère un échantillon de 4000 images de cellules normales : 500  par type\n",
    "utils.change_path_root('../')\n",
    "df_data_cells, data =  utils.get_mendeley_cells(size=4000, stratify_category = True)"
   ]
  },
  {
   "cell_type": "code",
   "execution_count": 9,
   "id": "69e35c00",
   "metadata": {},
   "outputs": [
    {
     "data": {
      "text/plain": [
       "neutrophil      500\n",
       "eosinophil      500\n",
       "ig              500\n",
       "platelet        500\n",
       "erythroblast    500\n",
       "monocyte        500\n",
       "basophil        500\n",
       "lymphocyte      500\n",
       "Name: category, dtype: int64"
      ]
     },
     "execution_count": 9,
     "metadata": {},
     "output_type": "execute_result"
    }
   ],
   "source": [
    "#Cible : le type de cellule\n",
    "target = df_data_cells['category'] \n",
    "target.value_counts()"
   ]
  },
  {
   "cell_type": "code",
   "execution_count": 10,
   "id": "e01e2c3c",
   "metadata": {},
   "outputs": [
    {
     "data": {
      "text/plain": [
       "RandomForestClassifier(n_jobs=-1)"
      ]
     },
     "execution_count": 10,
     "metadata": {},
     "output_type": "execute_result"
    }
   ],
   "source": [
    "#Modèle baseline : Random Forest\n",
    "from sklearn.ensemble import RandomForestClassifier \n",
    "from sklearn.model_selection  import train_test_split\n",
    "\n",
    "#Séparation données entrainement, données test\n",
    "X_train, X_test, y_train, y_test = train_test_split(data, target, test_size= 0.20)\n",
    "rf_clf = RandomForestClassifier(n_jobs=-1)\n",
    "\n",
    "rf_clf.fit(X_train, y_train)"
   ]
  },
  {
   "cell_type": "code",
   "execution_count": 11,
   "id": "0948d91b",
   "metadata": {},
   "outputs": [],
   "source": [
    "# Prédiction sur X_test\n",
    "y_pred_test = rf_clf.predict(X_test)"
   ]
  },
  {
   "cell_type": "code",
   "execution_count": 12,
   "id": "c824f9fd",
   "metadata": {},
   "outputs": [
    {
     "name": "stdout",
     "output_type": "stream",
     "text": [
      "              precision    recall  f1-score   support\n",
      "\n",
      "    basophil       0.79      0.80      0.79        89\n",
      "  eosinophil       0.81      0.83      0.82       100\n",
      "erythroblast       0.89      0.89      0.89        95\n",
      "          ig       0.69      0.66      0.67        96\n",
      "  lymphocyte       0.87      0.89      0.88       120\n",
      "    monocyte       0.77      0.77      0.77       102\n",
      "  neutrophil       0.89      0.85      0.87       102\n",
      "    platelet       0.99      1.00      0.99        96\n",
      "\n",
      "    accuracy                           0.84       800\n",
      "   macro avg       0.84      0.84      0.84       800\n",
      "weighted avg       0.84      0.84      0.84       800\n",
      "\n"
     ]
    }
   ],
   "source": [
    "# Evaluation de la prédiction\n",
    "from sklearn.metrics import classification_report\n",
    "print(classification_report(y_test, y_pred_test)) "
   ]
  },
  {
   "cell_type": "markdown",
   "id": "7ccd790e",
   "metadata": {},
   "source": [
    "*Taux de prédiction de 84%, bon score de base*\n",
    "\n",
    "Moins bon score sur la catégorie ig. Ce qui peut s'expliquer par un regroupement de sous catégorie dans cette catégorie.\n",
    "A voir si doit subdiviser cette catégorie pour une meilleure classification\n",
    "\n",
    "Score proche de 100% sur la catégorie platelet, qui peut s'expliquer par une petite taille de ces cellules, facilement identifiable"
   ]
  },
  {
   "cell_type": "code",
   "execution_count": 13,
   "id": "4f20d00b",
   "metadata": {},
   "outputs": [
    {
     "data": {
      "text/html": [
       "<div>\n",
       "<style scoped>\n",
       "    .dataframe tbody tr th:only-of-type {\n",
       "        vertical-align: middle;\n",
       "    }\n",
       "\n",
       "    .dataframe tbody tr th {\n",
       "        vertical-align: top;\n",
       "    }\n",
       "\n",
       "    .dataframe thead th {\n",
       "        text-align: right;\n",
       "    }\n",
       "</style>\n",
       "<table border=\"1\" class=\"dataframe\">\n",
       "  <thead>\n",
       "    <tr style=\"text-align: right;\">\n",
       "      <th>Prédiction</th>\n",
       "      <th>basophil</th>\n",
       "      <th>eosinophil</th>\n",
       "      <th>erythroblast</th>\n",
       "      <th>ig</th>\n",
       "      <th>lymphocyte</th>\n",
       "      <th>monocyte</th>\n",
       "      <th>neutrophil</th>\n",
       "      <th>platelet</th>\n",
       "    </tr>\n",
       "    <tr>\n",
       "      <th>Realité</th>\n",
       "      <th></th>\n",
       "      <th></th>\n",
       "      <th></th>\n",
       "      <th></th>\n",
       "      <th></th>\n",
       "      <th></th>\n",
       "      <th></th>\n",
       "      <th></th>\n",
       "    </tr>\n",
       "  </thead>\n",
       "  <tbody>\n",
       "    <tr>\n",
       "      <th>basophil</th>\n",
       "      <td>71</td>\n",
       "      <td>1</td>\n",
       "      <td>0</td>\n",
       "      <td>5</td>\n",
       "      <td>6</td>\n",
       "      <td>4</td>\n",
       "      <td>2</td>\n",
       "      <td>0</td>\n",
       "    </tr>\n",
       "    <tr>\n",
       "      <th>eosinophil</th>\n",
       "      <td>0</td>\n",
       "      <td>83</td>\n",
       "      <td>1</td>\n",
       "      <td>3</td>\n",
       "      <td>0</td>\n",
       "      <td>9</td>\n",
       "      <td>3</td>\n",
       "      <td>1</td>\n",
       "    </tr>\n",
       "    <tr>\n",
       "      <th>erythroblast</th>\n",
       "      <td>2</td>\n",
       "      <td>0</td>\n",
       "      <td>85</td>\n",
       "      <td>2</td>\n",
       "      <td>4</td>\n",
       "      <td>0</td>\n",
       "      <td>2</td>\n",
       "      <td>0</td>\n",
       "    </tr>\n",
       "    <tr>\n",
       "      <th>ig</th>\n",
       "      <td>6</td>\n",
       "      <td>11</td>\n",
       "      <td>2</td>\n",
       "      <td>63</td>\n",
       "      <td>4</td>\n",
       "      <td>8</td>\n",
       "      <td>2</td>\n",
       "      <td>0</td>\n",
       "    </tr>\n",
       "    <tr>\n",
       "      <th>lymphocyte</th>\n",
       "      <td>4</td>\n",
       "      <td>1</td>\n",
       "      <td>4</td>\n",
       "      <td>3</td>\n",
       "      <td>107</td>\n",
       "      <td>1</td>\n",
       "      <td>0</td>\n",
       "      <td>0</td>\n",
       "    </tr>\n",
       "    <tr>\n",
       "      <th>monocyte</th>\n",
       "      <td>7</td>\n",
       "      <td>3</td>\n",
       "      <td>0</td>\n",
       "      <td>11</td>\n",
       "      <td>0</td>\n",
       "      <td>79</td>\n",
       "      <td>2</td>\n",
       "      <td>0</td>\n",
       "    </tr>\n",
       "    <tr>\n",
       "      <th>neutrophil</th>\n",
       "      <td>0</td>\n",
       "      <td>4</td>\n",
       "      <td>4</td>\n",
       "      <td>4</td>\n",
       "      <td>2</td>\n",
       "      <td>1</td>\n",
       "      <td>87</td>\n",
       "      <td>0</td>\n",
       "    </tr>\n",
       "    <tr>\n",
       "      <th>platelet</th>\n",
       "      <td>0</td>\n",
       "      <td>0</td>\n",
       "      <td>0</td>\n",
       "      <td>0</td>\n",
       "      <td>0</td>\n",
       "      <td>0</td>\n",
       "      <td>0</td>\n",
       "      <td>96</td>\n",
       "    </tr>\n",
       "  </tbody>\n",
       "</table>\n",
       "</div>"
      ],
      "text/plain": [
       "Prédiction    basophil  eosinophil  erythroblast  ig  lymphocyte  monocyte  \\\n",
       "Realité                                                                      \n",
       "basophil            71           1             0   5           6         4   \n",
       "eosinophil           0          83             1   3           0         9   \n",
       "erythroblast         2           0            85   2           4         0   \n",
       "ig                   6          11             2  63           4         8   \n",
       "lymphocyte           4           1             4   3         107         1   \n",
       "monocyte             7           3             0  11           0        79   \n",
       "neutrophil           0           4             4   4           2         1   \n",
       "platelet             0           0             0   0           0         0   \n",
       "\n",
       "Prédiction    neutrophil  platelet  \n",
       "Realité                             \n",
       "basophil               2         0  \n",
       "eosinophil             3         1  \n",
       "erythroblast           2         0  \n",
       "ig                     2         0  \n",
       "lymphocyte             0         0  \n",
       "monocyte               2         0  \n",
       "neutrophil            87         0  \n",
       "platelet               0        96  "
      ]
     },
     "execution_count": 13,
     "metadata": {},
     "output_type": "execute_result"
    }
   ],
   "source": [
    "# Matrice de confusion\n",
    "pd.crosstab(y_test, y_pred_test, rownames=['Realité'], colnames=['Prédiction'])"
   ]
  },
  {
   "cell_type": "markdown",
   "id": "2f4c83ff",
   "metadata": {},
   "source": [
    "La catégorie IG semble vraiment posé problème pour l'identification, mauvaise précision ainsi que  mauvais rappel\n",
    "\n",
    "Confusion entre basophil et lymphocyte ainsi qu'entre eosinophil et monocyte\n"
   ]
  },
  {
   "cell_type": "markdown",
   "id": "6666351f",
   "metadata": {},
   "source": [
    "**Cross-validation pour évaluer la stabilité du modèle**"
   ]
  },
  {
   "cell_type": "code",
   "execution_count": 14,
   "id": "d9fb7709",
   "metadata": {},
   "outputs": [
    {
     "name": "stdout",
     "output_type": "stream",
     "text": [
      "La moyenne d'accuracy des données tests est: 0.817 +/- 0.015\n"
     ]
    }
   ],
   "source": [
    "from sklearn.model_selection import cross_validate\n",
    "cv_results = cross_validate(rf_clf, data, target, cv=5, return_train_score=True) \n",
    "scores = cv_results[\"test_score\"]\n",
    "print(\"La moyenne d'accuracy des données tests est: \" \n",
    "      f\"{scores.mean():.3f} +/- {scores.std():.3f}\")\n"
   ]
  },
  {
   "cell_type": "markdown",
   "id": "b998d3eb",
   "metadata": {},
   "source": [
    "La cross-validation montre une moyenne similaire des précisions des prédictions\n",
    "\n",
    "Le modèle semble assez stable"
   ]
  },
  {
   "cell_type": "markdown",
   "id": "44e1fbeb",
   "metadata": {},
   "source": [
    "### Modèle SVC"
   ]
  },
  {
   "cell_type": "code",
   "execution_count": 19,
   "id": "62ed9f3c",
   "metadata": {},
   "outputs": [
    {
     "data": {
      "text/plain": [
       "{'memory': None,\n",
       " 'steps': [('standardscaler', StandardScaler()), ('svc', SVC())],\n",
       " 'verbose': False,\n",
       " 'standardscaler': StandardScaler(),\n",
       " 'svc': SVC(),\n",
       " 'standardscaler__copy': True,\n",
       " 'standardscaler__with_mean': True,\n",
       " 'standardscaler__with_std': True,\n",
       " 'svc__C': 1.0,\n",
       " 'svc__break_ties': False,\n",
       " 'svc__cache_size': 200,\n",
       " 'svc__class_weight': None,\n",
       " 'svc__coef0': 0.0,\n",
       " 'svc__decision_function_shape': 'ovr',\n",
       " 'svc__degree': 3,\n",
       " 'svc__gamma': 'scale',\n",
       " 'svc__kernel': 'rbf',\n",
       " 'svc__max_iter': -1,\n",
       " 'svc__probability': False,\n",
       " 'svc__random_state': None,\n",
       " 'svc__shrinking': True,\n",
       " 'svc__tol': 0.001,\n",
       " 'svc__verbose': False}"
      ]
     },
     "execution_count": 19,
     "metadata": {},
     "output_type": "execute_result"
    }
   ],
   "source": [
    "from sklearn.svm import SVC\n",
    "from sklearn.model_selection import GridSearchCV\n",
    "from sklearn.preprocessing import StandardScaler\n",
    "from sklearn.pipeline import make_pipeline\n",
    "\n",
    "pipe = make_pipeline(StandardScaler(), SVC())\n",
    "pipe.get_params()"
   ]
  },
  {
   "cell_type": "code",
   "execution_count": 21,
   "id": "8d1102ce",
   "metadata": {},
   "outputs": [],
   "source": [
    "grid_model = GridSearchCV(estimator=pipe, \n",
    "                          param_grid={'svc__C': [0.1, 1, 10], 'svc__kernel': ('linear', 'rbf')}) \n",
    "\n",
    "grid = grid_model.fit(X_train,y_train)"
   ]
  },
  {
   "cell_type": "code",
   "execution_count": 24,
   "id": "65477ced",
   "metadata": {},
   "outputs": [
    {
     "data": {
      "text/plain": [
       "{'svc__C': 10, 'svc__kernel': 'rbf'}"
      ]
     },
     "execution_count": 24,
     "metadata": {},
     "output_type": "execute_result"
    }
   ],
   "source": [
    "grid.best_params_"
   ]
  },
  {
   "cell_type": "code",
   "execution_count": 23,
   "id": "73c0ec5e",
   "metadata": {},
   "outputs": [
    {
     "name": "stdout",
     "output_type": "stream",
     "text": [
      "              precision    recall  f1-score   support\n",
      "\n",
      "    basophil       0.73      0.78      0.75        89\n",
      "  eosinophil       0.74      0.75      0.75       100\n",
      "erythroblast       0.83      0.84      0.84        95\n",
      "          ig       0.61      0.62      0.62        96\n",
      "  lymphocyte       0.86      0.84      0.85       120\n",
      "    monocyte       0.75      0.76      0.76       102\n",
      "  neutrophil       0.89      0.79      0.84       102\n",
      "    platelet       0.99      0.99      0.99        96\n",
      "\n",
      "    accuracy                           0.80       800\n",
      "   macro avg       0.80      0.80      0.80       800\n",
      "weighted avg       0.80      0.80      0.80       800\n",
      "\n"
     ]
    }
   ],
   "source": [
    "# Prédiction sur X_test\n",
    "y_pred_test = grid.predict(X_test)\n",
    "print(classification_report(y_test, y_pred_test))"
   ]
  },
  {
   "cell_type": "markdown",
   "id": "d80f443d",
   "metadata": {},
   "source": [
    "> Modèle SVC avec une précision légérement inférieure"
   ]
  }
 ],
 "metadata": {
  "kernelspec": {
   "display_name": "Python 3 (ipykernel)",
   "language": "python",
   "name": "python3"
  },
  "language_info": {
   "codemirror_mode": {
    "name": "ipython",
    "version": 3
   },
   "file_extension": ".py",
   "mimetype": "text/x-python",
   "name": "python",
   "nbconvert_exporter": "python",
   "pygments_lexer": "ipython3",
   "version": "3.8.11"
  }
 },
 "nbformat": 4,
 "nbformat_minor": 5
}
